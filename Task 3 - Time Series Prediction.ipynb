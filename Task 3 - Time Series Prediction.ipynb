{
 "cells": [
  {
   "cell_type": "markdown",
   "id": "9e12b886",
   "metadata": {},
   "source": [
    "# Imports del notebook"
   ]
  },
  {
   "cell_type": "code",
   "execution_count": 1,
   "id": "bf554117",
   "metadata": {},
   "outputs": [],
   "source": [
    "import pickle\n",
    "import os\n",
    "\n",
    "from datetime import datetime\n",
    "import pandas as pd\n",
    "import numpy as np\n",
    "\n",
    "import matplotlib.pyplot as plt\n",
    "%matplotlib inline\n",
    "\n",
    "from sklearn.metrics import mean_squared_error\n",
    "from sklearn.preprocessing import OrdinalEncoder\n",
    "\n",
    "import xgboost as xgb\n",
    "\n",
    "from statsmodels.graphics.tsaplots import plot_acf, plot_pacf"
   ]
  },
  {
   "cell_type": "markdown",
   "id": "545170e7",
   "metadata": {},
   "source": [
    "# Variables globales"
   ]
  },
  {
   "cell_type": "code",
   "execution_count": 2,
   "id": "c13121ba",
   "metadata": {},
   "outputs": [
    {
     "name": "stdout",
     "output_type": "stream",
     "text": [
      "/Users/fer/Downloads/TFM\n"
     ]
    }
   ],
   "source": [
    "current_directory = os.getcwd()\n",
    "print(current_directory) "
   ]
  },
  {
   "cell_type": "code",
   "execution_count": 3,
   "id": "4de1b5b2",
   "metadata": {},
   "outputs": [],
   "source": [
    "### GLOBAL_VARIABLES\n",
    "DATA_PATH = \"/Users/fer/Downloads/TFM\"\n",
    "FILE_NAME = \"datasetsemana2.csv\""
   ]
  },
  {
   "cell_type": "code",
   "execution_count": 4,
   "id": "9d924fb8",
   "metadata": {},
   "outputs": [],
   "source": [
    "TRAIN_CSV_PATH = os.path.join(DATA_PATH, FILE_NAME)"
   ]
  },
  {
   "cell_type": "code",
   "execution_count": 5,
   "id": "d9ee7fc7",
   "metadata": {},
   "outputs": [
    {
     "data": {
      "text/plain": [
       "'/Users/fer/Downloads/TFM/datasetsemana2.csv'"
      ]
     },
     "execution_count": 5,
     "metadata": {},
     "output_type": "execute_result"
    }
   ],
   "source": [
    "TRAIN_CSV_PATH"
   ]
  },
  {
   "cell_type": "markdown",
   "id": "9a7d4e6c",
   "metadata": {},
   "source": [
    "# Funciones"
   ]
  },
  {
   "cell_type": "code",
   "execution_count": 6,
   "id": "125eef46",
   "metadata": {},
   "outputs": [],
   "source": [
    "def load_data(path_data_file):\n",
    "    '''\n",
    "    Loads the csv file for training.\n",
    "    '''\n",
    "    df = pd.read_csv(path_data_file, index_col = 0)\n",
    "    \n",
    "    return df"
   ]
  },
  {
   "cell_type": "markdown",
   "id": "62416a12",
   "metadata": {},
   "source": [
    "# Data Loading"
   ]
  },
  {
   "cell_type": "code",
   "execution_count": 19,
   "id": "2f6732d2",
   "metadata": {},
   "outputs": [
    {
     "data": {
      "text/html": [
       "<div>\n",
       "<style scoped>\n",
       "    .dataframe tbody tr th:only-of-type {\n",
       "        vertical-align: middle;\n",
       "    }\n",
       "\n",
       "    .dataframe tbody tr th {\n",
       "        vertical-align: top;\n",
       "    }\n",
       "\n",
       "    .dataframe thead th {\n",
       "        text-align: right;\n",
       "    }\n",
       "</style>\n",
       "<table border=\"1\" class=\"dataframe\">\n",
       "  <thead>\n",
       "    <tr style=\"text-align: right;\">\n",
       "      <th></th>\n",
       "      <th>id</th>\n",
       "      <th>item</th>\n",
       "      <th>category</th>\n",
       "      <th>department</th>\n",
       "      <th>store</th>\n",
       "      <th>store_code</th>\n",
       "      <th>region</th>\n",
       "      <th>date</th>\n",
       "      <th>unidades</th>\n",
       "      <th>event</th>\n",
       "      <th>year</th>\n",
       "      <th>yearweek</th>\n",
       "      <th>month</th>\n",
       "      <th>precio_imputado</th>\n",
       "      <th>ganancias_semana</th>\n",
       "    </tr>\n",
       "  </thead>\n",
       "  <tbody>\n",
       "    <tr>\n",
       "      <th>3277983</th>\n",
       "      <td>SUPERMARKET_3_169_BOS_1</td>\n",
       "      <td>SUPERMARKET_3_169</td>\n",
       "      <td>SUPERMARKET</td>\n",
       "      <td>SUPERMARKET_3</td>\n",
       "      <td>South_End</td>\n",
       "      <td>BOS_1</td>\n",
       "      <td>Boston</td>\n",
       "      <td>2015-12-20</td>\n",
       "      <td>9</td>\n",
       "      <td>0</td>\n",
       "      <td>2015</td>\n",
       "      <td>201550</td>\n",
       "      <td>12</td>\n",
       "      <td>4.7760</td>\n",
       "      <td>42.9840</td>\n",
       "    </tr>\n",
       "    <tr>\n",
       "      <th>2544480</th>\n",
       "      <td>SUPERMARKET_2_030_NYC_1</td>\n",
       "      <td>SUPERMARKET_2_030</td>\n",
       "      <td>SUPERMARKET</td>\n",
       "      <td>SUPERMARKET_2</td>\n",
       "      <td>Greenwich_Village</td>\n",
       "      <td>NYC_1</td>\n",
       "      <td>New York</td>\n",
       "      <td>2013-07-21</td>\n",
       "      <td>22</td>\n",
       "      <td>0</td>\n",
       "      <td>2013</td>\n",
       "      <td>201328</td>\n",
       "      <td>7</td>\n",
       "      <td>5.3760</td>\n",
       "      <td>118.2720</td>\n",
       "    </tr>\n",
       "    <tr>\n",
       "      <th>1393590</th>\n",
       "      <td>HOME_&amp;_GARDEN_1_462_NYC_2</td>\n",
       "      <td>HOME_&amp;_GARDEN_1_462</td>\n",
       "      <td>HOME_&amp;_GARDEN</td>\n",
       "      <td>HOME_&amp;_GARDEN_1</td>\n",
       "      <td>Harlem</td>\n",
       "      <td>NYC_2</td>\n",
       "      <td>New York</td>\n",
       "      <td>2014-01-05</td>\n",
       "      <td>10</td>\n",
       "      <td>1</td>\n",
       "      <td>2014</td>\n",
       "      <td>201400</td>\n",
       "      <td>1</td>\n",
       "      <td>2.9625</td>\n",
       "      <td>29.6250</td>\n",
       "    </tr>\n",
       "    <tr>\n",
       "      <th>1112204</th>\n",
       "      <td>HOME_&amp;_GARDEN_1_253_BOS_1</td>\n",
       "      <td>HOME_&amp;_GARDEN_1_253</td>\n",
       "      <td>HOME_&amp;_GARDEN</td>\n",
       "      <td>HOME_&amp;_GARDEN_1</td>\n",
       "      <td>South_End</td>\n",
       "      <td>BOS_1</td>\n",
       "      <td>Boston</td>\n",
       "      <td>2016-04-03</td>\n",
       "      <td>0</td>\n",
       "      <td>0</td>\n",
       "      <td>2016</td>\n",
       "      <td>201613</td>\n",
       "      <td>4</td>\n",
       "      <td>4.3375</td>\n",
       "      <td>0.0000</td>\n",
       "    </tr>\n",
       "    <tr>\n",
       "      <th>124684</th>\n",
       "      <td>ACCESORIES_1_094_BOS_2</td>\n",
       "      <td>ACCESORIES_1_094</td>\n",
       "      <td>ACCESORIES</td>\n",
       "      <td>ACCESORIES_1</td>\n",
       "      <td>Roxbury</td>\n",
       "      <td>BOS_2</td>\n",
       "      <td>Boston</td>\n",
       "      <td>2012-04-15</td>\n",
       "      <td>8</td>\n",
       "      <td>0</td>\n",
       "      <td>2012</td>\n",
       "      <td>201215</td>\n",
       "      <td>4</td>\n",
       "      <td>17.2501</td>\n",
       "      <td>138.0008</td>\n",
       "    </tr>\n",
       "  </tbody>\n",
       "</table>\n",
       "</div>"
      ],
      "text/plain": [
       "                                id                 item       category   \n",
       "3277983    SUPERMARKET_3_169_BOS_1    SUPERMARKET_3_169    SUPERMARKET  \\\n",
       "2544480    SUPERMARKET_2_030_NYC_1    SUPERMARKET_2_030    SUPERMARKET   \n",
       "1393590  HOME_&_GARDEN_1_462_NYC_2  HOME_&_GARDEN_1_462  HOME_&_GARDEN   \n",
       "1112204  HOME_&_GARDEN_1_253_BOS_1  HOME_&_GARDEN_1_253  HOME_&_GARDEN   \n",
       "124684      ACCESORIES_1_094_BOS_2     ACCESORIES_1_094     ACCESORIES   \n",
       "\n",
       "              department              store store_code    region        date   \n",
       "3277983    SUPERMARKET_3          South_End      BOS_1    Boston  2015-12-20  \\\n",
       "2544480    SUPERMARKET_2  Greenwich_Village      NYC_1  New York  2013-07-21   \n",
       "1393590  HOME_&_GARDEN_1             Harlem      NYC_2  New York  2014-01-05   \n",
       "1112204  HOME_&_GARDEN_1          South_End      BOS_1    Boston  2016-04-03   \n",
       "124684      ACCESORIES_1            Roxbury      BOS_2    Boston  2012-04-15   \n",
       "\n",
       "         unidades  event  year  yearweek  month  precio_imputado   \n",
       "3277983         9      0  2015    201550     12           4.7760  \\\n",
       "2544480        22      0  2013    201328      7           5.3760   \n",
       "1393590        10      1  2014    201400      1           2.9625   \n",
       "1112204         0      0  2016    201613      4           4.3375   \n",
       "124684          8      0  2012    201215      4          17.2501   \n",
       "\n",
       "         ganancias_semana  \n",
       "3277983           42.9840  \n",
       "2544480          118.2720  \n",
       "1393590           29.6250  \n",
       "1112204            0.0000  \n",
       "124684           138.0008  "
      ]
     },
     "execution_count": 19,
     "metadata": {},
     "output_type": "execute_result"
    }
   ],
   "source": [
    "df = load_data(path_data_file = TRAIN_CSV_PATH)\n",
    "df.sample(5)"
   ]
  },
  {
   "cell_type": "code",
   "execution_count": 20,
   "id": "48c6b543",
   "metadata": {},
   "outputs": [
    {
     "name": "stdout",
     "output_type": "stream",
     "text": [
      "<class 'pandas.core.frame.DataFrame'>\n",
      "Index: 4177107 entries, 0 to 4177106\n",
      "Data columns (total 15 columns):\n",
      " #   Column            Dtype  \n",
      "---  ------            -----  \n",
      " 0   id                object \n",
      " 1   item              object \n",
      " 2   category          object \n",
      " 3   department        object \n",
      " 4   store             object \n",
      " 5   store_code        object \n",
      " 6   region            object \n",
      " 7   date              object \n",
      " 8   unidades          int64  \n",
      " 9   event             int64  \n",
      " 10  year              int64  \n",
      " 11  yearweek          int64  \n",
      " 12  month             int64  \n",
      " 13  precio_imputado   float64\n",
      " 14  ganancias_semana  float64\n",
      "dtypes: float64(2), int64(5), object(8)\n",
      "memory usage: 509.9+ MB\n"
     ]
    }
   ],
   "source": [
    "#Tipo de datos del dataset\n",
    "df.info()"
   ]
  },
  {
   "cell_type": "code",
   "execution_count": 21,
   "id": "c0ebb5f5",
   "metadata": {},
   "outputs": [
    {
     "data": {
      "text/plain": [
       "department       7\n",
       "store_code      10\n",
       "item          3049\n",
       "dtype: int64"
      ]
     },
     "execution_count": 21,
     "metadata": {},
     "output_type": "execute_result"
    }
   ],
   "source": [
    "#Veamos cuantas series temporales tiene el dataset\n",
    "df[['department', 'store_code', 'item']].nunique()"
   ]
  },
  {
   "cell_type": "code",
   "execution_count": 22,
   "id": "298ec992",
   "metadata": {},
   "outputs": [
    {
     "data": {
      "text/plain": [
       "30490"
      ]
     },
     "execution_count": 22,
     "metadata": {},
     "output_type": "execute_result"
    }
   ],
   "source": [
    "df[['department', 'store_code', 'item']].drop_duplicates().shape[0]"
   ]
  },
  {
   "cell_type": "code",
   "execution_count": 23,
   "id": "75feb5ab",
   "metadata": {},
   "outputs": [
    {
     "data": {
      "text/plain": [
       "30490"
      ]
     },
     "execution_count": 23,
     "metadata": {},
     "output_type": "execute_result"
    }
   ],
   "source": [
    "df['id'].nunique()"
   ]
  },
  {
   "cell_type": "code",
   "execution_count": 24,
   "id": "3d6878b4",
   "metadata": {},
   "outputs": [
    {
     "name": "stdout",
     "output_type": "stream",
     "text": [
      "2011-01-30\n",
      "2016-04-24\n"
     ]
    }
   ],
   "source": [
    "#Identificamos la fecha min y max\n",
    "MIN_DATE = df[\"date\"].min()\n",
    "MAX_DATE = df[\"date\"].max()\n",
    "print(MIN_DATE)\n",
    "print(MAX_DATE)"
   ]
  },
  {
   "cell_type": "markdown",
   "id": "550e0915",
   "metadata": {},
   "source": [
    "# Agrupación de las ventas por semana"
   ]
  },
  {
   "cell_type": "code",
   "execution_count": 25,
   "id": "a50fbb09",
   "metadata": {},
   "outputs": [
    {
     "data": {
      "text/html": [
       "<div>\n",
       "<style scoped>\n",
       "    .dataframe tbody tr th:only-of-type {\n",
       "        vertical-align: middle;\n",
       "    }\n",
       "\n",
       "    .dataframe tbody tr th {\n",
       "        vertical-align: top;\n",
       "    }\n",
       "\n",
       "    .dataframe thead th {\n",
       "        text-align: right;\n",
       "    }\n",
       "</style>\n",
       "<table border=\"1\" class=\"dataframe\">\n",
       "  <thead>\n",
       "    <tr style=\"text-align: right;\">\n",
       "      <th></th>\n",
       "      <th>id</th>\n",
       "      <th>item</th>\n",
       "      <th>category</th>\n",
       "      <th>department</th>\n",
       "      <th>store</th>\n",
       "      <th>store_code</th>\n",
       "      <th>region</th>\n",
       "      <th>date</th>\n",
       "      <th>unidades</th>\n",
       "      <th>event</th>\n",
       "      <th>year</th>\n",
       "      <th>yearweek</th>\n",
       "      <th>month</th>\n",
       "      <th>precio_imputado</th>\n",
       "      <th>ganancias_semana</th>\n",
       "    </tr>\n",
       "  </thead>\n",
       "  <tbody>\n",
       "    <tr>\n",
       "      <th>1140325</th>\n",
       "      <td>HOME_&amp;_GARDEN_1_274_NYC_3</td>\n",
       "      <td>HOME_&amp;_GARDEN_1_274</td>\n",
       "      <td>HOME_&amp;_GARDEN</td>\n",
       "      <td>HOME_&amp;_GARDEN_1</td>\n",
       "      <td>Tribeca</td>\n",
       "      <td>NYC_3</td>\n",
       "      <td>New York</td>\n",
       "      <td>2013-05-05</td>\n",
       "      <td>0</td>\n",
       "      <td>0</td>\n",
       "      <td>2013</td>\n",
       "      <td>201317</td>\n",
       "      <td>5</td>\n",
       "      <td>6.175</td>\n",
       "      <td>0.000</td>\n",
       "    </tr>\n",
       "    <tr>\n",
       "      <th>3162018</th>\n",
       "      <td>SUPERMARKET_3_084_BOS_3</td>\n",
       "      <td>SUPERMARKET_3_084</td>\n",
       "      <td>SUPERMARKET</td>\n",
       "      <td>SUPERMARKET_3</td>\n",
       "      <td>Back_Bay</td>\n",
       "      <td>BOS_3</td>\n",
       "      <td>Boston</td>\n",
       "      <td>2013-06-02</td>\n",
       "      <td>0</td>\n",
       "      <td>0</td>\n",
       "      <td>2013</td>\n",
       "      <td>201321</td>\n",
       "      <td>6</td>\n",
       "      <td>2.376</td>\n",
       "      <td>0.000</td>\n",
       "    </tr>\n",
       "    <tr>\n",
       "      <th>2444628</th>\n",
       "      <td>SUPERMARKET_1_176_NYC_1</td>\n",
       "      <td>SUPERMARKET_1_176</td>\n",
       "      <td>SUPERMARKET</td>\n",
       "      <td>SUPERMARKET_1</td>\n",
       "      <td>Greenwich_Village</td>\n",
       "      <td>NYC_1</td>\n",
       "      <td>New York</td>\n",
       "      <td>2013-03-03</td>\n",
       "      <td>7</td>\n",
       "      <td>0</td>\n",
       "      <td>2013</td>\n",
       "      <td>201308</td>\n",
       "      <td>3</td>\n",
       "      <td>3.888</td>\n",
       "      <td>27.216</td>\n",
       "    </tr>\n",
       "    <tr>\n",
       "      <th>2486490</th>\n",
       "      <td>SUPERMARKET_1_206_PHI_3</td>\n",
       "      <td>SUPERMARKET_1_206</td>\n",
       "      <td>SUPERMARKET</td>\n",
       "      <td>SUPERMARKET_1</td>\n",
       "      <td>Queen_Village</td>\n",
       "      <td>PHI_3</td>\n",
       "      <td>Philadelphia</td>\n",
       "      <td>2014-02-16</td>\n",
       "      <td>3</td>\n",
       "      <td>0</td>\n",
       "      <td>2014</td>\n",
       "      <td>201406</td>\n",
       "      <td>2</td>\n",
       "      <td>2.736</td>\n",
       "      <td>8.208</td>\n",
       "    </tr>\n",
       "    <tr>\n",
       "      <th>3404255</th>\n",
       "      <td>SUPERMARKET_3_261_NYC_1</td>\n",
       "      <td>SUPERMARKET_3_261</td>\n",
       "      <td>SUPERMARKET</td>\n",
       "      <td>SUPERMARKET_3</td>\n",
       "      <td>Greenwich_Village</td>\n",
       "      <td>NYC_1</td>\n",
       "      <td>New York</td>\n",
       "      <td>2012-02-26</td>\n",
       "      <td>4</td>\n",
       "      <td>0</td>\n",
       "      <td>2012</td>\n",
       "      <td>201208</td>\n",
       "      <td>2</td>\n",
       "      <td>5.376</td>\n",
       "      <td>21.504</td>\n",
       "    </tr>\n",
       "  </tbody>\n",
       "</table>\n",
       "</div>"
      ],
      "text/plain": [
       "                                id                 item       category   \n",
       "1140325  HOME_&_GARDEN_1_274_NYC_3  HOME_&_GARDEN_1_274  HOME_&_GARDEN  \\\n",
       "3162018    SUPERMARKET_3_084_BOS_3    SUPERMARKET_3_084    SUPERMARKET   \n",
       "2444628    SUPERMARKET_1_176_NYC_1    SUPERMARKET_1_176    SUPERMARKET   \n",
       "2486490    SUPERMARKET_1_206_PHI_3    SUPERMARKET_1_206    SUPERMARKET   \n",
       "3404255    SUPERMARKET_3_261_NYC_1    SUPERMARKET_3_261    SUPERMARKET   \n",
       "\n",
       "              department              store store_code        region   \n",
       "1140325  HOME_&_GARDEN_1            Tribeca      NYC_3      New York  \\\n",
       "3162018    SUPERMARKET_3           Back_Bay      BOS_3        Boston   \n",
       "2444628    SUPERMARKET_1  Greenwich_Village      NYC_1      New York   \n",
       "2486490    SUPERMARKET_1      Queen_Village      PHI_3  Philadelphia   \n",
       "3404255    SUPERMARKET_3  Greenwich_Village      NYC_1      New York   \n",
       "\n",
       "               date  unidades  event  year  yearweek  month  precio_imputado   \n",
       "1140325  2013-05-05         0      0  2013    201317      5            6.175  \\\n",
       "3162018  2013-06-02         0      0  2013    201321      6            2.376   \n",
       "2444628  2013-03-03         7      0  2013    201308      3            3.888   \n",
       "2486490  2014-02-16         3      0  2014    201406      2            2.736   \n",
       "3404255  2012-02-26         4      0  2012    201208      2            5.376   \n",
       "\n",
       "         ganancias_semana  \n",
       "1140325             0.000  \n",
       "3162018             0.000  \n",
       "2444628            27.216  \n",
       "2486490             8.208  \n",
       "3404255            21.504  "
      ]
     },
     "execution_count": 25,
     "metadata": {},
     "output_type": "execute_result"
    }
   ],
   "source": [
    "df.sample(5)"
   ]
  },
  {
   "cell_type": "markdown",
   "id": "281008d7",
   "metadata": {},
   "source": [
    "A continuación vamos a agrupar las ventas diarias por semana, en función de cada shop_id e item_id (groupby).\n",
    "\n",
    "Dado que vamos a entrenar nuestro modelo con variables semanales, aprovechamos la operación para constuir un total de 3 variables:\n",
    "\n",
    "Ingresos totales (precio x cantidad)\n",
    "Semanas únicas que tuvieron ventas\n",
    "Total transacciones de la semana"
   ]
  },
  {
   "cell_type": "code",
   "execution_count": 26,
   "id": "13dc7fce",
   "metadata": {},
   "outputs": [],
   "source": [
    "df[\"revenue\"] = df[\"precio_imputado\"] * df[\"unidades\"]\n",
    "df[\"semanas_unicas_con_ventas\"] = df[\"date\"]\n",
    "df[\"total_transactions\"] = df[\"unidades\"]"
   ]
  },
  {
   "cell_type": "code",
   "execution_count": 27,
   "id": "7fb1164b",
   "metadata": {},
   "outputs": [],
   "source": [
    "df['date'] = pd.to_datetime(df['date'])"
   ]
  },
  {
   "cell_type": "code",
   "execution_count": 28,
   "id": "71c0ff11",
   "metadata": {},
   "outputs": [],
   "source": [
    "df.set_index('date', inplace=True)"
   ]
  },
  {
   "cell_type": "code",
   "execution_count": 29,
   "id": "2b6ee343",
   "metadata": {},
   "outputs": [
    {
     "data": {
      "text/plain": [
       "<Axes: title={'center': 'Weekly Sales'}, xlabel='date'>"
      ]
     },
     "execution_count": 29,
     "metadata": {},
     "output_type": "execute_result"
    },
    {
     "data": {
      "image/png": "[encoded data removed]",
      "text/plain": [
       "<Figure size 1200x500 with 1 Axes>"
      ]
     },
     "metadata": {},
     "output_type": "display_data"
    }
   ],
   "source": [
    "df.resample('W')['unidades'].sum().plot(figsize=(12, 5), title='Weekly Sales')"
   ]
  },
  {
   "cell_type": "code",
   "execution_count": 30,
   "id": "3576d6cf",
   "metadata": {},
   "outputs": [],
   "source": [
    "df_week_agg = df.groupby([\"id\"]).resample(\"W\").agg(\n",
    "    {\n",
    "        \"unidades\":np.sum,\n",
    "        \"semanas_unicas_con_ventas\":lambda dates: len(set(dates)),\n",
    "        \"total_transactions\":len,\n",
    "    }\n",
    ").reset_index()"
   ]
  },
  {
   "cell_type": "code",
   "execution_count": 31,
   "id": "7af7475f",
   "metadata": {},
   "outputs": [
    {
     "name": "stdout",
     "output_type": "stream",
     "text": [
      "<class 'pandas.core.frame.DataFrame'>\n",
      "RangeIndex: 8293558 entries, 0 to 8293557\n",
      "Data columns (total 5 columns):\n",
      " #   Column                     Dtype         \n",
      "---  ------                     -----         \n",
      " 0   id                         object        \n",
      " 1   date                       datetime64[ns]\n",
      " 2   unidades                   int64         \n",
      " 3   semanas_unicas_con_ventas  int64         \n",
      " 4   total_transactions         int64         \n",
      "dtypes: datetime64[ns](1), int64(3), object(1)\n",
      "memory usage: 316.4+ MB\n"
     ]
    }
   ],
   "source": [
    "df_week_agg.info()"
   ]
  },
  {
   "cell_type": "code",
   "execution_count": 34,
   "id": "734066bd",
   "metadata": {},
   "outputs": [],
   "source": [
    "df_week_agg[\"CHECK\"] = df_week_agg[\"semanas_unicas_con_ventas\"] == df_week_agg[\"total_transactions\"]"
   ]
  },
  {
   "cell_type": "code",
   "execution_count": 35,
   "id": "a74cd6ec",
   "metadata": {},
   "outputs": [
    {
     "data": {
      "text/html": [
       "<div>\n",
       "<style scoped>\n",
       "    .dataframe tbody tr th:only-of-type {\n",
       "        vertical-align: middle;\n",
       "    }\n",
       "\n",
       "    .dataframe tbody tr th {\n",
       "        vertical-align: top;\n",
       "    }\n",
       "\n",
       "    .dataframe thead th {\n",
       "        text-align: right;\n",
       "    }\n",
       "</style>\n",
       "<table border=\"1\" class=\"dataframe\">\n",
       "  <thead>\n",
       "    <tr style=\"text-align: right;\">\n",
       "      <th></th>\n",
       "      <th>id</th>\n",
       "      <th>date</th>\n",
       "      <th>unidades</th>\n",
       "      <th>semanas_unicas_con_ventas</th>\n",
       "      <th>total_transactions</th>\n",
       "      <th>CHECK</th>\n",
       "    </tr>\n",
       "  </thead>\n",
       "  <tbody>\n",
       "    <tr>\n",
       "      <th>6401718</th>\n",
       "      <td>SUPERMARKET_3_129_NYC_3</td>\n",
       "      <td>2013-01-06</td>\n",
       "      <td>0</td>\n",
       "      <td>1</td>\n",
       "      <td>1</td>\n",
       "      <td>True</td>\n",
       "    </tr>\n",
       "    <tr>\n",
       "      <th>4455418</th>\n",
       "      <td>SUPERMARKET_1_027_PHI_3</td>\n",
       "      <td>2014-04-13</td>\n",
       "      <td>0</td>\n",
       "      <td>0</td>\n",
       "      <td>0</td>\n",
       "      <td>True</td>\n",
       "    </tr>\n",
       "    <tr>\n",
       "      <th>6389055</th>\n",
       "      <td>SUPERMARKET_3_124_PHI_2</td>\n",
       "      <td>2015-04-19</td>\n",
       "      <td>0</td>\n",
       "      <td>0</td>\n",
       "      <td>0</td>\n",
       "      <td>True</td>\n",
       "    </tr>\n",
       "    <tr>\n",
       "      <th>2120957</th>\n",
       "      <td>HOME_&amp;_GARDEN_1_219_PHI_1</td>\n",
       "      <td>2012-04-01</td>\n",
       "      <td>0</td>\n",
       "      <td>0</td>\n",
       "      <td>0</td>\n",
       "      <td>True</td>\n",
       "    </tr>\n",
       "    <tr>\n",
       "      <th>6021748</th>\n",
       "      <td>SUPERMARKET_2_387_PHI_2</td>\n",
       "      <td>2011-10-09</td>\n",
       "      <td>0</td>\n",
       "      <td>1</td>\n",
       "      <td>1</td>\n",
       "      <td>True</td>\n",
       "    </tr>\n",
       "  </tbody>\n",
       "</table>\n",
       "</div>"
      ],
      "text/plain": [
       "                                id       date  unidades   \n",
       "6401718    SUPERMARKET_3_129_NYC_3 2013-01-06         0  \\\n",
       "4455418    SUPERMARKET_1_027_PHI_3 2014-04-13         0   \n",
       "6389055    SUPERMARKET_3_124_PHI_2 2015-04-19         0   \n",
       "2120957  HOME_&_GARDEN_1_219_PHI_1 2012-04-01         0   \n",
       "6021748    SUPERMARKET_2_387_PHI_2 2011-10-09         0   \n",
       "\n",
       "         semanas_unicas_con_ventas  total_transactions  CHECK  \n",
       "6401718                          1                   1   True  \n",
       "4455418                          0                   0   True  \n",
       "6389055                          0                   0   True  \n",
       "2120957                          0                   0   True  \n",
       "6021748                          1                   1   True  "
      ]
     },
     "execution_count": 35,
     "metadata": {},
     "output_type": "execute_result"
    }
   ],
   "source": [
    "df_week_agg.sample(5)"
   ]
  },
  {
   "cell_type": "code",
   "execution_count": 36,
   "id": "336aa4e3",
   "metadata": {},
   "outputs": [
    {
     "data": {
      "text/html": [
       "<div>\n",
       "<style scoped>\n",
       "    .dataframe tbody tr th:only-of-type {\n",
       "        vertical-align: middle;\n",
       "    }\n",
       "\n",
       "    .dataframe tbody tr th {\n",
       "        vertical-align: top;\n",
       "    }\n",
       "\n",
       "    .dataframe thead th {\n",
       "        text-align: right;\n",
       "    }\n",
       "</style>\n",
       "<table border=\"1\" class=\"dataframe\">\n",
       "  <thead>\n",
       "    <tr style=\"text-align: right;\">\n",
       "      <th></th>\n",
       "      <th>id</th>\n",
       "      <th>date</th>\n",
       "      <th>unidades</th>\n",
       "      <th>semanas_unicas_con_ventas</th>\n",
       "      <th>total_transactions</th>\n",
       "      <th>CHECK</th>\n",
       "    </tr>\n",
       "  </thead>\n",
       "  <tbody>\n",
       "  </tbody>\n",
       "</table>\n",
       "</div>"
      ],
      "text/plain": [
       "Empty DataFrame\n",
       "Columns: [id, date, unidades, semanas_unicas_con_ventas, total_transactions, CHECK]\n",
       "Index: []"
      ]
     },
     "execution_count": 36,
     "metadata": {},
     "output_type": "execute_result"
    }
   ],
   "source": [
    "df_week_agg[df_week_agg[\"CHECK\"] == False]"
   ]
  },
  {
   "cell_type": "code",
   "execution_count": 37,
   "id": "2295332c",
   "metadata": {},
   "outputs": [
    {
     "data": {
      "text/plain": [
       "32822341"
      ]
     },
     "execution_count": 37,
     "metadata": {},
     "output_type": "execute_result"
    }
   ],
   "source": [
    "df['unidades'].sum()"
   ]
  },
  {
   "cell_type": "code",
   "execution_count": 38,
   "id": "ab4009a0",
   "metadata": {},
   "outputs": [
    {
     "data": {
      "text/plain": [
       "32822341"
      ]
     },
     "execution_count": 38,
     "metadata": {},
     "output_type": "execute_result"
    }
   ],
   "source": [
    "df_week_agg['unidades'].sum()"
   ]
  },
  {
   "cell_type": "code",
   "execution_count": 39,
   "id": "e56a3c96",
   "metadata": {},
   "outputs": [],
   "source": [
    "df_week_agg = df_week_agg.rename(columns={'unidades': 'ventas_semanales'})\n"
   ]
  },
  {
   "cell_type": "markdown",
   "id": "7266c9d3",
   "metadata": {},
   "source": [
    "# Comprobación de si tenemos todas las semanas en nuestro dataset"
   ]
  },
  {
   "cell_type": "code",
   "execution_count": 40,
   "id": "275575ef",
   "metadata": {},
   "outputs": [],
   "source": [
    "from datetime import datetime\n",
    "from dateutil.relativedelta import relativedelta"
   ]
  },
  {
   "cell_type": "code",
   "execution_count": 41,
   "id": "e30d036b",
   "metadata": {},
   "outputs": [
    {
     "name": "stdout",
     "output_type": "stream",
     "text": [
      "2011-01-30 00:00:00\n",
      "2016-04-24 00:00:00\n"
     ]
    }
   ],
   "source": [
    "start_date = pd.to_datetime(MIN_DATE)\n",
    "end_date = pd.to_datetime(MAX_DATE)\n",
    "print(start_date)\n",
    "print(end_date)"
   ]
  },
  {
   "cell_type": "code",
   "execution_count": 42,
   "id": "5d2278f3",
   "metadata": {},
   "outputs": [
    {
     "data": {
      "text/plain": [
       "274"
      ]
     },
     "execution_count": 42,
     "metadata": {},
     "output_type": "execute_result"
    }
   ],
   "source": [
    "#Verificamos cuantas semanas debemos tener notificadas\n",
    "# Calcula la diferencia en días entre las fechas\n",
    "import math\n",
    "\n",
    "diferencia = end_date - start_date\n",
    "dias = diferencia.days\n",
    "\n",
    "# Convierte los días en semanas, redondeando hacia arriba\n",
    "semanas = math.ceil(dias / 7)+1\n",
    "semanas"
   ]
  },
  {
   "cell_type": "code",
   "execution_count": 43,
   "id": "02214538",
   "metadata": {},
   "outputs": [
    {
     "data": {
      "text/plain": [
       "id\n",
       "SUPERMARKET_2_110_PHI_1      274\n",
       "HOME_&_GARDEN_2_120_PHI_2    271\n",
       "SUPERMARKET_3_479_NYC_3      274\n",
       "dtype: int64"
      ]
     },
     "execution_count": 43,
     "metadata": {},
     "output_type": "execute_result"
    }
   ],
   "source": [
    "check_weeks = df_week_agg.groupby(\"id\").size()\n",
    "check_weeks.sample(3)"
   ]
  },
  {
   "cell_type": "code",
   "execution_count": 44,
   "id": "112cea62",
   "metadata": {},
   "outputs": [
    {
     "data": {
      "text/plain": [
       "(22848,)"
      ]
     },
     "execution_count": 44,
     "metadata": {},
     "output_type": "execute_result"
    }
   ],
   "source": [
    "check_weeks[check_weeks != 274].shape"
   ]
  },
  {
   "cell_type": "code",
   "execution_count": 45,
   "id": "d6acd958",
   "metadata": {},
   "outputs": [
    {
     "data": {
      "text/plain": [
       "(30490,)"
      ]
     },
     "execution_count": 45,
     "metadata": {},
     "output_type": "execute_result"
    }
   ],
   "source": [
    "check_weeks.shape"
   ]
  },
  {
   "cell_type": "markdown",
   "id": "0417d0e2",
   "metadata": {},
   "source": [
    "Tenemos 22848 series sin todos los meses informados\n",
    "\n",
    "Como la predición la tenemos que realizar de 4 semanas, vamos a ir añadiendo las semanas de una en una"
   ]
  },
  {
   "cell_type": "code",
   "execution_count": 46,
   "id": "aa64aaf3",
   "metadata": {},
   "outputs": [
    {
     "data": {
      "text/plain": [
       "DatetimeIndex(['2011-01-30', '2011-02-06', '2011-02-13', '2011-02-20',\n",
       "               '2011-02-27', '2011-03-06', '2011-03-13', '2011-03-20',\n",
       "               '2011-03-27', '2011-04-03',\n",
       "               ...\n",
       "               '2016-02-28', '2016-03-06', '2016-03-13', '2016-03-20',\n",
       "               '2016-03-27', '2016-04-03', '2016-04-10', '2016-04-17',\n",
       "               '2016-04-24', '2016-05-01'],\n",
       "              dtype='datetime64[ns]', length=275, freq='W-SUN')"
      ]
     },
     "execution_count": 46,
     "metadata": {},
     "output_type": "execute_result"
    }
   ],
   "source": [
    "# generamos un rango con todas las fechas incluídas en el predict\n",
    "DATE_PREDICTION = np.datetime64(\"2016-05-01\")\n",
    "date_range = pd.date_range(MIN_DATE, DATE_PREDICTION, freq = \"W\")\n",
    "date_range"
   ]
  },
  {
   "cell_type": "code",
   "execution_count": 47,
   "id": "93200d31",
   "metadata": {},
   "outputs": [
    {
     "data": {
      "text/plain": [
       "['ACCESORIES_1_001_BOS_1', 'ACCESORIES_1_001_BOS_2', 'ACCESORIES_1_001_BOS_3']"
      ]
     },
     "execution_count": 47,
     "metadata": {},
     "output_type": "execute_result"
    }
   ],
   "source": [
    "# sacamos todas las combinaciones únicas que tenemos en nuestro dataframe (30490 combinaciones, una por cada serie temporal)\n",
    "unique_id = sorted(df_week_agg[\"id\"].unique())\n",
    "unique_id[:3]"
   ]
  },
  {
   "cell_type": "code",
   "execution_count": 48,
   "id": "ad46e9c2",
   "metadata": {},
   "outputs": [
    {
     "data": {
      "text/plain": [
       "30490"
      ]
     },
     "execution_count": 48,
     "metadata": {},
     "output_type": "execute_result"
    }
   ],
   "source": [
    "len(unique_id)"
   ]
  },
  {
   "cell_type": "markdown",
   "id": "d27276da",
   "metadata": {},
   "source": [
    "Generamos todas las combinaciones entre semanas e unique_id.\n",
    "\n",
    "Es decir, necesitamos sacar un producto cartesiano."
   ]
  },
  {
   "cell_type": "code",
   "execution_count": 49,
   "id": "5df7e7c4",
   "metadata": {},
   "outputs": [
    {
     "data": {
      "text/plain": [
       "8384750"
      ]
     },
     "execution_count": 49,
     "metadata": {},
     "output_type": "execute_result"
    }
   ],
   "source": [
    "cartesian_product = pd.MultiIndex.from_product([date_range, unique_id], names = [\"date\", \"id\"])\n",
    "len(cartesian_product)"
   ]
  },
  {
   "cell_type": "code",
   "execution_count": 50,
   "id": "3a5c97ff",
   "metadata": {},
   "outputs": [
    {
     "data": {
      "text/plain": [
       "8384750"
      ]
     },
     "execution_count": 50,
     "metadata": {},
     "output_type": "execute_result"
    }
   ],
   "source": [
    "# 8384750 son 275 semanas por todas las combinaciones de unique_id\n",
    "275 * 30490\n"
   ]
  },
  {
   "cell_type": "markdown",
   "id": "a09d1472",
   "metadata": {},
   "source": [
    "Cruzamos nuestro producto cartesiano con el dataframe agrupado por semanas y que contiene las ventas históricas."
   ]
  },
  {
   "cell_type": "code",
   "execution_count": 51,
   "id": "593c7964",
   "metadata": {},
   "outputs": [
    {
     "name": "stdout",
     "output_type": "stream",
     "text": [
      "(8384750, 2)\n",
      "(8384750, 6)\n"
     ]
    }
   ],
   "source": [
    "full_df = pd.DataFrame(index = cartesian_product).reset_index()\n",
    "\n",
    "print(full_df.shape)\n",
    "\n",
    "full_df = pd.merge(full_df, df_week_agg, on = ['date','id'], how = 'left')\n",
    "\n",
    "print(full_df.shape)"
   ]
  },
  {
   "cell_type": "code",
   "execution_count": 52,
   "id": "8770eeda",
   "metadata": {},
   "outputs": [
    {
     "data": {
      "text/html": [
       "<div>\n",
       "<style scoped>\n",
       "    .dataframe tbody tr th:only-of-type {\n",
       "        vertical-align: middle;\n",
       "    }\n",
       "\n",
       "    .dataframe tbody tr th {\n",
       "        vertical-align: top;\n",
       "    }\n",
       "\n",
       "    .dataframe thead th {\n",
       "        text-align: right;\n",
       "    }\n",
       "</style>\n",
       "<table border=\"1\" class=\"dataframe\">\n",
       "  <thead>\n",
       "    <tr style=\"text-align: right;\">\n",
       "      <th></th>\n",
       "      <th>date</th>\n",
       "      <th>id</th>\n",
       "      <th>ventas_semanales</th>\n",
       "      <th>semanas_unicas_con_ventas</th>\n",
       "      <th>total_transactions</th>\n",
       "      <th>CHECK</th>\n",
       "    </tr>\n",
       "  </thead>\n",
       "  <tbody>\n",
       "    <tr>\n",
       "      <th>6874271</th>\n",
       "      <td>2015-05-24</td>\n",
       "      <td>HOME_&amp;_GARDEN_2_307_BOS_2</td>\n",
       "      <td>0.0</td>\n",
       "      <td>0.0</td>\n",
       "      <td>0.0</td>\n",
       "      <td>True</td>\n",
       "    </tr>\n",
       "    <tr>\n",
       "      <th>6208849</th>\n",
       "      <td>2014-12-21</td>\n",
       "      <td>SUPERMARKET_2_111_PHI_3</td>\n",
       "      <td>0.0</td>\n",
       "      <td>0.0</td>\n",
       "      <td>0.0</td>\n",
       "      <td>True</td>\n",
       "    </tr>\n",
       "    <tr>\n",
       "      <th>903807</th>\n",
       "      <td>2011-08-21</td>\n",
       "      <td>SUPERMARKET_2_133_PHI_1</td>\n",
       "      <td>0.0</td>\n",
       "      <td>1.0</td>\n",
       "      <td>1.0</td>\n",
       "      <td>True</td>\n",
       "    </tr>\n",
       "    <tr>\n",
       "      <th>1658827</th>\n",
       "      <td>2012-02-12</td>\n",
       "      <td>HOME_&amp;_GARDEN_2_140_PHI_1</td>\n",
       "      <td>2.0</td>\n",
       "      <td>1.0</td>\n",
       "      <td>1.0</td>\n",
       "      <td>True</td>\n",
       "    </tr>\n",
       "    <tr>\n",
       "      <th>3826460</th>\n",
       "      <td>2013-06-23</td>\n",
       "      <td>HOME_&amp;_GARDEN_2_426_BOS_1</td>\n",
       "      <td>0.0</td>\n",
       "      <td>0.0</td>\n",
       "      <td>0.0</td>\n",
       "      <td>True</td>\n",
       "    </tr>\n",
       "  </tbody>\n",
       "</table>\n",
       "</div>"
      ],
      "text/plain": [
       "              date                         id  ventas_semanales   \n",
       "6874271 2015-05-24  HOME_&_GARDEN_2_307_BOS_2               0.0  \\\n",
       "6208849 2014-12-21    SUPERMARKET_2_111_PHI_3               0.0   \n",
       "903807  2011-08-21    SUPERMARKET_2_133_PHI_1               0.0   \n",
       "1658827 2012-02-12  HOME_&_GARDEN_2_140_PHI_1               2.0   \n",
       "3826460 2013-06-23  HOME_&_GARDEN_2_426_BOS_1               0.0   \n",
       "\n",
       "         semanas_unicas_con_ventas  total_transactions CHECK  \n",
       "6874271                        0.0                 0.0  True  \n",
       "6208849                        0.0                 0.0  True  \n",
       "903807                         1.0                 1.0  True  \n",
       "1658827                        1.0                 1.0  True  \n",
       "3826460                        0.0                 0.0  True  "
      ]
     },
     "execution_count": 52,
     "metadata": {},
     "output_type": "execute_result"
    }
   ],
   "source": [
    "full_df.sample(5)"
   ]
  },
  {
   "cell_type": "code",
   "execution_count": 53,
   "id": "f33415bb",
   "metadata": {},
   "outputs": [
    {
     "name": "stdout",
     "output_type": "stream",
     "text": [
      "<class 'pandas.core.frame.DataFrame'>\n",
      "RangeIndex: 8384750 entries, 0 to 8384749\n",
      "Data columns (total 6 columns):\n",
      " #   Column                     Dtype         \n",
      "---  ------                     -----         \n",
      " 0   date                       datetime64[ns]\n",
      " 1   id                         object        \n",
      " 2   ventas_semanales           float64       \n",
      " 3   semanas_unicas_con_ventas  float64       \n",
      " 4   total_transactions         float64       \n",
      " 5   CHECK                      object        \n",
      "dtypes: datetime64[ns](1), float64(3), object(2)\n",
      "memory usage: 383.8+ MB\n"
     ]
    }
   ],
   "source": [
    "full_df.info()"
   ]
  },
  {
   "cell_type": "code",
   "execution_count": 54,
   "id": "55326c8b",
   "metadata": {},
   "outputs": [
    {
     "data": {
      "text/html": [
       "<div>\n",
       "<style scoped>\n",
       "    .dataframe tbody tr th:only-of-type {\n",
       "        vertical-align: middle;\n",
       "    }\n",
       "\n",
       "    .dataframe tbody tr th {\n",
       "        vertical-align: top;\n",
       "    }\n",
       "\n",
       "    .dataframe thead th {\n",
       "        text-align: right;\n",
       "    }\n",
       "</style>\n",
       "<table border=\"1\" class=\"dataframe\">\n",
       "  <thead>\n",
       "    <tr style=\"text-align: right;\">\n",
       "      <th></th>\n",
       "      <th>id</th>\n",
       "      <th>item</th>\n",
       "      <th>category</th>\n",
       "      <th>department</th>\n",
       "      <th>store</th>\n",
       "      <th>store_code</th>\n",
       "      <th>region</th>\n",
       "    </tr>\n",
       "  </thead>\n",
       "  <tbody>\n",
       "    <tr>\n",
       "      <th>0</th>\n",
       "      <td>ACCESORIES_1_001_BOS_1</td>\n",
       "      <td>ACCESORIES_1_001</td>\n",
       "      <td>ACCESORIES</td>\n",
       "      <td>ACCESORIES_1</td>\n",
       "      <td>South_End</td>\n",
       "      <td>BOS_1</td>\n",
       "      <td>Boston</td>\n",
       "    </tr>\n",
       "    <tr>\n",
       "      <th>140</th>\n",
       "      <td>ACCESORIES_1_001_BOS_2</td>\n",
       "      <td>ACCESORIES_1_001</td>\n",
       "      <td>ACCESORIES</td>\n",
       "      <td>ACCESORIES_1</td>\n",
       "      <td>Roxbury</td>\n",
       "      <td>BOS_2</td>\n",
       "      <td>Boston</td>\n",
       "    </tr>\n",
       "    <tr>\n",
       "      <th>285</th>\n",
       "      <td>ACCESORIES_1_001_BOS_3</td>\n",
       "      <td>ACCESORIES_1_001</td>\n",
       "      <td>ACCESORIES</td>\n",
       "      <td>ACCESORIES_1</td>\n",
       "      <td>Back_Bay</td>\n",
       "      <td>BOS_3</td>\n",
       "      <td>Boston</td>\n",
       "    </tr>\n",
       "  </tbody>\n",
       "</table>\n",
       "</div>"
      ],
      "text/plain": [
       "                         id              item    category    department   \n",
       "0    ACCESORIES_1_001_BOS_1  ACCESORIES_1_001  ACCESORIES  ACCESORIES_1  \\\n",
       "140  ACCESORIES_1_001_BOS_2  ACCESORIES_1_001  ACCESORIES  ACCESORIES_1   \n",
       "285  ACCESORIES_1_001_BOS_3  ACCESORIES_1_001  ACCESORIES  ACCESORIES_1   \n",
       "\n",
       "         store store_code  region  \n",
       "0    South_End      BOS_1  Boston  \n",
       "140    Roxbury      BOS_2  Boston  \n",
       "285   Back_Bay      BOS_3  Boston  "
      ]
     },
     "execution_count": 54,
     "metadata": {},
     "output_type": "execute_result"
    }
   ],
   "source": [
    "df = df.reset_index(drop=True)\n",
    "add_info = df[\n",
    "    [\"id\", \"item\", \"category\", \"department\", \"store\", \"store_code\", \"region\"]\n",
    "].drop_duplicates()\n",
    "\n",
    "add_info.head(3)"
   ]
  },
  {
   "cell_type": "code",
   "execution_count": 55,
   "id": "941bb40e",
   "metadata": {},
   "outputs": [
    {
     "data": {
      "text/plain": [
       "(30490, 7)"
      ]
     },
     "execution_count": 55,
     "metadata": {},
     "output_type": "execute_result"
    }
   ],
   "source": [
    "add_info.shape"
   ]
  },
  {
   "cell_type": "code",
   "execution_count": 56,
   "id": "d1cf7bb7",
   "metadata": {},
   "outputs": [
    {
     "name": "stdout",
     "output_type": "stream",
     "text": [
      "(8384750, 6)\n",
      "(8384750, 12)\n"
     ]
    }
   ],
   "source": [
    "print(full_df.shape)\n",
    "\n",
    "full_df = pd.merge(\n",
    "    left = full_df,\n",
    "    right = add_info,\n",
    "    how = \"left\",\n",
    "    on = \"id\"\n",
    ")\n",
    "\n",
    "print(full_df.shape)"
   ]
  },
  {
   "cell_type": "markdown",
   "id": "98d4ee18",
   "metadata": {},
   "source": [
    "# Data imputation"
   ]
  },
  {
   "cell_type": "code",
   "execution_count": 57,
   "id": "86f050e8",
   "metadata": {},
   "outputs": [],
   "source": [
    "full_df.drop([\"CHECK\"], axis = 1, inplace = True)"
   ]
  },
  {
   "cell_type": "code",
   "execution_count": 58,
   "id": "e0f9079f",
   "metadata": {},
   "outputs": [
    {
     "data": {
      "text/plain": [
       "date                             0\n",
       "id                               0\n",
       "ventas_semanales             91192\n",
       "semanas_unicas_con_ventas    91192\n",
       "total_transactions           91192\n",
       "item                             0\n",
       "category                         0\n",
       "department                       0\n",
       "store                            0\n",
       "store_code                       0\n",
       "region                           0\n",
       "dtype: int64"
      ]
     },
     "execution_count": 58,
     "metadata": {},
     "output_type": "execute_result"
    }
   ],
   "source": [
    "full_df.isnull().sum()"
   ]
  },
  {
   "cell_type": "code",
   "execution_count": 60,
   "id": "ff7880c6",
   "metadata": {},
   "outputs": [],
   "source": [
    "full_df[\"ventas_semanales\"].fillna(0, inplace = True)\n",
    "full_df[\"semanas_unicas_con_ventas\"].fillna(0, inplace = True)\n",
    "full_df[\"total_transactions\"].fillna(0, inplace = True)"
   ]
  },
  {
   "cell_type": "markdown",
   "id": "c9e41c08",
   "metadata": {},
   "source": [
    "# 1-EDA DSMarket"
   ]
  },
  {
   "cell_type": "code",
   "execution_count": 61,
   "id": "d6897c58",
   "metadata": {},
   "outputs": [],
   "source": [
    "def plot_ts_acf_pacf(y, title):\n",
    "    '''\n",
    "    Plots the ts you pass and the acf and pacf.\n",
    "    '''\n",
    "    fig = plt.figure(figsize = (12, 10))\n",
    "    ax1, ax2, ax3 = fig.subplots(3, 1)\n",
    "\n",
    "    ax1.plot(y)\n",
    "    plot_acf(x = y, ax = ax2)\n",
    "    plot_pacf(x = y, ax = ax3)\n",
    "\n",
    "    plt.suptitle(t = title, fontsize = 20)"
   ]
  },
  {
   "cell_type": "code",
   "execution_count": 62,
   "id": "e287651d",
   "metadata": {},
   "outputs": [],
   "source": [
    "y = full_df.set_index(\"date\").resample(\"W\")[\"ventas_semanales\"].sum()"
   ]
  },
  {
   "cell_type": "code",
   "execution_count": 63,
   "id": "be96a3fe",
   "metadata": {},
   "outputs": [
    {
     "data": {
      "image/png": "[encoded data removed]",
      "text/plain": [
       "<Figure size 1200x1000 with 3 Axes>"
      ]
     },
     "metadata": {},
     "output_type": "display_data"
    }
   ],
   "source": [
    "plot_ts_acf_pacf(y = y, title = \"Ventas semanales para todos los ITEMS en todas las tiendas\");"
   ]
  },
  {
   "cell_type": "markdown",
   "id": "46c1d611",
   "metadata": {},
   "source": [
    "Para resolver el problema que se nos plantea: 30490 Series Temporales diferentes tendríamos que entrenar 30490 ARIMAs. En cambio, con el algoritmo de XGBoost podríamos entrenar 1 único modelo.\n",
    "\n",
    "Ahora bien, al contrario que ARIMA (que internamente construye las variables necesarias), para XGBoost debemos ser explícitos y suministrarle todas y cada una de las variables necesarias.\n",
    "\n",
    "Del gráfico anterior ya podemos observar que las variables de lags pueden ser muy relevantes."
   ]
  },
  {
   "cell_type": "markdown",
   "id": "b6e675b2",
   "metadata": {},
   "source": [
    "# 2- EDA Top Tiendas"
   ]
  },
  {
   "cell_type": "code",
   "execution_count": 64,
   "id": "9004edaa",
   "metadata": {},
   "outputs": [
    {
     "data": {
      "image/png": "[encoded data removed]",
      "text/plain": [
       "<Figure size 1200x400 with 1 Axes>"
      ]
     },
     "metadata": {},
     "output_type": "display_data"
    }
   ],
   "source": [
    "(\n",
    "    full_df.\n",
    "    groupby([\"store\"])\n",
    "    [\"ventas_semanales\"].sum()\n",
    "    .sort_values(ascending = False)\n",
    "    .plot(kind = \"bar\", figsize = (12, 4))\n",
    ");"
   ]
  },
  {
   "cell_type": "markdown",
   "id": "c7bb906d",
   "metadata": {},
   "source": [
    "# 3- EDA Top Region"
   ]
  },
  {
   "cell_type": "code",
   "execution_count": 65,
   "id": "fc8fbff4",
   "metadata": {},
   "outputs": [
    {
     "data": {
      "image/png": "[encoded data removed]",
      "text/plain": [
       "<Figure size 1200x400 with 1 Axes>"
      ]
     },
     "metadata": {},
     "output_type": "display_data"
    }
   ],
   "source": [
    "(\n",
    "    full_df.\n",
    "    groupby([\"region\"])\n",
    "    [\"ventas_semanales\"].sum()\n",
    "    .sort_values(ascending = False)\n",
    "    .plot(kind = \"bar\", figsize = (12, 4))\n",
    ");"
   ]
  },
  {
   "cell_type": "markdown",
   "id": "a6ef3b8c",
   "metadata": {},
   "source": [
    "# 4-EDA Top Categoria"
   ]
  },
  {
   "cell_type": "code",
   "execution_count": 66,
   "id": "f75204c5",
   "metadata": {},
   "outputs": [
    {
     "data": {
      "image/png": "[encoded data removed]",
      "text/plain": [
       "<Figure size 1200x400 with 1 Axes>"
      ]
     },
     "metadata": {},
     "output_type": "display_data"
    }
   ],
   "source": [
    "(\n",
    "    full_df.\n",
    "    groupby([\"category\"])\n",
    "    [\"ventas_semanales\"].sum()\n",
    "    .sort_values(ascending = False)\n",
    "    .plot(kind = \"bar\", figsize = (12, 4))\n",
    ");"
   ]
  },
  {
   "cell_type": "markdown",
   "id": "928262d0",
   "metadata": {},
   "source": [
    "# 5-EDA Top ITEM"
   ]
  },
  {
   "cell_type": "code",
   "execution_count": 67,
   "id": "d17a4ac4",
   "metadata": {},
   "outputs": [
    {
     "data": {
      "image/png": "[encoded data removed]",
      "text/plain": [
       "<Figure size 2000x1000 with 1 Axes>"
      ]
     },
     "metadata": {},
     "output_type": "display_data"
    }
   ],
   "source": [
    "(\n",
    "    full_df\n",
    "    .groupby([\"item\"])[\"ventas_semanales\"].sum()\n",
    "    .sort_values(ascending = False)\n",
    "    .head(10)\n",
    "    .plot(kind = \"bar\", figsize = (20, 10))\n",
    ");"
   ]
  },
  {
   "cell_type": "markdown",
   "id": "3412468c",
   "metadata": {},
   "source": [
    "# Build Time Series Features (CORE IDEA)"
   ]
  },
  {
   "cell_type": "markdown",
   "id": "a9513b68",
   "metadata": {},
   "source": [
    "## Lag Features"
   ]
  },
  {
   "cell_type": "code",
   "execution_count": 68,
   "id": "09007230",
   "metadata": {},
   "outputs": [],
   "source": [
    "copy_full_df = full_df.copy()"
   ]
  },
  {
   "cell_type": "code",
   "execution_count": 69,
   "id": "b05a95f5",
   "metadata": {},
   "outputs": [
    {
     "data": {
      "text/html": [
       "<div>\n",
       "<style scoped>\n",
       "    .dataframe tbody tr th:only-of-type {\n",
       "        vertical-align: middle;\n",
       "    }\n",
       "\n",
       "    .dataframe tbody tr th {\n",
       "        vertical-align: top;\n",
       "    }\n",
       "\n",
       "    .dataframe thead th {\n",
       "        text-align: right;\n",
       "    }\n",
       "</style>\n",
       "<table border=\"1\" class=\"dataframe\">\n",
       "  <thead>\n",
       "    <tr style=\"text-align: right;\">\n",
       "      <th></th>\n",
       "      <th>3731557</th>\n",
       "      <th>6251484</th>\n",
       "      <th>528470</th>\n",
       "      <th>5029750</th>\n",
       "      <th>369651</th>\n",
       "    </tr>\n",
       "  </thead>\n",
       "  <tbody>\n",
       "    <tr>\n",
       "      <th>date</th>\n",
       "      <td>2013-06-02 00:00:00</td>\n",
       "      <td>2015-01-04 00:00:00</td>\n",
       "      <td>2011-05-29 00:00:00</td>\n",
       "      <td>2014-03-23 00:00:00</td>\n",
       "      <td>2011-04-24 00:00:00</td>\n",
       "    </tr>\n",
       "    <tr>\n",
       "      <th>id</th>\n",
       "      <td>HOME_&amp;_GARDEN_2_081_PHI_1</td>\n",
       "      <td>ACCESORIES_1_108_NYC_2</td>\n",
       "      <td>HOME_&amp;_GARDEN_1_459_BOS_1</td>\n",
       "      <td>SUPERMARKET_3_716_BOS_1</td>\n",
       "      <td>ACCESORIES_1_386_BOS_2</td>\n",
       "    </tr>\n",
       "    <tr>\n",
       "      <th>ventas_semanales</th>\n",
       "      <td>0.0</td>\n",
       "      <td>2.0</td>\n",
       "      <td>0.0</td>\n",
       "      <td>0.0</td>\n",
       "      <td>0.0</td>\n",
       "    </tr>\n",
       "    <tr>\n",
       "      <th>semanas_unicas_con_ventas</th>\n",
       "      <td>0.0</td>\n",
       "      <td>1.0</td>\n",
       "      <td>0.0</td>\n",
       "      <td>0.0</td>\n",
       "      <td>0.0</td>\n",
       "    </tr>\n",
       "    <tr>\n",
       "      <th>total_transactions</th>\n",
       "      <td>0.0</td>\n",
       "      <td>1.0</td>\n",
       "      <td>0.0</td>\n",
       "      <td>0.0</td>\n",
       "      <td>0.0</td>\n",
       "    </tr>\n",
       "    <tr>\n",
       "      <th>item</th>\n",
       "      <td>HOME_&amp;_GARDEN_2_081</td>\n",
       "      <td>ACCESORIES_1_108</td>\n",
       "      <td>HOME_&amp;_GARDEN_1_459</td>\n",
       "      <td>SUPERMARKET_3_716</td>\n",
       "      <td>ACCESORIES_1_386</td>\n",
       "    </tr>\n",
       "    <tr>\n",
       "      <th>category</th>\n",
       "      <td>HOME_&amp;_GARDEN</td>\n",
       "      <td>ACCESORIES</td>\n",
       "      <td>HOME_&amp;_GARDEN</td>\n",
       "      <td>SUPERMARKET</td>\n",
       "      <td>ACCESORIES</td>\n",
       "    </tr>\n",
       "    <tr>\n",
       "      <th>department</th>\n",
       "      <td>HOME_&amp;_GARDEN_2</td>\n",
       "      <td>ACCESORIES_1</td>\n",
       "      <td>HOME_&amp;_GARDEN_1</td>\n",
       "      <td>SUPERMARKET_3</td>\n",
       "      <td>ACCESORIES_1</td>\n",
       "    </tr>\n",
       "    <tr>\n",
       "      <th>store</th>\n",
       "      <td>Midtown_Village</td>\n",
       "      <td>Harlem</td>\n",
       "      <td>South_End</td>\n",
       "      <td>South_End</td>\n",
       "      <td>Roxbury</td>\n",
       "    </tr>\n",
       "    <tr>\n",
       "      <th>store_code</th>\n",
       "      <td>PHI_1</td>\n",
       "      <td>NYC_2</td>\n",
       "      <td>BOS_1</td>\n",
       "      <td>BOS_1</td>\n",
       "      <td>BOS_2</td>\n",
       "    </tr>\n",
       "    <tr>\n",
       "      <th>region</th>\n",
       "      <td>Philadelphia</td>\n",
       "      <td>New York</td>\n",
       "      <td>Boston</td>\n",
       "      <td>Boston</td>\n",
       "      <td>Boston</td>\n",
       "    </tr>\n",
       "  </tbody>\n",
       "</table>\n",
       "</div>"
      ],
      "text/plain": [
       "                                             3731557                 6251484   \n",
       "date                             2013-06-02 00:00:00     2015-01-04 00:00:00  \\\n",
       "id                         HOME_&_GARDEN_2_081_PHI_1  ACCESORIES_1_108_NYC_2   \n",
       "ventas_semanales                                 0.0                     2.0   \n",
       "semanas_unicas_con_ventas                        0.0                     1.0   \n",
       "total_transactions                               0.0                     1.0   \n",
       "item                             HOME_&_GARDEN_2_081        ACCESORIES_1_108   \n",
       "category                               HOME_&_GARDEN              ACCESORIES   \n",
       "department                           HOME_&_GARDEN_2            ACCESORIES_1   \n",
       "store                                Midtown_Village                  Harlem   \n",
       "store_code                                     PHI_1                   NYC_2   \n",
       "region                                  Philadelphia                New York   \n",
       "\n",
       "                                             528470                   5029750   \n",
       "date                             2011-05-29 00:00:00      2014-03-23 00:00:00  \\\n",
       "id                         HOME_&_GARDEN_1_459_BOS_1  SUPERMARKET_3_716_BOS_1   \n",
       "ventas_semanales                                 0.0                      0.0   \n",
       "semanas_unicas_con_ventas                        0.0                      0.0   \n",
       "total_transactions                               0.0                      0.0   \n",
       "item                             HOME_&_GARDEN_1_459        SUPERMARKET_3_716   \n",
       "category                               HOME_&_GARDEN              SUPERMARKET   \n",
       "department                           HOME_&_GARDEN_1            SUPERMARKET_3   \n",
       "store                                      South_End                South_End   \n",
       "store_code                                     BOS_1                    BOS_1   \n",
       "region                                        Boston                   Boston   \n",
       "\n",
       "                                          369651   \n",
       "date                          2011-04-24 00:00:00  \n",
       "id                         ACCESORIES_1_386_BOS_2  \n",
       "ventas_semanales                              0.0  \n",
       "semanas_unicas_con_ventas                     0.0  \n",
       "total_transactions                            0.0  \n",
       "item                             ACCESORIES_1_386  \n",
       "category                               ACCESORIES  \n",
       "department                           ACCESORIES_1  \n",
       "store                                     Roxbury  \n",
       "store_code                                  BOS_2  \n",
       "region                                     Boston  "
      ]
     },
     "execution_count": 69,
     "metadata": {},
     "output_type": "execute_result"
    }
   ],
   "source": [
    "full_df.sample(5).T"
   ]
  },
  {
   "cell_type": "code",
   "execution_count": 70,
   "id": "4862966a",
   "metadata": {},
   "outputs": [],
   "source": [
    "def build_ts_vars(full_df, gb_list, target_column, agg_func, agg_func_name, verbose = True):\n",
    "    \n",
    "    assert gb_list[0] == \"date\", \"Primer elemento que debe ser la fecha\"\n",
    "    \n",
    "    new_name = \"_\".join(gb_list + [target_column] + [agg_func_name])\n",
    "    \n",
    "    if verbose: print(new_name)\n",
    "\n",
    "    gb_df_ = full_df.groupby(gb_list)[target_column].apply(agg_func).to_frame().reset_index().rename(\n",
    "        columns = {\n",
    "            target_column : new_name\n",
    "        }\n",
    "    )\n",
    "\n",
    "    gb_df_[f\"{new_name}_LAG1\"] = gb_df_.groupby(gb_list[1:])[new_name].transform(\n",
    "        lambda series: series.shift(1)\n",
    "    )\n",
    "    \n",
    "    return gb_df_"
   ]
  },
  {
   "cell_type": "code",
   "execution_count": 71,
   "id": "affcf5bf",
   "metadata": {},
   "outputs": [
    {
     "name": "stdout",
     "output_type": "stream",
     "text": [
      "date_id_ventas_semanales_SUM\n"
     ]
    },
    {
     "data": {
      "text/html": [
       "<div>\n",
       "<style scoped>\n",
       "    .dataframe tbody tr th:only-of-type {\n",
       "        vertical-align: middle;\n",
       "    }\n",
       "\n",
       "    .dataframe tbody tr th {\n",
       "        vertical-align: top;\n",
       "    }\n",
       "\n",
       "    .dataframe thead th {\n",
       "        text-align: right;\n",
       "    }\n",
       "</style>\n",
       "<table border=\"1\" class=\"dataframe\">\n",
       "  <thead>\n",
       "    <tr style=\"text-align: right;\">\n",
       "      <th></th>\n",
       "      <th>date</th>\n",
       "      <th>id</th>\n",
       "      <th>date_id_ventas_semanales_SUM</th>\n",
       "      <th>date_id_ventas_semanales_SUM_LAG1</th>\n",
       "    </tr>\n",
       "  </thead>\n",
       "  <tbody>\n",
       "    <tr>\n",
       "      <th>1054185</th>\n",
       "      <td>2011-09-25</td>\n",
       "      <td>SUPERMARKET_1_143_NYC_3</td>\n",
       "      <td>0.0</td>\n",
       "      <td>0.0</td>\n",
       "    </tr>\n",
       "    <tr>\n",
       "      <th>7087029</th>\n",
       "      <td>2015-07-12</td>\n",
       "      <td>HOME_&amp;_GARDEN_2_239_PHI_3</td>\n",
       "      <td>11.0</td>\n",
       "      <td>0.0</td>\n",
       "    </tr>\n",
       "    <tr>\n",
       "      <th>4261415</th>\n",
       "      <td>2013-09-29</td>\n",
       "      <td>SUPERMARKET_3_106_NYC_3</td>\n",
       "      <td>8.0</td>\n",
       "      <td>0.0</td>\n",
       "    </tr>\n",
       "    <tr>\n",
       "      <th>5352398</th>\n",
       "      <td>2014-06-08</td>\n",
       "      <td>SUPERMARKET_1_054_PHI_2</td>\n",
       "      <td>0.0</td>\n",
       "      <td>8.0</td>\n",
       "    </tr>\n",
       "    <tr>\n",
       "      <th>6747894</th>\n",
       "      <td>2015-04-26</td>\n",
       "      <td>HOME_&amp;_GARDEN_1_405_NYC_2</td>\n",
       "      <td>0.0</td>\n",
       "      <td>0.0</td>\n",
       "    </tr>\n",
       "    <tr>\n",
       "      <th>3971702</th>\n",
       "      <td>2013-07-28</td>\n",
       "      <td>HOME_&amp;_GARDEN_1_241_BOS_3</td>\n",
       "      <td>0.0</td>\n",
       "      <td>0.0</td>\n",
       "    </tr>\n",
       "    <tr>\n",
       "      <th>4556767</th>\n",
       "      <td>2013-12-08</td>\n",
       "      <td>HOME_&amp;_GARDEN_2_280_PHI_1</td>\n",
       "      <td>0.0</td>\n",
       "      <td>0.0</td>\n",
       "    </tr>\n",
       "    <tr>\n",
       "      <th>7560831</th>\n",
       "      <td>2015-10-25</td>\n",
       "      <td>SUPERMARKET_3_759_BOS_2</td>\n",
       "      <td>7.0</td>\n",
       "      <td>5.0</td>\n",
       "    </tr>\n",
       "    <tr>\n",
       "      <th>7474303</th>\n",
       "      <td>2015-10-11</td>\n",
       "      <td>ACCESORIES_2_010_NYC_1</td>\n",
       "      <td>0.0</td>\n",
       "      <td>0.0</td>\n",
       "    </tr>\n",
       "    <tr>\n",
       "      <th>3439890</th>\n",
       "      <td>2013-03-24</td>\n",
       "      <td>SUPERMARKET_3_277_BOS_1</td>\n",
       "      <td>0.0</td>\n",
       "      <td>0.0</td>\n",
       "    </tr>\n",
       "  </tbody>\n",
       "</table>\n",
       "</div>"
      ],
      "text/plain": [
       "              date                         id  date_id_ventas_semanales_SUM   \n",
       "1054185 2011-09-25    SUPERMARKET_1_143_NYC_3                           0.0  \\\n",
       "7087029 2015-07-12  HOME_&_GARDEN_2_239_PHI_3                          11.0   \n",
       "4261415 2013-09-29    SUPERMARKET_3_106_NYC_3                           8.0   \n",
       "5352398 2014-06-08    SUPERMARKET_1_054_PHI_2                           0.0   \n",
       "6747894 2015-04-26  HOME_&_GARDEN_1_405_NYC_2                           0.0   \n",
       "3971702 2013-07-28  HOME_&_GARDEN_1_241_BOS_3                           0.0   \n",
       "4556767 2013-12-08  HOME_&_GARDEN_2_280_PHI_1                           0.0   \n",
       "7560831 2015-10-25    SUPERMARKET_3_759_BOS_2                           7.0   \n",
       "7474303 2015-10-11     ACCESORIES_2_010_NYC_1                           0.0   \n",
       "3439890 2013-03-24    SUPERMARKET_3_277_BOS_1                           0.0   \n",
       "\n",
       "         date_id_ventas_semanales_SUM_LAG1  \n",
       "1054185                                0.0  \n",
       "7087029                                0.0  \n",
       "4261415                                0.0  \n",
       "5352398                                8.0  \n",
       "6747894                                0.0  \n",
       "3971702                                0.0  \n",
       "4556767                                0.0  \n",
       "7560831                                5.0  \n",
       "7474303                                0.0  \n",
       "3439890                                0.0  "
      ]
     },
     "execution_count": 71,
     "metadata": {},
     "output_type": "execute_result"
    }
   ],
   "source": [
    "GB_LIST_SHOP_ID = [\"date\", \"id\"]\n",
    "TARGET_COLUMN = \"ventas_semanales\"\n",
    "AGG_FUNC = np.sum\n",
    "AGG_FUNC_NAME = \"SUM\"\n",
    "\n",
    "vars_ts_shop_id = build_ts_vars(\n",
    "    full_df = full_df,\n",
    "    gb_list = GB_LIST_SHOP_ID,\n",
    "    target_column = TARGET_COLUMN,\n",
    "    agg_func = AGG_FUNC,\n",
    "    agg_func_name =  AGG_FUNC_NAME\n",
    "    \n",
    ")\n",
    "\n",
    "vars_ts_shop_id.sample(10)"
   ]
  },
  {
   "cell_type": "code",
   "execution_count": 72,
   "id": "ce072003",
   "metadata": {},
   "outputs": [
    {
     "name": "stderr",
     "output_type": "stream",
     "text": [
      "/var/folders/_6/x9wbm2015gldhqsf7z2bp2vh0000gn/T/ipykernel_83371/2594090485.py:3: UserWarning: Boolean Series key will be reindexed to match DataFrame index.\n",
      "  sample_df = sample_df[vars_ts_shop_id['id'].str[-9:-6]=='001'].copy()\n",
      "/var/folders/_6/x9wbm2015gldhqsf7z2bp2vh0000gn/T/ipykernel_83371/2594090485.py:4: UserWarning: Boolean Series key will be reindexed to match DataFrame index.\n",
      "  sample_df = sample_df[vars_ts_shop_id['id'].str.slice(start=0, stop=-10)=='ACCESORIES_1'].copy()\n"
     ]
    },
    {
     "data": {
      "text/html": [
       "<div>\n",
       "<style scoped>\n",
       "    .dataframe tbody tr th:only-of-type {\n",
       "        vertical-align: middle;\n",
       "    }\n",
       "\n",
       "    .dataframe tbody tr th {\n",
       "        vertical-align: top;\n",
       "    }\n",
       "\n",
       "    .dataframe thead th {\n",
       "        text-align: right;\n",
       "    }\n",
       "</style>\n",
       "<table border=\"1\" class=\"dataframe\">\n",
       "  <thead>\n",
       "    <tr style=\"text-align: right;\">\n",
       "      <th></th>\n",
       "      <th>date</th>\n",
       "      <th>id</th>\n",
       "      <th>date_id_ventas_semanales_SUM</th>\n",
       "      <th>date_id_ventas_semanales_SUM_LAG1</th>\n",
       "    </tr>\n",
       "  </thead>\n",
       "  <tbody>\n",
       "    <tr>\n",
       "      <th>6</th>\n",
       "      <td>2011-01-30</td>\n",
       "      <td>ACCESORIES_1_001_NYC_4</td>\n",
       "      <td>0.0</td>\n",
       "      <td>NaN</td>\n",
       "    </tr>\n",
       "    <tr>\n",
       "      <th>30496</th>\n",
       "      <td>2011-02-06</td>\n",
       "      <td>ACCESORIES_1_001_NYC_4</td>\n",
       "      <td>0.0</td>\n",
       "      <td>0.0</td>\n",
       "    </tr>\n",
       "    <tr>\n",
       "      <th>60986</th>\n",
       "      <td>2011-02-13</td>\n",
       "      <td>ACCESORIES_1_001_NYC_4</td>\n",
       "      <td>0.0</td>\n",
       "      <td>0.0</td>\n",
       "    </tr>\n",
       "    <tr>\n",
       "      <th>91476</th>\n",
       "      <td>2011-02-20</td>\n",
       "      <td>ACCESORIES_1_001_NYC_4</td>\n",
       "      <td>0.0</td>\n",
       "      <td>0.0</td>\n",
       "    </tr>\n",
       "    <tr>\n",
       "      <th>121966</th>\n",
       "      <td>2011-02-27</td>\n",
       "      <td>ACCESORIES_1_001_NYC_4</td>\n",
       "      <td>0.0</td>\n",
       "      <td>0.0</td>\n",
       "    </tr>\n",
       "    <tr>\n",
       "      <th>...</th>\n",
       "      <td>...</td>\n",
       "      <td>...</td>\n",
       "      <td>...</td>\n",
       "      <td>...</td>\n",
       "    </tr>\n",
       "    <tr>\n",
       "      <th>8232306</th>\n",
       "      <td>2016-04-03</td>\n",
       "      <td>ACCESORIES_1_001_NYC_4</td>\n",
       "      <td>0.0</td>\n",
       "      <td>6.0</td>\n",
       "    </tr>\n",
       "    <tr>\n",
       "      <th>8262796</th>\n",
       "      <td>2016-04-10</td>\n",
       "      <td>ACCESORIES_1_001_NYC_4</td>\n",
       "      <td>0.0</td>\n",
       "      <td>0.0</td>\n",
       "    </tr>\n",
       "    <tr>\n",
       "      <th>8293286</th>\n",
       "      <td>2016-04-17</td>\n",
       "      <td>ACCESORIES_1_001_NYC_4</td>\n",
       "      <td>4.0</td>\n",
       "      <td>0.0</td>\n",
       "    </tr>\n",
       "    <tr>\n",
       "      <th>8323776</th>\n",
       "      <td>2016-04-24</td>\n",
       "      <td>ACCESORIES_1_001_NYC_4</td>\n",
       "      <td>6.0</td>\n",
       "      <td>4.0</td>\n",
       "    </tr>\n",
       "    <tr>\n",
       "      <th>8354266</th>\n",
       "      <td>2016-05-01</td>\n",
       "      <td>ACCESORIES_1_001_NYC_4</td>\n",
       "      <td>0.0</td>\n",
       "      <td>6.0</td>\n",
       "    </tr>\n",
       "  </tbody>\n",
       "</table>\n",
       "<p>275 rows × 4 columns</p>\n",
       "</div>"
      ],
      "text/plain": [
       "              date                      id  date_id_ventas_semanales_SUM   \n",
       "6       2011-01-30  ACCESORIES_1_001_NYC_4                           0.0  \\\n",
       "30496   2011-02-06  ACCESORIES_1_001_NYC_4                           0.0   \n",
       "60986   2011-02-13  ACCESORIES_1_001_NYC_4                           0.0   \n",
       "91476   2011-02-20  ACCESORIES_1_001_NYC_4                           0.0   \n",
       "121966  2011-02-27  ACCESORIES_1_001_NYC_4                           0.0   \n",
       "...            ...                     ...                           ...   \n",
       "8232306 2016-04-03  ACCESORIES_1_001_NYC_4                           0.0   \n",
       "8262796 2016-04-10  ACCESORIES_1_001_NYC_4                           0.0   \n",
       "8293286 2016-04-17  ACCESORIES_1_001_NYC_4                           4.0   \n",
       "8323776 2016-04-24  ACCESORIES_1_001_NYC_4                           6.0   \n",
       "8354266 2016-05-01  ACCESORIES_1_001_NYC_4                           0.0   \n",
       "\n",
       "         date_id_ventas_semanales_SUM_LAG1  \n",
       "6                                      NaN  \n",
       "30496                                  0.0  \n",
       "60986                                  0.0  \n",
       "91476                                  0.0  \n",
       "121966                                 0.0  \n",
       "...                                    ...  \n",
       "8232306                                6.0  \n",
       "8262796                                0.0  \n",
       "8293286                                0.0  \n",
       "8323776                                4.0  \n",
       "8354266                                6.0  \n",
       "\n",
       "[275 rows x 4 columns]"
      ]
     },
     "execution_count": 72,
     "metadata": {},
     "output_type": "execute_result"
    }
   ],
   "source": [
    "#Verificacion\n",
    "sample_df = vars_ts_shop_id[vars_ts_shop_id['id'].str[-5:]=='NYC_4'].copy()\n",
    "sample_df = sample_df[vars_ts_shop_id['id'].str[-9:-6]=='001'].copy()\n",
    "sample_df = sample_df[vars_ts_shop_id['id'].str.slice(start=0, stop=-10)=='ACCESORIES_1'].copy()\n",
    "sample_df['date'] = pd.to_datetime(sample_df['date'], format='%Y-%m-%d')\n",
    "sample_df.sort_values(by=['date'])"
   ]
  },
  {
   "cell_type": "markdown",
   "id": "89888c9b",
   "metadata": {},
   "source": [
    "## Promedio móvil"
   ]
  },
  {
   "cell_type": "code",
   "execution_count": 73,
   "id": "c92c6339",
   "metadata": {},
   "outputs": [
    {
     "data": {
      "text/html": [
       "<div>\n",
       "<style scoped>\n",
       "    .dataframe tbody tr th:only-of-type {\n",
       "        vertical-align: middle;\n",
       "    }\n",
       "\n",
       "    .dataframe tbody tr th {\n",
       "        vertical-align: top;\n",
       "    }\n",
       "\n",
       "    .dataframe thead th {\n",
       "        text-align: right;\n",
       "    }\n",
       "</style>\n",
       "<table border=\"1\" class=\"dataframe\">\n",
       "  <thead>\n",
       "    <tr style=\"text-align: right;\">\n",
       "      <th></th>\n",
       "      <th>date</th>\n",
       "      <th>id</th>\n",
       "      <th>date_id_ventas_semanales_SUM</th>\n",
       "      <th>date_id_ventas_semanales_SUM_LAG1</th>\n",
       "    </tr>\n",
       "  </thead>\n",
       "  <tbody>\n",
       "    <tr>\n",
       "      <th>93710</th>\n",
       "      <td>2011-02-20</td>\n",
       "      <td>ACCESORIES_1_232_BOS_1</td>\n",
       "      <td>0.0</td>\n",
       "      <td>0.0</td>\n",
       "    </tr>\n",
       "    <tr>\n",
       "      <th>3765628</th>\n",
       "      <td>2013-06-09</td>\n",
       "      <td>HOME_&amp;_GARDEN_2_440_PHI_2</td>\n",
       "      <td>0.0</td>\n",
       "      <td>0.0</td>\n",
       "    </tr>\n",
       "    <tr>\n",
       "      <th>4502912</th>\n",
       "      <td>2013-11-24</td>\n",
       "      <td>SUPERMARKET_2_262_BOS_3</td>\n",
       "      <td>0.0</td>\n",
       "      <td>0.0</td>\n",
       "    </tr>\n",
       "    <tr>\n",
       "      <th>4573003</th>\n",
       "      <td>2013-12-08</td>\n",
       "      <td>SUPERMARKET_3_778_NYC_1</td>\n",
       "      <td>2.0</td>\n",
       "      <td>8.0</td>\n",
       "    </tr>\n",
       "    <tr>\n",
       "      <th>899469</th>\n",
       "      <td>2011-08-21</td>\n",
       "      <td>HOME_&amp;_GARDEN_2_430_PHI_3</td>\n",
       "      <td>0.0</td>\n",
       "      <td>0.0</td>\n",
       "    </tr>\n",
       "    <tr>\n",
       "      <th>4859931</th>\n",
       "      <td>2014-02-16</td>\n",
       "      <td>HOME_&amp;_GARDEN_2_106_BOS_2</td>\n",
       "      <td>0.0</td>\n",
       "      <td>0.0</td>\n",
       "    </tr>\n",
       "    <tr>\n",
       "      <th>2957859</th>\n",
       "      <td>2012-12-09</td>\n",
       "      <td>ACCESORIES_1_033_PHI_3</td>\n",
       "      <td>0.0</td>\n",
       "      <td>0.0</td>\n",
       "    </tr>\n",
       "    <tr>\n",
       "      <th>8041620</th>\n",
       "      <td>2016-02-14</td>\n",
       "      <td>SUPERMARKET_3_050_BOS_1</td>\n",
       "      <td>0.0</td>\n",
       "      <td>0.0</td>\n",
       "    </tr>\n",
       "    <tr>\n",
       "      <th>3813967</th>\n",
       "      <td>2013-06-23</td>\n",
       "      <td>ACCESORIES_1_279_PHI_1</td>\n",
       "      <td>0.0</td>\n",
       "      <td>0.0</td>\n",
       "    </tr>\n",
       "    <tr>\n",
       "      <th>7188442</th>\n",
       "      <td>2015-08-02</td>\n",
       "      <td>SUPERMARKET_3_105_BOS_3</td>\n",
       "      <td>2.0</td>\n",
       "      <td>0.0</td>\n",
       "    </tr>\n",
       "  </tbody>\n",
       "</table>\n",
       "</div>"
      ],
      "text/plain": [
       "              date                         id  date_id_ventas_semanales_SUM   \n",
       "93710   2011-02-20     ACCESORIES_1_232_BOS_1                           0.0  \\\n",
       "3765628 2013-06-09  HOME_&_GARDEN_2_440_PHI_2                           0.0   \n",
       "4502912 2013-11-24    SUPERMARKET_2_262_BOS_3                           0.0   \n",
       "4573003 2013-12-08    SUPERMARKET_3_778_NYC_1                           2.0   \n",
       "899469  2011-08-21  HOME_&_GARDEN_2_430_PHI_3                           0.0   \n",
       "4859931 2014-02-16  HOME_&_GARDEN_2_106_BOS_2                           0.0   \n",
       "2957859 2012-12-09     ACCESORIES_1_033_PHI_3                           0.0   \n",
       "8041620 2016-02-14    SUPERMARKET_3_050_BOS_1                           0.0   \n",
       "3813967 2013-06-23     ACCESORIES_1_279_PHI_1                           0.0   \n",
       "7188442 2015-08-02    SUPERMARKET_3_105_BOS_3                           2.0   \n",
       "\n",
       "         date_id_ventas_semanales_SUM_LAG1  \n",
       "93710                                  0.0  \n",
       "3765628                                0.0  \n",
       "4502912                                0.0  \n",
       "4573003                                8.0  \n",
       "899469                                 0.0  \n",
       "4859931                                0.0  \n",
       "2957859                                0.0  \n",
       "8041620                                0.0  \n",
       "3813967                                0.0  \n",
       "7188442                                0.0  "
      ]
     },
     "execution_count": 73,
     "metadata": {},
     "output_type": "execute_result"
    }
   ],
   "source": [
    "vars_ts_shop_id.sample(10)"
   ]
  },
  {
   "cell_type": "code",
   "execution_count": 74,
   "id": "68d04833",
   "metadata": {},
   "outputs": [],
   "source": [
    "#Nos aseguramos que los datos esta ordenados por fecha\n",
    "vars_ts_shop_id['date'] = pd.to_datetime(vars_ts_shop_id['date'])\n",
    "vars_ts_shop_id = vars_ts_shop_id.sort_values('date')"
   ]
  },
  {
   "cell_type": "code",
   "execution_count": 75,
   "id": "1c434b2b",
   "metadata": {},
   "outputs": [],
   "source": [
    "vars_ts_shop_id['rolling_mean_4w'] = vars_ts_shop_id.groupby('id')['date_id_ventas_semanales_SUM'].transform(lambda x: x.rolling(4).mean())"
   ]
  },
  {
   "cell_type": "code",
   "execution_count": 76,
   "id": "00eb991e",
   "metadata": {},
   "outputs": [],
   "source": [
    "vars_ts_shop_id['rolling_mean_6m'] = vars_ts_shop_id.groupby('id')['date_id_ventas_semanales_SUM'].transform(lambda x: x.rolling(24).mean())"
   ]
  },
  {
   "cell_type": "markdown",
   "id": "f41fa512",
   "metadata": {},
   "source": [
    "## Desviación estándar móvil "
   ]
  },
  {
   "cell_type": "code",
   "execution_count": 77,
   "id": "a4df35e5",
   "metadata": {},
   "outputs": [
    {
     "data": {
      "text/html": [
       "<div>\n",
       "<style scoped>\n",
       "    .dataframe tbody tr th:only-of-type {\n",
       "        vertical-align: middle;\n",
       "    }\n",
       "\n",
       "    .dataframe tbody tr th {\n",
       "        vertical-align: top;\n",
       "    }\n",
       "\n",
       "    .dataframe thead th {\n",
       "        text-align: right;\n",
       "    }\n",
       "</style>\n",
       "<table border=\"1\" class=\"dataframe\">\n",
       "  <thead>\n",
       "    <tr style=\"text-align: right;\">\n",
       "      <th></th>\n",
       "      <th>date</th>\n",
       "      <th>id</th>\n",
       "      <th>date_id_ventas_semanales_SUM</th>\n",
       "      <th>date_id_ventas_semanales_SUM_LAG1</th>\n",
       "    </tr>\n",
       "  </thead>\n",
       "  <tbody>\n",
       "    <tr>\n",
       "      <th>4390566</th>\n",
       "      <td>2013-11-03</td>\n",
       "      <td>ACCESORIES_1_001_NYC_4</td>\n",
       "      <td>0.0</td>\n",
       "      <td>4.0</td>\n",
       "    </tr>\n",
       "    <tr>\n",
       "      <th>2103816</th>\n",
       "      <td>2012-05-27</td>\n",
       "      <td>ACCESORIES_1_001_NYC_4</td>\n",
       "      <td>0.0</td>\n",
       "      <td>0.0</td>\n",
       "    </tr>\n",
       "    <tr>\n",
       "      <th>5701636</th>\n",
       "      <td>2014-08-31</td>\n",
       "      <td>ACCESORIES_1_001_NYC_4</td>\n",
       "      <td>4.0</td>\n",
       "      <td>0.0</td>\n",
       "    </tr>\n",
       "    <tr>\n",
       "      <th>3994196</th>\n",
       "      <td>2013-08-04</td>\n",
       "      <td>ACCESORIES_1_001_NYC_4</td>\n",
       "      <td>0.0</td>\n",
       "      <td>0.0</td>\n",
       "    </tr>\n",
       "    <tr>\n",
       "      <th>3506356</th>\n",
       "      <td>2013-04-14</td>\n",
       "      <td>ACCESORIES_1_001_NYC_4</td>\n",
       "      <td>0.0</td>\n",
       "      <td>0.0</td>\n",
       "    </tr>\n",
       "    <tr>\n",
       "      <th>7409076</th>\n",
       "      <td>2015-09-27</td>\n",
       "      <td>ACCESORIES_1_001_NYC_4</td>\n",
       "      <td>2.0</td>\n",
       "      <td>0.0</td>\n",
       "    </tr>\n",
       "    <tr>\n",
       "      <th>6707806</th>\n",
       "      <td>2015-04-19</td>\n",
       "      <td>ACCESORIES_1_001_NYC_4</td>\n",
       "      <td>0.0</td>\n",
       "      <td>0.0</td>\n",
       "    </tr>\n",
       "    <tr>\n",
       "      <th>2988026</th>\n",
       "      <td>2012-12-16</td>\n",
       "      <td>ACCESORIES_1_001_NYC_4</td>\n",
       "      <td>0.0</td>\n",
       "      <td>0.0</td>\n",
       "    </tr>\n",
       "    <tr>\n",
       "      <th>4817426</th>\n",
       "      <td>2014-02-09</td>\n",
       "      <td>ACCESORIES_1_001_NYC_4</td>\n",
       "      <td>0.0</td>\n",
       "      <td>6.0</td>\n",
       "    </tr>\n",
       "    <tr>\n",
       "      <th>6585846</th>\n",
       "      <td>2015-03-22</td>\n",
       "      <td>ACCESORIES_1_001_NYC_4</td>\n",
       "      <td>0.0</td>\n",
       "      <td>0.0</td>\n",
       "    </tr>\n",
       "  </tbody>\n",
       "</table>\n",
       "</div>"
      ],
      "text/plain": [
       "              date                      id  date_id_ventas_semanales_SUM   \n",
       "4390566 2013-11-03  ACCESORIES_1_001_NYC_4                           0.0  \\\n",
       "2103816 2012-05-27  ACCESORIES_1_001_NYC_4                           0.0   \n",
       "5701636 2014-08-31  ACCESORIES_1_001_NYC_4                           4.0   \n",
       "3994196 2013-08-04  ACCESORIES_1_001_NYC_4                           0.0   \n",
       "3506356 2013-04-14  ACCESORIES_1_001_NYC_4                           0.0   \n",
       "7409076 2015-09-27  ACCESORIES_1_001_NYC_4                           2.0   \n",
       "6707806 2015-04-19  ACCESORIES_1_001_NYC_4                           0.0   \n",
       "2988026 2012-12-16  ACCESORIES_1_001_NYC_4                           0.0   \n",
       "4817426 2014-02-09  ACCESORIES_1_001_NYC_4                           0.0   \n",
       "6585846 2015-03-22  ACCESORIES_1_001_NYC_4                           0.0   \n",
       "\n",
       "         date_id_ventas_semanales_SUM_LAG1  \n",
       "4390566                                4.0  \n",
       "2103816                                0.0  \n",
       "5701636                                0.0  \n",
       "3994196                                0.0  \n",
       "3506356                                0.0  \n",
       "7409076                                0.0  \n",
       "6707806                                0.0  \n",
       "2988026                                0.0  \n",
       "4817426                                6.0  \n",
       "6585846                                0.0  "
      ]
     },
     "execution_count": 77,
     "metadata": {},
     "output_type": "execute_result"
    }
   ],
   "source": [
    "sample_df.sample(10)"
   ]
  },
  {
   "cell_type": "code",
   "execution_count": 78,
   "id": "9ea15e07",
   "metadata": {},
   "outputs": [],
   "source": [
    "vars_ts_shop_id['rolling_std_4w'] = vars_ts_shop_id.groupby('id')['date_id_ventas_semanales_SUM'].transform(lambda x: x.rolling(4).std())"
   ]
  },
  {
   "cell_type": "code",
   "execution_count": 79,
   "id": "a38aba04",
   "metadata": {},
   "outputs": [],
   "source": [
    "vars_ts_shop_id['rolling_std_6m'] = vars_ts_shop_id.groupby('id')['date_id_ventas_semanales_SUM'].transform(lambda x: x.rolling(24).std())"
   ]
  },
  {
   "cell_type": "code",
   "execution_count": 80,
   "id": "af41dba8",
   "metadata": {},
   "outputs": [
    {
     "data": {
      "text/html": [
       "<div>\n",
       "<style scoped>\n",
       "    .dataframe tbody tr th:only-of-type {\n",
       "        vertical-align: middle;\n",
       "    }\n",
       "\n",
       "    .dataframe tbody tr th {\n",
       "        vertical-align: top;\n",
       "    }\n",
       "\n",
       "    .dataframe thead th {\n",
       "        text-align: right;\n",
       "    }\n",
       "</style>\n",
       "<table border=\"1\" class=\"dataframe\">\n",
       "  <thead>\n",
       "    <tr style=\"text-align: right;\">\n",
       "      <th></th>\n",
       "      <th>date</th>\n",
       "      <th>id</th>\n",
       "      <th>date_id_ventas_semanales_SUM</th>\n",
       "      <th>date_id_ventas_semanales_SUM_LAG1</th>\n",
       "    </tr>\n",
       "  </thead>\n",
       "  <tbody>\n",
       "    <tr>\n",
       "      <th>6555356</th>\n",
       "      <td>2015-03-15</td>\n",
       "      <td>ACCESORIES_1_001_NYC_4</td>\n",
       "      <td>0.0</td>\n",
       "      <td>0.0</td>\n",
       "    </tr>\n",
       "    <tr>\n",
       "      <th>4817426</th>\n",
       "      <td>2014-02-09</td>\n",
       "      <td>ACCESORIES_1_001_NYC_4</td>\n",
       "      <td>0.0</td>\n",
       "      <td>6.0</td>\n",
       "    </tr>\n",
       "    <tr>\n",
       "      <th>2408716</th>\n",
       "      <td>2012-08-05</td>\n",
       "      <td>ACCESORIES_1_001_NYC_4</td>\n",
       "      <td>0.0</td>\n",
       "      <td>0.0</td>\n",
       "    </tr>\n",
       "    <tr>\n",
       "      <th>1158626</th>\n",
       "      <td>2011-10-23</td>\n",
       "      <td>ACCESORIES_1_001_NYC_4</td>\n",
       "      <td>0.0</td>\n",
       "      <td>0.0</td>\n",
       "    </tr>\n",
       "    <tr>\n",
       "      <th>6585846</th>\n",
       "      <td>2015-03-22</td>\n",
       "      <td>ACCESORIES_1_001_NYC_4</td>\n",
       "      <td>0.0</td>\n",
       "      <td>0.0</td>\n",
       "    </tr>\n",
       "    <tr>\n",
       "      <th>5671146</th>\n",
       "      <td>2014-08-24</td>\n",
       "      <td>ACCESORIES_1_001_NYC_4</td>\n",
       "      <td>0.0</td>\n",
       "      <td>1.0</td>\n",
       "    </tr>\n",
       "    <tr>\n",
       "      <th>274416</th>\n",
       "      <td>2011-04-03</td>\n",
       "      <td>ACCESORIES_1_001_NYC_4</td>\n",
       "      <td>0.0</td>\n",
       "      <td>0.0</td>\n",
       "    </tr>\n",
       "    <tr>\n",
       "      <th>30496</th>\n",
       "      <td>2011-02-06</td>\n",
       "      <td>ACCESORIES_1_001_NYC_4</td>\n",
       "      <td>0.0</td>\n",
       "      <td>0.0</td>\n",
       "    </tr>\n",
       "    <tr>\n",
       "      <th>7927406</th>\n",
       "      <td>2016-01-24</td>\n",
       "      <td>ACCESORIES_1_001_NYC_4</td>\n",
       "      <td>0.0</td>\n",
       "      <td>0.0</td>\n",
       "    </tr>\n",
       "    <tr>\n",
       "      <th>182946</th>\n",
       "      <td>2011-03-13</td>\n",
       "      <td>ACCESORIES_1_001_NYC_4</td>\n",
       "      <td>0.0</td>\n",
       "      <td>0.0</td>\n",
       "    </tr>\n",
       "  </tbody>\n",
       "</table>\n",
       "</div>"
      ],
      "text/plain": [
       "              date                      id  date_id_ventas_semanales_SUM   \n",
       "6555356 2015-03-15  ACCESORIES_1_001_NYC_4                           0.0  \\\n",
       "4817426 2014-02-09  ACCESORIES_1_001_NYC_4                           0.0   \n",
       "2408716 2012-08-05  ACCESORIES_1_001_NYC_4                           0.0   \n",
       "1158626 2011-10-23  ACCESORIES_1_001_NYC_4                           0.0   \n",
       "6585846 2015-03-22  ACCESORIES_1_001_NYC_4                           0.0   \n",
       "5671146 2014-08-24  ACCESORIES_1_001_NYC_4                           0.0   \n",
       "274416  2011-04-03  ACCESORIES_1_001_NYC_4                           0.0   \n",
       "30496   2011-02-06  ACCESORIES_1_001_NYC_4                           0.0   \n",
       "7927406 2016-01-24  ACCESORIES_1_001_NYC_4                           0.0   \n",
       "182946  2011-03-13  ACCESORIES_1_001_NYC_4                           0.0   \n",
       "\n",
       "         date_id_ventas_semanales_SUM_LAG1  \n",
       "6555356                                0.0  \n",
       "4817426                                6.0  \n",
       "2408716                                0.0  \n",
       "1158626                                0.0  \n",
       "6585846                                0.0  \n",
       "5671146                                1.0  \n",
       "274416                                 0.0  \n",
       "30496                                  0.0  \n",
       "7927406                                0.0  \n",
       "182946                                 0.0  "
      ]
     },
     "execution_count": 80,
     "metadata": {},
     "output_type": "execute_result"
    }
   ],
   "source": [
    "sample_df.sample(10)"
   ]
  },
  {
   "cell_type": "markdown",
   "id": "c66c4f6b",
   "metadata": {},
   "source": [
    "# Join TS Features"
   ]
  },
  {
   "cell_type": "markdown",
   "id": "2abb004e",
   "metadata": {},
   "source": [
    "En este apartado, hacemos el merge del full_df con las variables auxiliares.\n",
    "\n",
    "Debemos controlar muy bien el merge, para no provocar un cartesiano."
   ]
  },
  {
   "cell_type": "code",
   "execution_count": 81,
   "id": "f602c8ab",
   "metadata": {},
   "outputs": [
    {
     "name": "stdout",
     "output_type": "stream",
     "text": [
      "Shape antes del merge 8384750\n",
      "Shape despues del merge 8384750\n"
     ]
    }
   ],
   "source": [
    "rows_before_merge = full_df.shape[0]\n",
    "print(f\"Shape antes del merge {rows_before_merge}\")\n",
    "\n",
    "full_df = pd.merge(full_df, vars_ts_shop_id, on = GB_LIST_SHOP_ID, how = \"left\")\n",
    "\n",
    "rows_after_merge = full_df.shape[0]\n",
    "\n",
    "print(f\"Shape despues del merge {rows_after_merge}\")\n",
    "\n",
    "assert rows_before_merge == rows_after_merge, \"Hemos generado un producto cartesiano!\""
   ]
  },
  {
   "cell_type": "code",
   "execution_count": 82,
   "id": "342bf1f1",
   "metadata": {},
   "outputs": [],
   "source": [
    "full_df.to_pickle(\"FULL_DF_ALL_FEATURES_DSMARKET_WEEK_1.pkl\")"
   ]
  },
  {
   "cell_type": "markdown",
   "id": "1731d8de",
   "metadata": {},
   "source": [
    "# Train Test Split"
   ]
  },
  {
   "cell_type": "code",
   "execution_count": 83,
   "id": "18cd3367",
   "metadata": {},
   "outputs": [
    {
     "name": "stdout",
     "output_type": "stream",
     "text": [
      "<class 'pandas.core.frame.DataFrame'>\n",
      "RangeIndex: 8384750 entries, 0 to 8384749\n",
      "Data columns (total 17 columns):\n",
      " #   Column                             Dtype         \n",
      "---  ------                             -----         \n",
      " 0   date                               datetime64[ns]\n",
      " 1   id                                 object        \n",
      " 2   ventas_semanales                   float64       \n",
      " 3   semanas_unicas_con_ventas          float64       \n",
      " 4   total_transactions                 float64       \n",
      " 5   item                               object        \n",
      " 6   category                           object        \n",
      " 7   department                         object        \n",
      " 8   store                              object        \n",
      " 9   store_code                         object        \n",
      " 10  region                             object        \n",
      " 11  date_id_ventas_semanales_SUM       float64       \n",
      " 12  date_id_ventas_semanales_SUM_LAG1  float64       \n",
      " 13  rolling_mean_4w                    float64       \n",
      " 14  rolling_mean_6m                    float64       \n",
      " 15  rolling_std_4w                     float64       \n",
      " 16  rolling_std_6m                     float64       \n",
      "dtypes: datetime64[ns](1), float64(9), object(7)\n",
      "memory usage: 1.1+ GB\n"
     ]
    }
   ],
   "source": [
    "full_df.info()"
   ]
  },
  {
   "cell_type": "code",
   "execution_count": 84,
   "id": "978e33e6",
   "metadata": {},
   "outputs": [
    {
     "data": {
      "text/html": [
       "<div>\n",
       "<style scoped>\n",
       "    .dataframe tbody tr th:only-of-type {\n",
       "        vertical-align: middle;\n",
       "    }\n",
       "\n",
       "    .dataframe tbody tr th {\n",
       "        vertical-align: top;\n",
       "    }\n",
       "\n",
       "    .dataframe thead th {\n",
       "        text-align: right;\n",
       "    }\n",
       "</style>\n",
       "<table border=\"1\" class=\"dataframe\">\n",
       "  <thead>\n",
       "    <tr style=\"text-align: right;\">\n",
       "      <th></th>\n",
       "      <th>date</th>\n",
       "      <th>id</th>\n",
       "      <th>ventas_semanales</th>\n",
       "      <th>semanas_unicas_con_ventas</th>\n",
       "      <th>total_transactions</th>\n",
       "      <th>item</th>\n",
       "      <th>category</th>\n",
       "      <th>department</th>\n",
       "      <th>store</th>\n",
       "      <th>store_code</th>\n",
       "      <th>region</th>\n",
       "      <th>date_id_ventas_semanales_SUM</th>\n",
       "      <th>date_id_ventas_semanales_SUM_LAG1</th>\n",
       "      <th>rolling_mean_4w</th>\n",
       "      <th>rolling_mean_6m</th>\n",
       "      <th>rolling_std_4w</th>\n",
       "      <th>rolling_std_6m</th>\n",
       "    </tr>\n",
       "  </thead>\n",
       "  <tbody>\n",
       "    <tr>\n",
       "      <th>3347448</th>\n",
       "      <td>2013-03-03</td>\n",
       "      <td>SUPERMARKET_3_179_PHI_2</td>\n",
       "      <td>3.0</td>\n",
       "      <td>1.0</td>\n",
       "      <td>1.0</td>\n",
       "      <td>SUPERMARKET_3_179</td>\n",
       "      <td>SUPERMARKET</td>\n",
       "      <td>SUPERMARKET_3</td>\n",
       "      <td>Yorktown</td>\n",
       "      <td>PHI_2</td>\n",
       "      <td>Philadelphia</td>\n",
       "      <td>3.0</td>\n",
       "      <td>0.0</td>\n",
       "      <td>2.50</td>\n",
       "      <td>1.125000</td>\n",
       "      <td>2.081666</td>\n",
       "      <td>1.454005</td>\n",
       "    </tr>\n",
       "    <tr>\n",
       "      <th>4959481</th>\n",
       "      <td>2014-03-09</td>\n",
       "      <td>SUPERMARKET_2_184_BOS_2</td>\n",
       "      <td>43.0</td>\n",
       "      <td>1.0</td>\n",
       "      <td>1.0</td>\n",
       "      <td>SUPERMARKET_2_184</td>\n",
       "      <td>SUPERMARKET</td>\n",
       "      <td>SUPERMARKET_2</td>\n",
       "      <td>Roxbury</td>\n",
       "      <td>BOS_2</td>\n",
       "      <td>Boston</td>\n",
       "      <td>43.0</td>\n",
       "      <td>0.0</td>\n",
       "      <td>10.75</td>\n",
       "      <td>1.791667</td>\n",
       "      <td>21.500000</td>\n",
       "      <td>8.777338</td>\n",
       "    </tr>\n",
       "    <tr>\n",
       "      <th>5416857</th>\n",
       "      <td>2014-06-22</td>\n",
       "      <td>SUPERMARKET_2_186_PHI_1</td>\n",
       "      <td>2.0</td>\n",
       "      <td>1.0</td>\n",
       "      <td>1.0</td>\n",
       "      <td>SUPERMARKET_2_186</td>\n",
       "      <td>SUPERMARKET</td>\n",
       "      <td>SUPERMARKET_2</td>\n",
       "      <td>Midtown_Village</td>\n",
       "      <td>PHI_1</td>\n",
       "      <td>Philadelphia</td>\n",
       "      <td>2.0</td>\n",
       "      <td>2.0</td>\n",
       "      <td>1.75</td>\n",
       "      <td>0.375000</td>\n",
       "      <td>1.258306</td>\n",
       "      <td>0.875388</td>\n",
       "    </tr>\n",
       "    <tr>\n",
       "      <th>6208166</th>\n",
       "      <td>2014-12-21</td>\n",
       "      <td>SUPERMARKET_2_042_NYC_4</td>\n",
       "      <td>5.0</td>\n",
       "      <td>1.0</td>\n",
       "      <td>1.0</td>\n",
       "      <td>SUPERMARKET_2_042</td>\n",
       "      <td>SUPERMARKET</td>\n",
       "      <td>SUPERMARKET_2</td>\n",
       "      <td>Brooklyn</td>\n",
       "      <td>NYC_4</td>\n",
       "      <td>New York</td>\n",
       "      <td>5.0</td>\n",
       "      <td>8.0</td>\n",
       "      <td>4.75</td>\n",
       "      <td>1.125000</td>\n",
       "      <td>3.403430</td>\n",
       "      <td>2.364824</td>\n",
       "    </tr>\n",
       "    <tr>\n",
       "      <th>6664248</th>\n",
       "      <td>2015-04-05</td>\n",
       "      <td>SUPERMARKET_1_133_PHI_2</td>\n",
       "      <td>0.0</td>\n",
       "      <td>0.0</td>\n",
       "      <td>0.0</td>\n",
       "      <td>SUPERMARKET_1_133</td>\n",
       "      <td>SUPERMARKET</td>\n",
       "      <td>SUPERMARKET_1</td>\n",
       "      <td>Yorktown</td>\n",
       "      <td>PHI_2</td>\n",
       "      <td>Philadelphia</td>\n",
       "      <td>0.0</td>\n",
       "      <td>0.0</td>\n",
       "      <td>4.00</td>\n",
       "      <td>2.875000</td>\n",
       "      <td>8.000000</td>\n",
       "      <td>5.202946</td>\n",
       "    </tr>\n",
       "    <tr>\n",
       "      <th>8053903</th>\n",
       "      <td>2016-02-21</td>\n",
       "      <td>ACCESORIES_2_039_NYC_1</td>\n",
       "      <td>0.0</td>\n",
       "      <td>0.0</td>\n",
       "      <td>0.0</td>\n",
       "      <td>ACCESORIES_2_039</td>\n",
       "      <td>ACCESORIES</td>\n",
       "      <td>ACCESORIES_2</td>\n",
       "      <td>Greenwich_Village</td>\n",
       "      <td>NYC_1</td>\n",
       "      <td>New York</td>\n",
       "      <td>0.0</td>\n",
       "      <td>0.0</td>\n",
       "      <td>0.75</td>\n",
       "      <td>0.375000</td>\n",
       "      <td>1.500000</td>\n",
       "      <td>0.769670</td>\n",
       "    </tr>\n",
       "    <tr>\n",
       "      <th>3218875</th>\n",
       "      <td>2013-02-03</td>\n",
       "      <td>SUPERMARKET_1_133_NYC_3</td>\n",
       "      <td>1.0</td>\n",
       "      <td>1.0</td>\n",
       "      <td>1.0</td>\n",
       "      <td>SUPERMARKET_1_133</td>\n",
       "      <td>SUPERMARKET</td>\n",
       "      <td>SUPERMARKET_1</td>\n",
       "      <td>Tribeca</td>\n",
       "      <td>NYC_3</td>\n",
       "      <td>New York</td>\n",
       "      <td>1.0</td>\n",
       "      <td>2.0</td>\n",
       "      <td>1.25</td>\n",
       "      <td>3.291667</td>\n",
       "      <td>0.957427</td>\n",
       "      <td>7.601368</td>\n",
       "    </tr>\n",
       "    <tr>\n",
       "      <th>4056364</th>\n",
       "      <td>2013-08-18</td>\n",
       "      <td>ACCESORIES_1_124_NYC_2</td>\n",
       "      <td>9.0</td>\n",
       "      <td>1.0</td>\n",
       "      <td>1.0</td>\n",
       "      <td>ACCESORIES_1_124</td>\n",
       "      <td>ACCESORIES</td>\n",
       "      <td>ACCESORIES_1</td>\n",
       "      <td>Harlem</td>\n",
       "      <td>NYC_2</td>\n",
       "      <td>New York</td>\n",
       "      <td>9.0</td>\n",
       "      <td>10.0</td>\n",
       "      <td>7.00</td>\n",
       "      <td>4.333333</td>\n",
       "      <td>4.690416</td>\n",
       "      <td>4.650074</td>\n",
       "    </tr>\n",
       "    <tr>\n",
       "      <th>6391292</th>\n",
       "      <td>2015-02-01</td>\n",
       "      <td>SUPERMARKET_2_061_BOS_3</td>\n",
       "      <td>0.0</td>\n",
       "      <td>0.0</td>\n",
       "      <td>0.0</td>\n",
       "      <td>SUPERMARKET_2_061</td>\n",
       "      <td>SUPERMARKET</td>\n",
       "      <td>SUPERMARKET_2</td>\n",
       "      <td>Back_Bay</td>\n",
       "      <td>BOS_3</td>\n",
       "      <td>Boston</td>\n",
       "      <td>0.0</td>\n",
       "      <td>10.0</td>\n",
       "      <td>7.00</td>\n",
       "      <td>6.416667</td>\n",
       "      <td>8.717798</td>\n",
       "      <td>7.586697</td>\n",
       "    </tr>\n",
       "    <tr>\n",
       "      <th>4931215</th>\n",
       "      <td>2014-03-02</td>\n",
       "      <td>SUPERMARKET_3_007_NYC_3</td>\n",
       "      <td>87.0</td>\n",
       "      <td>1.0</td>\n",
       "      <td>1.0</td>\n",
       "      <td>SUPERMARKET_3_007</td>\n",
       "      <td>SUPERMARKET</td>\n",
       "      <td>SUPERMARKET_3</td>\n",
       "      <td>Tribeca</td>\n",
       "      <td>NYC_3</td>\n",
       "      <td>New York</td>\n",
       "      <td>87.0</td>\n",
       "      <td>0.0</td>\n",
       "      <td>44.25</td>\n",
       "      <td>84.333333</td>\n",
       "      <td>51.110175</td>\n",
       "      <td>79.873088</td>\n",
       "    </tr>\n",
       "  </tbody>\n",
       "</table>\n",
       "</div>"
      ],
      "text/plain": [
       "              date                       id  ventas_semanales   \n",
       "3347448 2013-03-03  SUPERMARKET_3_179_PHI_2               3.0  \\\n",
       "4959481 2014-03-09  SUPERMARKET_2_184_BOS_2              43.0   \n",
       "5416857 2014-06-22  SUPERMARKET_2_186_PHI_1               2.0   \n",
       "6208166 2014-12-21  SUPERMARKET_2_042_NYC_4               5.0   \n",
       "6664248 2015-04-05  SUPERMARKET_1_133_PHI_2               0.0   \n",
       "8053903 2016-02-21   ACCESORIES_2_039_NYC_1               0.0   \n",
       "3218875 2013-02-03  SUPERMARKET_1_133_NYC_3               1.0   \n",
       "4056364 2013-08-18   ACCESORIES_1_124_NYC_2               9.0   \n",
       "6391292 2015-02-01  SUPERMARKET_2_061_BOS_3               0.0   \n",
       "4931215 2014-03-02  SUPERMARKET_3_007_NYC_3              87.0   \n",
       "\n",
       "         semanas_unicas_con_ventas  total_transactions               item   \n",
       "3347448                        1.0                 1.0  SUPERMARKET_3_179  \\\n",
       "4959481                        1.0                 1.0  SUPERMARKET_2_184   \n",
       "5416857                        1.0                 1.0  SUPERMARKET_2_186   \n",
       "6208166                        1.0                 1.0  SUPERMARKET_2_042   \n",
       "6664248                        0.0                 0.0  SUPERMARKET_1_133   \n",
       "8053903                        0.0                 0.0   ACCESORIES_2_039   \n",
       "3218875                        1.0                 1.0  SUPERMARKET_1_133   \n",
       "4056364                        1.0                 1.0   ACCESORIES_1_124   \n",
       "6391292                        0.0                 0.0  SUPERMARKET_2_061   \n",
       "4931215                        1.0                 1.0  SUPERMARKET_3_007   \n",
       "\n",
       "            category     department              store store_code   \n",
       "3347448  SUPERMARKET  SUPERMARKET_3           Yorktown      PHI_2  \\\n",
       "4959481  SUPERMARKET  SUPERMARKET_2            Roxbury      BOS_2   \n",
       "5416857  SUPERMARKET  SUPERMARKET_2    Midtown_Village      PHI_1   \n",
       "6208166  SUPERMARKET  SUPERMARKET_2           Brooklyn      NYC_4   \n",
       "6664248  SUPERMARKET  SUPERMARKET_1           Yorktown      PHI_2   \n",
       "8053903   ACCESORIES   ACCESORIES_2  Greenwich_Village      NYC_1   \n",
       "3218875  SUPERMARKET  SUPERMARKET_1            Tribeca      NYC_3   \n",
       "4056364   ACCESORIES   ACCESORIES_1             Harlem      NYC_2   \n",
       "6391292  SUPERMARKET  SUPERMARKET_2           Back_Bay      BOS_3   \n",
       "4931215  SUPERMARKET  SUPERMARKET_3            Tribeca      NYC_3   \n",
       "\n",
       "               region  date_id_ventas_semanales_SUM   \n",
       "3347448  Philadelphia                           3.0  \\\n",
       "4959481        Boston                          43.0   \n",
       "5416857  Philadelphia                           2.0   \n",
       "6208166      New York                           5.0   \n",
       "6664248  Philadelphia                           0.0   \n",
       "8053903      New York                           0.0   \n",
       "3218875      New York                           1.0   \n",
       "4056364      New York                           9.0   \n",
       "6391292        Boston                           0.0   \n",
       "4931215      New York                          87.0   \n",
       "\n",
       "         date_id_ventas_semanales_SUM_LAG1  rolling_mean_4w  rolling_mean_6m   \n",
       "3347448                                0.0             2.50         1.125000  \\\n",
       "4959481                                0.0            10.75         1.791667   \n",
       "5416857                                2.0             1.75         0.375000   \n",
       "6208166                                8.0             4.75         1.125000   \n",
       "6664248                                0.0             4.00         2.875000   \n",
       "8053903                                0.0             0.75         0.375000   \n",
       "3218875                                2.0             1.25         3.291667   \n",
       "4056364                               10.0             7.00         4.333333   \n",
       "6391292                               10.0             7.00         6.416667   \n",
       "4931215                                0.0            44.25        84.333333   \n",
       "\n",
       "         rolling_std_4w  rolling_std_6m  \n",
       "3347448        2.081666        1.454005  \n",
       "4959481       21.500000        8.777338  \n",
       "5416857        1.258306        0.875388  \n",
       "6208166        3.403430        2.364824  \n",
       "6664248        8.000000        5.202946  \n",
       "8053903        1.500000        0.769670  \n",
       "3218875        0.957427        7.601368  \n",
       "4056364        4.690416        4.650074  \n",
       "6391292        8.717798        7.586697  \n",
       "4931215       51.110175       79.873088  "
      ]
     },
     "execution_count": 84,
     "metadata": {},
     "output_type": "execute_result"
    }
   ],
   "source": [
    "full_df.sample(10)"
   ]
  },
  {
   "cell_type": "code",
   "execution_count": 85,
   "id": "8557344c",
   "metadata": {},
   "outputs": [
    {
     "data": {
      "text/plain": [
       "date                                      0\n",
       "id                                        0\n",
       "ventas_semanales                          0\n",
       "semanas_unicas_con_ventas                 0\n",
       "total_transactions                        0\n",
       "item                                      0\n",
       "category                                  0\n",
       "department                                0\n",
       "store                                     0\n",
       "store_code                                0\n",
       "region                                    0\n",
       "date_id_ventas_semanales_SUM              0\n",
       "date_id_ventas_semanales_SUM_LAG1     30490\n",
       "rolling_mean_4w                       91470\n",
       "rolling_mean_6m                      701270\n",
       "rolling_std_4w                        91470\n",
       "rolling_std_6m                       701270\n",
       "dtype: int64"
      ]
     },
     "execution_count": 85,
     "metadata": {},
     "output_type": "execute_result"
    }
   ],
   "source": [
    "full_df.isnull().sum()"
   ]
  },
  {
   "cell_type": "code",
   "execution_count": 86,
   "id": "a666423d",
   "metadata": {},
   "outputs": [],
   "source": [
    "full_df = pd.read_pickle(\"FULL_DF_ALL_FEATURES_DSMARKET_WEEK_1.pkl\")\n",
    "#full_df[\"ventas_semanales\"] = np.clip(full_df[\"ventas_semanales\"], 0, 30)"
   ]
  },
  {
   "cell_type": "code",
   "execution_count": 87,
   "id": "db7a7d16",
   "metadata": {},
   "outputs": [],
   "source": [
    "full_df = full_df.set_index(['item','store_code', 'date'])"
   ]
  },
  {
   "cell_type": "code",
   "execution_count": 88,
   "id": "82925ae5",
   "metadata": {},
   "outputs": [
    {
     "name": "stdout",
     "output_type": "stream",
     "text": [
      "<class 'pandas.core.frame.DataFrame'>\n",
      "MultiIndex: 8384750 entries, ('ACCESORIES_1_001', 'BOS_1', Timestamp('2011-01-30 00:00:00')) to ('SUPERMARKET_3_827', 'PHI_3', Timestamp('2016-05-01 00:00:00'))\n",
      "Data columns (total 14 columns):\n",
      " #   Column                             Dtype  \n",
      "---  ------                             -----  \n",
      " 0   id                                 object \n",
      " 1   ventas_semanales                   float64\n",
      " 2   semanas_unicas_con_ventas          float64\n",
      " 3   total_transactions                 float64\n",
      " 4   category                           object \n",
      " 5   department                         object \n",
      " 6   store                              object \n",
      " 7   region                             object \n",
      " 8   date_id_ventas_semanales_SUM       float64\n",
      " 9   date_id_ventas_semanales_SUM_LAG1  float64\n",
      " 10  rolling_mean_4w                    float64\n",
      " 11  rolling_mean_6m                    float64\n",
      " 12  rolling_std_4w                     float64\n",
      " 13  rolling_std_6m                     float64\n",
      "dtypes: float64(9), object(5)\n",
      "memory usage: 935.7+ MB\n"
     ]
    }
   ],
   "source": [
    "full_df.info()"
   ]
  },
  {
   "cell_type": "code",
   "execution_count": 91,
   "id": "d71fc7d0",
   "metadata": {},
   "outputs": [],
   "source": [
    "COLUMNS_TO_DROP = [\n",
    "    'id',\n",
    "    'semanas_unicas_con_ventas',\n",
    "    'total_transactions',\n",
    "    'store',\n",
    "    'category',\n",
    "    'region',\n",
    "    'department',\n",
    "    'date_id_ventas_semanales_SUM'\n",
    "    #,\n",
    "    #'rolling_mean_4w',\n",
    "    #'rolling_mean_6m',\n",
    "    #'rolling_std_4w',\n",
    "    #'rolling_std_6m'\n",
    "]\n",
    "\n",
    "full_df.drop(COLUMNS_TO_DROP, inplace = True, axis = 1)"
   ]
  },
  {
   "cell_type": "code",
   "execution_count": 92,
   "id": "e755a975",
   "metadata": {},
   "outputs": [
    {
     "data": {
      "text/html": [
       "<div>\n",
       "<style scoped>\n",
       "    .dataframe tbody tr th:only-of-type {\n",
       "        vertical-align: middle;\n",
       "    }\n",
       "\n",
       "    .dataframe tbody tr th {\n",
       "        vertical-align: top;\n",
       "    }\n",
       "\n",
       "    .dataframe thead th {\n",
       "        text-align: right;\n",
       "    }\n",
       "</style>\n",
       "<table border=\"1\" class=\"dataframe\">\n",
       "  <thead>\n",
       "    <tr style=\"text-align: right;\">\n",
       "      <th></th>\n",
       "      <th></th>\n",
       "      <th></th>\n",
       "      <th>ventas_semanales</th>\n",
       "      <th>date_id_ventas_semanales_SUM_LAG1</th>\n",
       "      <th>rolling_mean_4w</th>\n",
       "      <th>rolling_mean_6m</th>\n",
       "      <th>rolling_std_4w</th>\n",
       "      <th>rolling_std_6m</th>\n",
       "    </tr>\n",
       "    <tr>\n",
       "      <th>item</th>\n",
       "      <th>store_code</th>\n",
       "      <th>date</th>\n",
       "      <th></th>\n",
       "      <th></th>\n",
       "      <th></th>\n",
       "      <th></th>\n",
       "      <th></th>\n",
       "      <th></th>\n",
       "    </tr>\n",
       "  </thead>\n",
       "  <tbody>\n",
       "    <tr>\n",
       "      <th>ACCESORIES_1_324</th>\n",
       "      <th>PHI_2</th>\n",
       "      <th>2012-03-11</th>\n",
       "      <td>1.0</td>\n",
       "      <td>0.0</td>\n",
       "      <td>1.00</td>\n",
       "      <td>0.875000</td>\n",
       "      <td>1.414214</td>\n",
       "      <td>1.075922</td>\n",
       "    </tr>\n",
       "    <tr>\n",
       "      <th>HOME_&amp;_GARDEN_2_451</th>\n",
       "      <th>NYC_4</th>\n",
       "      <th>2016-01-31</th>\n",
       "      <td>0.0</td>\n",
       "      <td>0.0</td>\n",
       "      <td>0.25</td>\n",
       "      <td>0.958333</td>\n",
       "      <td>0.500000</td>\n",
       "      <td>1.301476</td>\n",
       "    </tr>\n",
       "    <tr>\n",
       "      <th>ACCESORIES_2_091</th>\n",
       "      <th>PHI_2</th>\n",
       "      <th>2014-12-28</th>\n",
       "      <td>2.0</td>\n",
       "      <td>0.0</td>\n",
       "      <td>3.00</td>\n",
       "      <td>1.791667</td>\n",
       "      <td>2.943920</td>\n",
       "      <td>2.686183</td>\n",
       "    </tr>\n",
       "    <tr>\n",
       "      <th>HOME_&amp;_GARDEN_2_414</th>\n",
       "      <th>NYC_4</th>\n",
       "      <th>2011-03-13</th>\n",
       "      <td>0.0</td>\n",
       "      <td>0.0</td>\n",
       "      <td>0.00</td>\n",
       "      <td>NaN</td>\n",
       "      <td>0.000000</td>\n",
       "      <td>NaN</td>\n",
       "    </tr>\n",
       "    <tr>\n",
       "      <th>SUPERMARKET_2_010</th>\n",
       "      <th>NYC_2</th>\n",
       "      <th>2014-01-26</th>\n",
       "      <td>0.0</td>\n",
       "      <td>0.0</td>\n",
       "      <td>0.00</td>\n",
       "      <td>0.000000</td>\n",
       "      <td>0.000000</td>\n",
       "      <td>0.000000</td>\n",
       "    </tr>\n",
       "  </tbody>\n",
       "</table>\n",
       "</div>"
      ],
      "text/plain": [
       "                                           ventas_semanales   \n",
       "item                store_code date                           \n",
       "ACCESORIES_1_324    PHI_2      2012-03-11               1.0  \\\n",
       "HOME_&_GARDEN_2_451 NYC_4      2016-01-31               0.0   \n",
       "ACCESORIES_2_091    PHI_2      2014-12-28               2.0   \n",
       "HOME_&_GARDEN_2_414 NYC_4      2011-03-13               0.0   \n",
       "SUPERMARKET_2_010   NYC_2      2014-01-26               0.0   \n",
       "\n",
       "                                           date_id_ventas_semanales_SUM_LAG1   \n",
       "item                store_code date                                            \n",
       "ACCESORIES_1_324    PHI_2      2012-03-11                                0.0  \\\n",
       "HOME_&_GARDEN_2_451 NYC_4      2016-01-31                                0.0   \n",
       "ACCESORIES_2_091    PHI_2      2014-12-28                                0.0   \n",
       "HOME_&_GARDEN_2_414 NYC_4      2011-03-13                                0.0   \n",
       "SUPERMARKET_2_010   NYC_2      2014-01-26                                0.0   \n",
       "\n",
       "                                           rolling_mean_4w  rolling_mean_6m   \n",
       "item                store_code date                                           \n",
       "ACCESORIES_1_324    PHI_2      2012-03-11             1.00         0.875000  \\\n",
       "HOME_&_GARDEN_2_451 NYC_4      2016-01-31             0.25         0.958333   \n",
       "ACCESORIES_2_091    PHI_2      2014-12-28             3.00         1.791667   \n",
       "HOME_&_GARDEN_2_414 NYC_4      2011-03-13             0.00              NaN   \n",
       "SUPERMARKET_2_010   NYC_2      2014-01-26             0.00         0.000000   \n",
       "\n",
       "                                           rolling_std_4w  rolling_std_6m  \n",
       "item                store_code date                                        \n",
       "ACCESORIES_1_324    PHI_2      2012-03-11        1.414214        1.075922  \n",
       "HOME_&_GARDEN_2_451 NYC_4      2016-01-31        0.500000        1.301476  \n",
       "ACCESORIES_2_091    PHI_2      2014-12-28        2.943920        2.686183  \n",
       "HOME_&_GARDEN_2_414 NYC_4      2011-03-13        0.000000             NaN  \n",
       "SUPERMARKET_2_010   NYC_2      2014-01-26        0.000000        0.000000  "
      ]
     },
     "execution_count": 92,
     "metadata": {},
     "output_type": "execute_result"
    }
   ],
   "source": [
    "full_df.sample(5)\n"
   ]
  },
  {
   "cell_type": "code",
   "execution_count": 93,
   "id": "fe9090e6",
   "metadata": {},
   "outputs": [
    {
     "name": "stdout",
     "output_type": "stream",
     "text": [
      "<class 'pandas.core.frame.DataFrame'>\n",
      "MultiIndex: 8384750 entries, ('ACCESORIES_1_001', 'BOS_1', Timestamp('2011-01-30 00:00:00')) to ('SUPERMARKET_3_827', 'PHI_3', Timestamp('2016-05-01 00:00:00'))\n",
      "Data columns (total 6 columns):\n",
      " #   Column                             Dtype  \n",
      "---  ------                             -----  \n",
      " 0   ventas_semanales                   float64\n",
      " 1   date_id_ventas_semanales_SUM_LAG1  float64\n",
      " 2   rolling_mean_4w                    float64\n",
      " 3   rolling_mean_6m                    float64\n",
      " 4   rolling_std_4w                     float64\n",
      " 5   rolling_std_6m                     float64\n",
      "dtypes: float64(6)\n",
      "memory usage: 423.9+ MB\n"
     ]
    }
   ],
   "source": [
    "full_df.info()"
   ]
  },
  {
   "cell_type": "code",
   "execution_count": 94,
   "id": "10b7c677",
   "metadata": {},
   "outputs": [],
   "source": [
    "full_df.sort_index(inplace=True) # Ordenamos data set por fecha"
   ]
  },
  {
   "cell_type": "code",
   "execution_count": 95,
   "id": "af12a07a",
   "metadata": {},
   "outputs": [],
   "source": [
    "# Calcula la fecha 6 meses atrás desde la última fecha en los datos\n",
    "six_months_ago = full_df.index.get_level_values('date').max() - pd.DateOffset(months=6)\n",
    "\n",
    "# Calcula la fecha de hace una semana desde la última fecha en los datos\n",
    "one_week_ago = full_df.index.get_level_values('date').max() - pd.DateOffset(weeks=1)\n",
    "\n",
    "# Divide los datos en entrenamiento y validación\n",
    "# El conjunto de entrenamiento ahora no incluye la última semana\n",
    "train_df = full_df[(full_df.index.get_level_values('date') >= six_months_ago) & \n",
    "                   (full_df.index.get_level_values('date') < one_week_ago)] \n",
    "\n",
    "# El conjunto de validación es ahora la penúltima semana\n",
    "valid_df = full_df[full_df.index.get_level_values('date') == one_week_ago]"
   ]
  },
  {
   "cell_type": "markdown",
   "id": "03e10b92",
   "metadata": {},
   "source": [
    "# Model Train"
   ]
  },
  {
   "cell_type": "markdown",
   "id": "1d7299a9",
   "metadata": {},
   "source": [
    "Entrenamos nuestro modelo de Machine Learning.\n",
    "\n"
   ]
  },
  {
   "cell_type": "code",
   "execution_count": 96,
   "id": "ae53f033",
   "metadata": {},
   "outputs": [],
   "source": [
    "model = xgb.XGBRegressor(eval_metric = \"rmse\", early_stopping_rounds = 10, seed = 175)"
   ]
  },
  {
   "cell_type": "code",
   "execution_count": 97,
   "id": "d064f983",
   "metadata": {},
   "outputs": [],
   "source": [
    "model_name = str(model).split(\"(\")[0]\n",
    "day = str(datetime.now()).split()[0].replace(\"-\", \"_\")\n",
    "hour = str(datetime.now()).split()[1].replace(\":\", \"_\").split(\".\")[0]\n",
    "t = str(day) + \"_\" + str(hour)"
   ]
  },
  {
   "cell_type": "code",
   "execution_count": null,
   "id": "4501775f",
   "metadata": {},
   "outputs": [],
   "source": []
  },
  {
   "cell_type": "code",
   "execution_count": 98,
   "id": "7809ec81",
   "metadata": {},
   "outputs": [],
   "source": [
    "X_train = train_df.drop(['ventas_semanales'], axis=1)\n",
    "Y_train = train_df['ventas_semanales']\n",
    "X_valid = valid_df.drop(['ventas_semanales'], axis=1)\n",
    "Y_valid = valid_df['ventas_semanales']"
   ]
  },
  {
   "cell_type": "code",
   "execution_count": 99,
   "id": "6f0ea3d9",
   "metadata": {},
   "outputs": [
    {
     "name": "stdout",
     "output_type": "stream",
     "text": [
      "[0]\tvalidation_0-rmse:13.38215\tvalidation_1-rmse:13.26470\n",
      "[1]\tvalidation_0-rmse:11.72610\tvalidation_1-rmse:11.43908\n",
      "[2]\tvalidation_0-rmse:10.76102\tvalidation_1-rmse:10.49646\n",
      "[3]\tvalidation_0-rmse:10.21847\tvalidation_1-rmse:10.04524\n",
      "[4]\tvalidation_0-rmse:9.89451\tvalidation_1-rmse:9.76065\n",
      "[5]\tvalidation_0-rmse:9.70953\tvalidation_1-rmse:9.60503\n",
      "[6]\tvalidation_0-rmse:9.55520\tvalidation_1-rmse:9.57824\n",
      "[7]\tvalidation_0-rmse:9.46608\tvalidation_1-rmse:9.51927\n",
      "[8]\tvalidation_0-rmse:9.41223\tvalidation_1-rmse:9.55468\n",
      "[9]\tvalidation_0-rmse:9.33951\tvalidation_1-rmse:9.54192\n",
      "[10]\tvalidation_0-rmse:9.31757\tvalidation_1-rmse:9.52702\n",
      "[11]\tvalidation_0-rmse:9.23035\tvalidation_1-rmse:9.49846\n",
      "[12]\tvalidation_0-rmse:9.17320\tvalidation_1-rmse:9.50784\n",
      "[13]\tvalidation_0-rmse:9.15256\tvalidation_1-rmse:9.53091\n",
      "[14]\tvalidation_0-rmse:9.09130\tvalidation_1-rmse:9.55877\n",
      "[15]\tvalidation_0-rmse:9.06514\tvalidation_1-rmse:9.52820\n",
      "[16]\tvalidation_0-rmse:9.04643\tvalidation_1-rmse:9.52862\n",
      "[17]\tvalidation_0-rmse:9.01494\tvalidation_1-rmse:9.53380\n",
      "[18]\tvalidation_0-rmse:8.99523\tvalidation_1-rmse:9.53033\n",
      "[19]\tvalidation_0-rmse:8.94101\tvalidation_1-rmse:9.56333\n",
      "[20]\tvalidation_0-rmse:8.91179\tvalidation_1-rmse:9.60367\n"
     ]
    },
    {
     "data": {
      "text/html": [
       "<style>#sk-container-id-1 {color: black;background-color: white;}#sk-container-id-1 pre{padding: 0;}#sk-container-id-1 div.sk-toggleable {background-color: white;}#sk-container-id-1 label.sk-toggleable__label {cursor: pointer;display: block;width: 100%;margin-bottom: 0;padding: 0.3em;box-sizing: border-box;text-align: center;}#sk-container-id-1 label.sk-toggleable__label-arrow:before {content: \"▸\";float: left;margin-right: 0.25em;color: #696969;}#sk-container-id-1 label.sk-toggleable__label-arrow:hover:before {color: black;}#sk-container-id-1 div.sk-estimator:hover label.sk-toggleable__label-arrow:before {color: black;}#sk-container-id-1 div.sk-toggleable__content {max-height: 0;max-width: 0;overflow: hidden;text-align: left;background-color: #f0f8ff;}#sk-container-id-1 div.sk-toggleable__content pre {margin: 0.2em;color: black;border-radius: 0.25em;background-color: #f0f8ff;}#sk-container-id-1 input.sk-toggleable__control:checked~div.sk-toggleable__content {max-height: 200px;max-width: 100%;overflow: auto;}#sk-container-id-1 input.sk-toggleable__control:checked~label.sk-toggleable__label-arrow:before {content: \"▾\";}#sk-container-id-1 div.sk-estimator input.sk-toggleable__control:checked~label.sk-toggleable__label {background-color: #d4ebff;}#sk-container-id-1 div.sk-label input.sk-toggleable__control:checked~label.sk-toggleable__label {background-color: #d4ebff;}#sk-container-id-1 input.sk-hidden--visually {border: 0;clip: rect(1px 1px 1px 1px);clip: rect(1px, 1px, 1px, 1px);height: 1px;margin: -1px;overflow: hidden;padding: 0;position: absolute;width: 1px;}#sk-container-id-1 div.sk-estimator {font-family: monospace;background-color: #f0f8ff;border: 1px dotted black;border-radius: 0.25em;box-sizing: border-box;margin-bottom: 0.5em;}#sk-container-id-1 div.sk-estimator:hover {background-color: #d4ebff;}#sk-container-id-1 div.sk-parallel-item::after {content: \"\";width: 100%;border-bottom: 1px solid gray;flex-grow: 1;}#sk-container-id-1 div.sk-label:hover label.sk-toggleable__label {background-color: #d4ebff;}#sk-container-id-1 div.sk-serial::before {content: \"\";position: absolute;border-left: 1px solid gray;box-sizing: border-box;top: 0;bottom: 0;left: 50%;z-index: 0;}#sk-container-id-1 div.sk-serial {display: flex;flex-direction: column;align-items: center;background-color: white;padding-right: 0.2em;padding-left: 0.2em;position: relative;}#sk-container-id-1 div.sk-item {position: relative;z-index: 1;}#sk-container-id-1 div.sk-parallel {display: flex;align-items: stretch;justify-content: center;background-color: white;position: relative;}#sk-container-id-1 div.sk-item::before, #sk-container-id-1 div.sk-parallel-item::before {content: \"\";position: absolute;border-left: 1px solid gray;box-sizing: border-box;top: 0;bottom: 0;left: 50%;z-index: -1;}#sk-container-id-1 div.sk-parallel-item {display: flex;flex-direction: column;z-index: 1;position: relative;background-color: white;}#sk-container-id-1 div.sk-parallel-item:first-child::after {align-self: flex-end;width: 50%;}#sk-container-id-1 div.sk-parallel-item:last-child::after {align-self: flex-start;width: 50%;}#sk-container-id-1 div.sk-parallel-item:only-child::after {width: 0;}#sk-container-id-1 div.sk-dashed-wrapped {border: 1px dashed gray;margin: 0 0.4em 0.5em 0.4em;box-sizing: border-box;padding-bottom: 0.4em;background-color: white;}#sk-container-id-1 div.sk-label label {font-family: monospace;font-weight: bold;display: inline-block;line-height: 1.2em;}#sk-container-id-1 div.sk-label-container {text-align: center;}#sk-container-id-1 div.sk-container {/* jupyter's `normalize.less` sets `[hidden] { display: none; }` but bootstrap.min.css set `[hidden] { display: none !important; }` so we also need the `!important` here to be able to override the default hidden behavior on the sphinx rendered scikit-learn.org. See: https://github.com/scikit-learn/scikit-learn/issues/21755 */display: inline-block !important;position: relative;}#sk-container-id-1 div.sk-text-repr-fallback {display: none;}</style><div id=\"sk-container-id-1\" class=\"sk-top-container\"><div class=\"sk-text-repr-fallback\"><pre>XGBRegressor(base_score=None, booster=None, callbacks=None,\n",
       "             colsample_bylevel=None, colsample_bynode=None,\n",
       "             colsample_bytree=None, early_stopping_rounds=10,\n",
       "             enable_categorical=False, eval_metric=&#x27;rmse&#x27;, feature_types=None,\n",
       "             gamma=None, gpu_id=None, grow_policy=None, importance_type=None,\n",
       "             interaction_constraints=None, learning_rate=None, max_bin=None,\n",
       "             max_cat_threshold=None, max_cat_to_onehot=None,\n",
       "             max_delta_step=None, max_depth=None, max_leaves=None,\n",
       "             min_child_weight=None, missing=nan, monotone_constraints=None,\n",
       "             n_estimators=100, n_jobs=None, num_parallel_tree=None,\n",
       "             predictor=None, random_state=None, ...)</pre><b>In a Jupyter environment, please rerun this cell to show the HTML representation or trust the notebook. <br />On GitHub, the HTML representation is unable to render, please try loading this page with nbviewer.org.</b></div><div class=\"sk-container\" hidden><div class=\"sk-item\"><div class=\"sk-estimator sk-toggleable\"><input class=\"sk-toggleable__control sk-hidden--visually\" id=\"sk-estimator-id-1\" type=\"checkbox\" checked><label for=\"sk-estimator-id-1\" class=\"sk-toggleable__label sk-toggleable__label-arrow\">XGBRegressor</label><div class=\"sk-toggleable__content\"><pre>XGBRegressor(base_score=None, booster=None, callbacks=None,\n",
       "             colsample_bylevel=None, colsample_bynode=None,\n",
       "             colsample_bytree=None, early_stopping_rounds=10,\n",
       "             enable_categorical=False, eval_metric=&#x27;rmse&#x27;, feature_types=None,\n",
       "             gamma=None, gpu_id=None, grow_policy=None, importance_type=None,\n",
       "             interaction_constraints=None, learning_rate=None, max_bin=None,\n",
       "             max_cat_threshold=None, max_cat_to_onehot=None,\n",
       "             max_delta_step=None, max_depth=None, max_leaves=None,\n",
       "             min_child_weight=None, missing=nan, monotone_constraints=None,\n",
       "             n_estimators=100, n_jobs=None, num_parallel_tree=None,\n",
       "             predictor=None, random_state=None, ...)</pre></div></div></div></div></div>"
      ],
      "text/plain": [
       "XGBRegressor(base_score=None, booster=None, callbacks=None,\n",
       "             colsample_bylevel=None, colsample_bynode=None,\n",
       "             colsample_bytree=None, early_stopping_rounds=10,\n",
       "             enable_categorical=False, eval_metric='rmse', feature_types=None,\n",
       "             gamma=None, gpu_id=None, grow_policy=None, importance_type=None,\n",
       "             interaction_constraints=None, learning_rate=None, max_bin=None,\n",
       "             max_cat_threshold=None, max_cat_to_onehot=None,\n",
       "             max_delta_step=None, max_depth=None, max_leaves=None,\n",
       "             min_child_weight=None, missing=nan, monotone_constraints=None,\n",
       "             n_estimators=100, n_jobs=None, num_parallel_tree=None,\n",
       "             predictor=None, random_state=None, ...)"
      ]
     },
     "execution_count": 99,
     "metadata": {},
     "output_type": "execute_result"
    }
   ],
   "source": [
    "# Entrenamos el modelo\n",
    "#model = xgb.XGBRegressor(objective='reg:squarederror')\n",
    "\n",
    "#X_train = train_df.drop(['ventas_semanales'], axis=1)\n",
    "#y_train = train_df['ventas_semanales']\n",
    "\n",
    "#model.fit(X_train, y_train)\n",
    "\n",
    "model.fit(X_train, Y_train, \n",
    "    eval_set = [(X_train, Y_train), (X_valid, Y_valid)], \n",
    "    verbose = True)"
   ]
  },
  {
   "cell_type": "code",
   "execution_count": 100,
   "id": "efeb2c8e",
   "metadata": {},
   "outputs": [
    {
     "name": "stdout",
     "output_type": "stream",
     "text": [
      "XGBRegressor_2023_07_14_11_10_41.dat\n"
     ]
    }
   ],
   "source": [
    "pickle.dump(model, open(\"{}_{}.dat\".format(model_name, t), \"wb\"))\n",
    "print(\"{}_{}.dat\".format(model_name, t))"
   ]
  },
  {
   "cell_type": "markdown",
   "id": "47469f97",
   "metadata": {},
   "source": [
    "# Model Evaluation (CORE IDEA)¶\n"
   ]
  },
  {
   "cell_type": "code",
   "execution_count": 101,
   "id": "39665923",
   "metadata": {},
   "outputs": [
    {
     "data": {
      "image/png": "[encoded data removed]",
      "text/plain": [
       "<Figure size 1000x1500 with 1 Axes>"
      ]
     },
     "metadata": {},
     "output_type": "display_data"
    }
   ],
   "source": [
    "importance = model.get_booster().get_score(importance_type = \"gain\")\n",
    "importance = {k: v for k, v in sorted(importance.items(), key = lambda item: item[1])}\n",
    "\n",
    "fig, ax = plt.subplots(figsize = (10, 15))\n",
    "xgb.plot_importance(model, importance_type = \"gain\", ax = ax);"
   ]
  },
  {
   "cell_type": "markdown",
   "id": "902d4abb",
   "metadata": {},
   "source": [
    "# Prediction"
   ]
  },
  {
   "cell_type": "code",
   "execution_count": 102,
   "id": "ff62378d",
   "metadata": {},
   "outputs": [],
   "source": [
    "predictions = model.predict(X_valid)"
   ]
  },
  {
   "cell_type": "code",
   "execution_count": 103,
   "id": "f17f64f9",
   "metadata": {},
   "outputs": [],
   "source": [
    "# Añade las predicciones al DataFrame original\n",
    "full_df.loc[full_df.index.get_level_values('date') == full_df.index.get_level_values('date').max(), 'ventas_semanales'] = predictions"
   ]
  },
  {
   "cell_type": "code",
   "execution_count": 104,
   "id": "df496ceb",
   "metadata": {},
   "outputs": [
    {
     "data": {
      "text/html": [
       "<div>\n",
       "<style scoped>\n",
       "    .dataframe tbody tr th:only-of-type {\n",
       "        vertical-align: middle;\n",
       "    }\n",
       "\n",
       "    .dataframe tbody tr th {\n",
       "        vertical-align: top;\n",
       "    }\n",
       "\n",
       "    .dataframe thead th {\n",
       "        text-align: right;\n",
       "    }\n",
       "</style>\n",
       "<table border=\"1\" class=\"dataframe\">\n",
       "  <thead>\n",
       "    <tr style=\"text-align: right;\">\n",
       "      <th></th>\n",
       "      <th></th>\n",
       "      <th>ventas_semanales</th>\n",
       "      <th>date_id_ventas_semanales_SUM_LAG1</th>\n",
       "      <th>rolling_mean_4w</th>\n",
       "      <th>rolling_mean_6m</th>\n",
       "      <th>rolling_std_4w</th>\n",
       "      <th>rolling_std_6m</th>\n",
       "    </tr>\n",
       "    <tr>\n",
       "      <th>item</th>\n",
       "      <th>store_code</th>\n",
       "      <th></th>\n",
       "      <th></th>\n",
       "      <th></th>\n",
       "      <th></th>\n",
       "      <th></th>\n",
       "      <th></th>\n",
       "    </tr>\n",
       "  </thead>\n",
       "  <tbody>\n",
       "    <tr>\n",
       "      <th rowspan=\"5\" valign=\"top\">ACCESORIES_1_001</th>\n",
       "      <th>BOS_1</th>\n",
       "      <td>0.034463</td>\n",
       "      <td>0.0</td>\n",
       "      <td>0.00</td>\n",
       "      <td>0.916667</td>\n",
       "      <td>0.000000</td>\n",
       "      <td>1.059806</td>\n",
       "    </tr>\n",
       "    <tr>\n",
       "      <th>BOS_2</th>\n",
       "      <td>2.113896</td>\n",
       "      <td>1.0</td>\n",
       "      <td>1.00</td>\n",
       "      <td>1.916667</td>\n",
       "      <td>1.414214</td>\n",
       "      <td>2.282574</td>\n",
       "    </tr>\n",
       "    <tr>\n",
       "      <th>BOS_3</th>\n",
       "      <td>1.649451</td>\n",
       "      <td>0.0</td>\n",
       "      <td>0.75</td>\n",
       "      <td>2.041667</td>\n",
       "      <td>1.500000</td>\n",
       "      <td>2.612331</td>\n",
       "    </tr>\n",
       "    <tr>\n",
       "      <th>NYC_1</th>\n",
       "      <td>6.509677</td>\n",
       "      <td>8.0</td>\n",
       "      <td>6.25</td>\n",
       "      <td>3.083333</td>\n",
       "      <td>5.057997</td>\n",
       "      <td>3.549852</td>\n",
       "    </tr>\n",
       "    <tr>\n",
       "      <th>NYC_2</th>\n",
       "      <td>2.181912</td>\n",
       "      <td>0.0</td>\n",
       "      <td>0.50</td>\n",
       "      <td>2.666667</td>\n",
       "      <td>1.000000</td>\n",
       "      <td>2.973311</td>\n",
       "    </tr>\n",
       "    <tr>\n",
       "      <th>...</th>\n",
       "      <th>...</th>\n",
       "      <td>...</td>\n",
       "      <td>...</td>\n",
       "      <td>...</td>\n",
       "      <td>...</td>\n",
       "      <td>...</td>\n",
       "      <td>...</td>\n",
       "    </tr>\n",
       "    <tr>\n",
       "      <th rowspan=\"5\" valign=\"top\">SUPERMARKET_3_827</th>\n",
       "      <th>NYC_3</th>\n",
       "      <td>0.034463</td>\n",
       "      <td>0.0</td>\n",
       "      <td>0.00</td>\n",
       "      <td>18.500000</td>\n",
       "      <td>0.000000</td>\n",
       "      <td>42.934733</td>\n",
       "    </tr>\n",
       "    <tr>\n",
       "      <th>NYC_4</th>\n",
       "      <td>20.632490</td>\n",
       "      <td>22.0</td>\n",
       "      <td>5.50</td>\n",
       "      <td>2.166667</td>\n",
       "      <td>11.000000</td>\n",
       "      <td>7.263169</td>\n",
       "    </tr>\n",
       "    <tr>\n",
       "      <th>PHI_1</th>\n",
       "      <td>16.969145</td>\n",
       "      <td>15.0</td>\n",
       "      <td>12.75</td>\n",
       "      <td>12.541667</td>\n",
       "      <td>17.036725</td>\n",
       "      <td>15.251455</td>\n",
       "    </tr>\n",
       "    <tr>\n",
       "      <th>PHI_2</th>\n",
       "      <td>11.147594</td>\n",
       "      <td>12.0</td>\n",
       "      <td>12.75</td>\n",
       "      <td>8.666667</td>\n",
       "      <td>9.429563</td>\n",
       "      <td>9.521905</td>\n",
       "    </tr>\n",
       "    <tr>\n",
       "      <th>PHI_3</th>\n",
       "      <td>2.583170</td>\n",
       "      <td>0.0</td>\n",
       "      <td>2.00</td>\n",
       "      <td>3.375000</td>\n",
       "      <td>4.000000</td>\n",
       "      <td>5.419871</td>\n",
       "    </tr>\n",
       "  </tbody>\n",
       "</table>\n",
       "<p>30490 rows × 6 columns</p>\n",
       "</div>"
      ],
      "text/plain": [
       "                              ventas_semanales   \n",
       "item              store_code                     \n",
       "ACCESORIES_1_001  BOS_1               0.034463  \\\n",
       "                  BOS_2               2.113896   \n",
       "                  BOS_3               1.649451   \n",
       "                  NYC_1               6.509677   \n",
       "                  NYC_2               2.181912   \n",
       "...                                        ...   \n",
       "SUPERMARKET_3_827 NYC_3               0.034463   \n",
       "                  NYC_4              20.632490   \n",
       "                  PHI_1              16.969145   \n",
       "                  PHI_2              11.147594   \n",
       "                  PHI_3               2.583170   \n",
       "\n",
       "                              date_id_ventas_semanales_SUM_LAG1   \n",
       "item              store_code                                      \n",
       "ACCESORIES_1_001  BOS_1                                     0.0  \\\n",
       "                  BOS_2                                     1.0   \n",
       "                  BOS_3                                     0.0   \n",
       "                  NYC_1                                     8.0   \n",
       "                  NYC_2                                     0.0   \n",
       "...                                                         ...   \n",
       "SUPERMARKET_3_827 NYC_3                                     0.0   \n",
       "                  NYC_4                                    22.0   \n",
       "                  PHI_1                                    15.0   \n",
       "                  PHI_2                                    12.0   \n",
       "                  PHI_3                                     0.0   \n",
       "\n",
       "                              rolling_mean_4w  rolling_mean_6m   \n",
       "item              store_code                                     \n",
       "ACCESORIES_1_001  BOS_1                  0.00         0.916667  \\\n",
       "                  BOS_2                  1.00         1.916667   \n",
       "                  BOS_3                  0.75         2.041667   \n",
       "                  NYC_1                  6.25         3.083333   \n",
       "                  NYC_2                  0.50         2.666667   \n",
       "...                                       ...              ...   \n",
       "SUPERMARKET_3_827 NYC_3                  0.00        18.500000   \n",
       "                  NYC_4                  5.50         2.166667   \n",
       "                  PHI_1                 12.75        12.541667   \n",
       "                  PHI_2                 12.75         8.666667   \n",
       "                  PHI_3                  2.00         3.375000   \n",
       "\n",
       "                              rolling_std_4w  rolling_std_6m  \n",
       "item              store_code                                  \n",
       "ACCESORIES_1_001  BOS_1             0.000000        1.059806  \n",
       "                  BOS_2             1.414214        2.282574  \n",
       "                  BOS_3             1.500000        2.612331  \n",
       "                  NYC_1             5.057997        3.549852  \n",
       "                  NYC_2             1.000000        2.973311  \n",
       "...                                      ...             ...  \n",
       "SUPERMARKET_3_827 NYC_3             0.000000       42.934733  \n",
       "                  NYC_4            11.000000        7.263169  \n",
       "                  PHI_1            17.036725       15.251455  \n",
       "                  PHI_2             9.429563        9.521905  \n",
       "                  PHI_3             4.000000        5.419871  \n",
       "\n",
       "[30490 rows x 6 columns]"
      ]
     },
     "execution_count": 104,
     "metadata": {},
     "output_type": "execute_result"
    }
   ],
   "source": [
    "date_to_select = pd.to_datetime('2016-05-01')\n",
    "selected_rows = full_df.xs(date_to_select, level='date')\n",
    "selected_rows"
   ]
  },
  {
   "cell_type": "code",
   "execution_count": 105,
   "id": "b76e5391",
   "metadata": {},
   "outputs": [
    {
     "data": {
      "text/plain": [
       "145893.68385378458"
      ]
     },
     "execution_count": 105,
     "metadata": {},
     "output_type": "execute_result"
    }
   ],
   "source": [
    "selected_rows['ventas_semanales'].sum()"
   ]
  },
  {
   "cell_type": "code",
   "execution_count": 106,
   "id": "e8eb3f5f",
   "metadata": {},
   "outputs": [
    {
     "data": {
      "text/html": [
       "<div>\n",
       "<style scoped>\n",
       "    .dataframe tbody tr th:only-of-type {\n",
       "        vertical-align: middle;\n",
       "    }\n",
       "\n",
       "    .dataframe tbody tr th {\n",
       "        vertical-align: top;\n",
       "    }\n",
       "\n",
       "    .dataframe thead th {\n",
       "        text-align: right;\n",
       "    }\n",
       "</style>\n",
       "<table border=\"1\" class=\"dataframe\">\n",
       "  <thead>\n",
       "    <tr style=\"text-align: right;\">\n",
       "      <th></th>\n",
       "      <th></th>\n",
       "      <th>ventas_semanales</th>\n",
       "      <th>date_id_ventas_semanales_SUM_LAG1</th>\n",
       "      <th>rolling_mean_4w</th>\n",
       "      <th>rolling_mean_6m</th>\n",
       "      <th>rolling_std_4w</th>\n",
       "      <th>rolling_std_6m</th>\n",
       "    </tr>\n",
       "    <tr>\n",
       "      <th>item</th>\n",
       "      <th>store_code</th>\n",
       "      <th></th>\n",
       "      <th></th>\n",
       "      <th></th>\n",
       "      <th></th>\n",
       "      <th></th>\n",
       "      <th></th>\n",
       "    </tr>\n",
       "  </thead>\n",
       "  <tbody>\n",
       "    <tr>\n",
       "      <th rowspan=\"5\" valign=\"top\">ACCESORIES_1_001</th>\n",
       "      <th>BOS_1</th>\n",
       "      <td>0.0</td>\n",
       "      <td>0.0</td>\n",
       "      <td>0.00</td>\n",
       "      <td>0.916667</td>\n",
       "      <td>0.000000</td>\n",
       "      <td>1.059806</td>\n",
       "    </tr>\n",
       "    <tr>\n",
       "      <th>BOS_2</th>\n",
       "      <td>1.0</td>\n",
       "      <td>0.0</td>\n",
       "      <td>1.75</td>\n",
       "      <td>1.916667</td>\n",
       "      <td>1.500000</td>\n",
       "      <td>2.282574</td>\n",
       "    </tr>\n",
       "    <tr>\n",
       "      <th>BOS_3</th>\n",
       "      <td>0.0</td>\n",
       "      <td>0.0</td>\n",
       "      <td>1.25</td>\n",
       "      <td>2.041667</td>\n",
       "      <td>1.500000</td>\n",
       "      <td>2.612331</td>\n",
       "    </tr>\n",
       "    <tr>\n",
       "      <th>NYC_1</th>\n",
       "      <td>8.0</td>\n",
       "      <td>5.0</td>\n",
       "      <td>6.25</td>\n",
       "      <td>3.250000</td>\n",
       "      <td>5.057997</td>\n",
       "      <td>3.492227</td>\n",
       "    </tr>\n",
       "    <tr>\n",
       "      <th>NYC_2</th>\n",
       "      <td>0.0</td>\n",
       "      <td>2.0</td>\n",
       "      <td>2.00</td>\n",
       "      <td>2.875000</td>\n",
       "      <td>2.828427</td>\n",
       "      <td>2.953443</td>\n",
       "    </tr>\n",
       "    <tr>\n",
       "      <th>...</th>\n",
       "      <th>...</th>\n",
       "      <td>...</td>\n",
       "      <td>...</td>\n",
       "      <td>...</td>\n",
       "      <td>...</td>\n",
       "      <td>...</td>\n",
       "      <td>...</td>\n",
       "    </tr>\n",
       "    <tr>\n",
       "      <th rowspan=\"5\" valign=\"top\">SUPERMARKET_3_827</th>\n",
       "      <th>NYC_3</th>\n",
       "      <td>0.0</td>\n",
       "      <td>0.0</td>\n",
       "      <td>0.00</td>\n",
       "      <td>18.500000</td>\n",
       "      <td>0.000000</td>\n",
       "      <td>42.934733</td>\n",
       "    </tr>\n",
       "    <tr>\n",
       "      <th>NYC_4</th>\n",
       "      <td>22.0</td>\n",
       "      <td>0.0</td>\n",
       "      <td>12.75</td>\n",
       "      <td>2.166667</td>\n",
       "      <td>14.997222</td>\n",
       "      <td>7.263169</td>\n",
       "    </tr>\n",
       "    <tr>\n",
       "      <th>PHI_1</th>\n",
       "      <td>15.0</td>\n",
       "      <td>0.0</td>\n",
       "      <td>12.75</td>\n",
       "      <td>13.750000</td>\n",
       "      <td>17.036725</td>\n",
       "      <td>15.362999</td>\n",
       "    </tr>\n",
       "    <tr>\n",
       "      <th>PHI_2</th>\n",
       "      <td>12.0</td>\n",
       "      <td>17.0</td>\n",
       "      <td>12.75</td>\n",
       "      <td>9.375000</td>\n",
       "      <td>9.429563</td>\n",
       "      <td>9.481389</td>\n",
       "    </tr>\n",
       "    <tr>\n",
       "      <th>PHI_3</th>\n",
       "      <td>0.0</td>\n",
       "      <td>0.0</td>\n",
       "      <td>2.00</td>\n",
       "      <td>4.041667</td>\n",
       "      <td>4.000000</td>\n",
       "      <td>5.945251</td>\n",
       "    </tr>\n",
       "  </tbody>\n",
       "</table>\n",
       "<p>30490 rows × 6 columns</p>\n",
       "</div>"
      ],
      "text/plain": [
       "                              ventas_semanales   \n",
       "item              store_code                     \n",
       "ACCESORIES_1_001  BOS_1                    0.0  \\\n",
       "                  BOS_2                    1.0   \n",
       "                  BOS_3                    0.0   \n",
       "                  NYC_1                    8.0   \n",
       "                  NYC_2                    0.0   \n",
       "...                                        ...   \n",
       "SUPERMARKET_3_827 NYC_3                    0.0   \n",
       "                  NYC_4                   22.0   \n",
       "                  PHI_1                   15.0   \n",
       "                  PHI_2                   12.0   \n",
       "                  PHI_3                    0.0   \n",
       "\n",
       "                              date_id_ventas_semanales_SUM_LAG1   \n",
       "item              store_code                                      \n",
       "ACCESORIES_1_001  BOS_1                                     0.0  \\\n",
       "                  BOS_2                                     0.0   \n",
       "                  BOS_3                                     0.0   \n",
       "                  NYC_1                                     5.0   \n",
       "                  NYC_2                                     2.0   \n",
       "...                                                         ...   \n",
       "SUPERMARKET_3_827 NYC_3                                     0.0   \n",
       "                  NYC_4                                     0.0   \n",
       "                  PHI_1                                     0.0   \n",
       "                  PHI_2                                    17.0   \n",
       "                  PHI_3                                     0.0   \n",
       "\n",
       "                              rolling_mean_4w  rolling_mean_6m   \n",
       "item              store_code                                     \n",
       "ACCESORIES_1_001  BOS_1                  0.00         0.916667  \\\n",
       "                  BOS_2                  1.75         1.916667   \n",
       "                  BOS_3                  1.25         2.041667   \n",
       "                  NYC_1                  6.25         3.250000   \n",
       "                  NYC_2                  2.00         2.875000   \n",
       "...                                       ...              ...   \n",
       "SUPERMARKET_3_827 NYC_3                  0.00        18.500000   \n",
       "                  NYC_4                 12.75         2.166667   \n",
       "                  PHI_1                 12.75        13.750000   \n",
       "                  PHI_2                 12.75         9.375000   \n",
       "                  PHI_3                  2.00         4.041667   \n",
       "\n",
       "                              rolling_std_4w  rolling_std_6m  \n",
       "item              store_code                                  \n",
       "ACCESORIES_1_001  BOS_1             0.000000        1.059806  \n",
       "                  BOS_2             1.500000        2.282574  \n",
       "                  BOS_3             1.500000        2.612331  \n",
       "                  NYC_1             5.057997        3.492227  \n",
       "                  NYC_2             2.828427        2.953443  \n",
       "...                                      ...             ...  \n",
       "SUPERMARKET_3_827 NYC_3             0.000000       42.934733  \n",
       "                  NYC_4            14.997222        7.263169  \n",
       "                  PHI_1            17.036725       15.362999  \n",
       "                  PHI_2             9.429563        9.481389  \n",
       "                  PHI_3             4.000000        5.945251  \n",
       "\n",
       "[30490 rows x 6 columns]"
      ]
     },
     "execution_count": 106,
     "metadata": {},
     "output_type": "execute_result"
    }
   ],
   "source": [
    "date_to_select = pd.to_datetime('2016-04-24')\n",
    "selected_rows = full_df.xs(date_to_select, level='date')\n",
    "selected_rows"
   ]
  },
  {
   "cell_type": "code",
   "execution_count": 107,
   "id": "96472de2",
   "metadata": {},
   "outputs": [
    {
     "data": {
      "text/plain": [
       "144476.0"
      ]
     },
     "execution_count": 107,
     "metadata": {},
     "output_type": "execute_result"
    }
   ],
   "source": [
    "selected_rows['ventas_semanales'].sum()"
   ]
  },
  {
   "cell_type": "markdown",
   "id": "96712661",
   "metadata": {},
   "source": [
    "# Prediccion para las siguientes semanas"
   ]
  },
  {
   "cell_type": "code",
   "execution_count": 111,
   "id": "3086c782",
   "metadata": {},
   "outputs": [],
   "source": [
    "def add_prediction_weeks(full_df, model, num_weeks):\n",
    "    # Obtener la última fecha en el DataFrame\n",
    "    last_date = full_df.index.get_level_values('date').max()\n",
    "\n",
    "    for i in range(num_weeks):\n",
    "        # Calcular la nueva fecha\n",
    "        new_date = last_date + pd.DateOffset(weeks=1)\n",
    "\n",
    "        # Crear índices para la nueva semana en el DataFrame original\n",
    "        new_index = pd.MultiIndex.from_product([full_df.index.get_level_values('item').unique(), \n",
    "                                                full_df.index.get_level_values('store_code').unique(),\n",
    "                                                [new_date]],\n",
    "                                               names=['item', 'store_code', 'date'])\n",
    "\n",
    "        # Agregar la nueva semana al DataFrame original con valores NaN\n",
    "        full_df = full_df.reindex(full_df.index.union(new_index))\n",
    "        \n",
    "        # Copiar los valores desde la última semana disponible\n",
    "        full_df.loc[new_index, 'date_id_ventas_semanales_SUM_LAG1'] = full_df.loc[pd.IndexSlice[:, :, last_date], 'date_id_ventas_semanales_SUM_LAG1'].values\n",
    "        full_df.loc[new_index, 'rolling_mean_4w'] = full_df.loc[pd.IndexSlice[:, :, last_date], 'rolling_mean_4w'].values\n",
    "        full_df.loc[new_index, 'rolling_mean_6m'] = full_df.loc[pd.IndexSlice[:, :, last_date], 'rolling_mean_6m'].values\n",
    "        full_df.loc[new_index, 'rolling_std_4w'] = full_df.loc[pd.IndexSlice[:, :, last_date], 'rolling_std_4w'].values\n",
    "        full_df.loc[new_index, 'rolling_std_6m'] = full_df.loc[pd.IndexSlice[:, :, last_date], 'rolling_std_6m'].values\n",
    "            \n",
    "        # Realizar la predicción para la nueva semana\n",
    "        X_new = full_df.drop('ventas_semanales', axis=1)\n",
    "        predictions = model.predict(X_new.loc[new_index])\n",
    "\n",
    "        # Asignar las predicciones a la semana correspondiente en el DataFrame\n",
    "        full_df.loc[new_index, 'ventas_semanales'] = predictions\n",
    "\n",
    "        # Actualizar el valor de 'date_id_ventas_semanales_SUM_LAG1_y' para la próxima iteración\n",
    "        full_df.loc[new_index, 'date_id_ventas_semanales_SUM_LAG1'] = predictions\n",
    "\n",
    "        # Actualizar last_date para la próxima iteración\n",
    "        last_date = new_date\n",
    "\n",
    "    return full_df\n"
   ]
  },
  {
   "cell_type": "code",
   "execution_count": 112,
   "id": "9deb588b",
   "metadata": {},
   "outputs": [
    {
     "name": "stdout",
     "output_type": "stream",
     "text": [
      "<class 'pandas.core.frame.DataFrame'>\n",
      "MultiIndex: 8384750 entries, ('ACCESORIES_1_001', 'BOS_1', Timestamp('2011-01-30 00:00:00')) to ('SUPERMARKET_3_827', 'PHI_3', Timestamp('2016-05-01 00:00:00'))\n",
      "Data columns (total 6 columns):\n",
      " #   Column                             Dtype  \n",
      "---  ------                             -----  \n",
      " 0   ventas_semanales                   float64\n",
      " 1   date_id_ventas_semanales_SUM_LAG1  float64\n",
      " 2   rolling_mean_4w                    float64\n",
      " 3   rolling_mean_6m                    float64\n",
      " 4   rolling_std_4w                     float64\n",
      " 5   rolling_std_6m                     float64\n",
      "dtypes: float64(6)\n",
      "memory usage: 681.9+ MB\n"
     ]
    }
   ],
   "source": [
    "full_df.info()"
   ]
  },
  {
   "cell_type": "code",
   "execution_count": 113,
   "id": "df6d7ec8",
   "metadata": {},
   "outputs": [],
   "source": [
    "full_df = add_prediction_weeks(full_df,model,3)"
   ]
  },
  {
   "cell_type": "code",
   "execution_count": 114,
   "id": "a2c5b164",
   "metadata": {},
   "outputs": [],
   "source": [
    "#full_df['ventas_semanales'] = full_df['ventas_semanales'].round()"
   ]
  },
  {
   "cell_type": "code",
   "execution_count": 115,
   "id": "279f10c7",
   "metadata": {},
   "outputs": [
    {
     "data": {
      "text/html": [
       "<div>\n",
       "<style scoped>\n",
       "    .dataframe tbody tr th:only-of-type {\n",
       "        vertical-align: middle;\n",
       "    }\n",
       "\n",
       "    .dataframe tbody tr th {\n",
       "        vertical-align: top;\n",
       "    }\n",
       "\n",
       "    .dataframe thead th {\n",
       "        text-align: right;\n",
       "    }\n",
       "</style>\n",
       "<table border=\"1\" class=\"dataframe\">\n",
       "  <thead>\n",
       "    <tr style=\"text-align: right;\">\n",
       "      <th></th>\n",
       "      <th></th>\n",
       "      <th>ventas_semanales</th>\n",
       "      <th>date_id_ventas_semanales_SUM_LAG1</th>\n",
       "      <th>rolling_mean_4w</th>\n",
       "      <th>rolling_mean_6m</th>\n",
       "      <th>rolling_std_4w</th>\n",
       "      <th>rolling_std_6m</th>\n",
       "    </tr>\n",
       "    <tr>\n",
       "      <th>item</th>\n",
       "      <th>store_code</th>\n",
       "      <th></th>\n",
       "      <th></th>\n",
       "      <th></th>\n",
       "      <th></th>\n",
       "      <th></th>\n",
       "      <th></th>\n",
       "    </tr>\n",
       "  </thead>\n",
       "  <tbody>\n",
       "    <tr>\n",
       "      <th rowspan=\"5\" valign=\"top\">ACCESORIES_1_001</th>\n",
       "      <th>BOS_1</th>\n",
       "      <td>0.034463</td>\n",
       "      <td>0.034463</td>\n",
       "      <td>0.00</td>\n",
       "      <td>0.916667</td>\n",
       "      <td>0.000000</td>\n",
       "      <td>1.059806</td>\n",
       "    </tr>\n",
       "    <tr>\n",
       "      <th>BOS_2</th>\n",
       "      <td>1.028380</td>\n",
       "      <td>1.028380</td>\n",
       "      <td>1.00</td>\n",
       "      <td>1.916667</td>\n",
       "      <td>1.414214</td>\n",
       "      <td>2.282574</td>\n",
       "    </tr>\n",
       "    <tr>\n",
       "      <th>BOS_3</th>\n",
       "      <td>1.013126</td>\n",
       "      <td>1.013126</td>\n",
       "      <td>0.75</td>\n",
       "      <td>2.041667</td>\n",
       "      <td>1.500000</td>\n",
       "      <td>2.612331</td>\n",
       "    </tr>\n",
       "    <tr>\n",
       "      <th>NYC_1</th>\n",
       "      <td>5.662488</td>\n",
       "      <td>5.662488</td>\n",
       "      <td>6.25</td>\n",
       "      <td>3.083333</td>\n",
       "      <td>5.057997</td>\n",
       "      <td>3.549852</td>\n",
       "    </tr>\n",
       "    <tr>\n",
       "      <th>NYC_2</th>\n",
       "      <td>0.653014</td>\n",
       "      <td>0.653014</td>\n",
       "      <td>0.50</td>\n",
       "      <td>2.666667</td>\n",
       "      <td>1.000000</td>\n",
       "      <td>2.973311</td>\n",
       "    </tr>\n",
       "    <tr>\n",
       "      <th>...</th>\n",
       "      <th>...</th>\n",
       "      <td>...</td>\n",
       "      <td>...</td>\n",
       "      <td>...</td>\n",
       "      <td>...</td>\n",
       "      <td>...</td>\n",
       "      <td>...</td>\n",
       "    </tr>\n",
       "    <tr>\n",
       "      <th rowspan=\"5\" valign=\"top\">SUPERMARKET_3_827</th>\n",
       "      <th>NYC_3</th>\n",
       "      <td>0.034463</td>\n",
       "      <td>0.034463</td>\n",
       "      <td>0.00</td>\n",
       "      <td>18.500000</td>\n",
       "      <td>0.000000</td>\n",
       "      <td>42.934733</td>\n",
       "    </tr>\n",
       "    <tr>\n",
       "      <th>NYC_4</th>\n",
       "      <td>0.851301</td>\n",
       "      <td>0.851301</td>\n",
       "      <td>5.50</td>\n",
       "      <td>2.166667</td>\n",
       "      <td>11.000000</td>\n",
       "      <td>7.263169</td>\n",
       "    </tr>\n",
       "    <tr>\n",
       "      <th>PHI_1</th>\n",
       "      <td>11.710000</td>\n",
       "      <td>11.710000</td>\n",
       "      <td>12.75</td>\n",
       "      <td>12.541667</td>\n",
       "      <td>17.036725</td>\n",
       "      <td>15.251455</td>\n",
       "    </tr>\n",
       "    <tr>\n",
       "      <th>PHI_2</th>\n",
       "      <td>12.375142</td>\n",
       "      <td>12.375142</td>\n",
       "      <td>12.75</td>\n",
       "      <td>8.666667</td>\n",
       "      <td>9.429563</td>\n",
       "      <td>9.521905</td>\n",
       "    </tr>\n",
       "    <tr>\n",
       "      <th>PHI_3</th>\n",
       "      <td>2.583170</td>\n",
       "      <td>2.583170</td>\n",
       "      <td>2.00</td>\n",
       "      <td>3.375000</td>\n",
       "      <td>4.000000</td>\n",
       "      <td>5.419871</td>\n",
       "    </tr>\n",
       "  </tbody>\n",
       "</table>\n",
       "<p>30490 rows × 6 columns</p>\n",
       "</div>"
      ],
      "text/plain": [
       "                              ventas_semanales   \n",
       "item              store_code                     \n",
       "ACCESORIES_1_001  BOS_1               0.034463  \\\n",
       "                  BOS_2               1.028380   \n",
       "                  BOS_3               1.013126   \n",
       "                  NYC_1               5.662488   \n",
       "                  NYC_2               0.653014   \n",
       "...                                        ...   \n",
       "SUPERMARKET_3_827 NYC_3               0.034463   \n",
       "                  NYC_4               0.851301   \n",
       "                  PHI_1              11.710000   \n",
       "                  PHI_2              12.375142   \n",
       "                  PHI_3               2.583170   \n",
       "\n",
       "                              date_id_ventas_semanales_SUM_LAG1   \n",
       "item              store_code                                      \n",
       "ACCESORIES_1_001  BOS_1                                0.034463  \\\n",
       "                  BOS_2                                1.028380   \n",
       "                  BOS_3                                1.013126   \n",
       "                  NYC_1                                5.662488   \n",
       "                  NYC_2                                0.653014   \n",
       "...                                                         ...   \n",
       "SUPERMARKET_3_827 NYC_3                                0.034463   \n",
       "                  NYC_4                                0.851301   \n",
       "                  PHI_1                               11.710000   \n",
       "                  PHI_2                               12.375142   \n",
       "                  PHI_3                                2.583170   \n",
       "\n",
       "                              rolling_mean_4w  rolling_mean_6m   \n",
       "item              store_code                                     \n",
       "ACCESORIES_1_001  BOS_1                  0.00         0.916667  \\\n",
       "                  BOS_2                  1.00         1.916667   \n",
       "                  BOS_3                  0.75         2.041667   \n",
       "                  NYC_1                  6.25         3.083333   \n",
       "                  NYC_2                  0.50         2.666667   \n",
       "...                                       ...              ...   \n",
       "SUPERMARKET_3_827 NYC_3                  0.00        18.500000   \n",
       "                  NYC_4                  5.50         2.166667   \n",
       "                  PHI_1                 12.75        12.541667   \n",
       "                  PHI_2                 12.75         8.666667   \n",
       "                  PHI_3                  2.00         3.375000   \n",
       "\n",
       "                              rolling_std_4w  rolling_std_6m  \n",
       "item              store_code                                  \n",
       "ACCESORIES_1_001  BOS_1             0.000000        1.059806  \n",
       "                  BOS_2             1.414214        2.282574  \n",
       "                  BOS_3             1.500000        2.612331  \n",
       "                  NYC_1             5.057997        3.549852  \n",
       "                  NYC_2             1.000000        2.973311  \n",
       "...                                      ...             ...  \n",
       "SUPERMARKET_3_827 NYC_3             0.000000       42.934733  \n",
       "                  NYC_4            11.000000        7.263169  \n",
       "                  PHI_1            17.036725       15.251455  \n",
       "                  PHI_2             9.429563        9.521905  \n",
       "                  PHI_3             4.000000        5.419871  \n",
       "\n",
       "[30490 rows x 6 columns]"
      ]
     },
     "execution_count": 115,
     "metadata": {},
     "output_type": "execute_result"
    }
   ],
   "source": [
    "date_to_select = pd.to_datetime('2016-05-08')\n",
    "selected_rows = full_df.xs(date_to_select, level='date')\n",
    "selected_rows"
   ]
  },
  {
   "cell_type": "code",
   "execution_count": 116,
   "id": "ebc772c0",
   "metadata": {},
   "outputs": [
    {
     "data": {
      "text/plain": [
       "100829.65734066628"
      ]
     },
     "execution_count": 116,
     "metadata": {},
     "output_type": "execute_result"
    }
   ],
   "source": [
    "selected_rows['ventas_semanales'].sum()"
   ]
  },
  {
   "cell_type": "code",
   "execution_count": 117,
   "id": "d3000188",
   "metadata": {},
   "outputs": [
    {
     "data": {
      "text/html": [
       "<div>\n",
       "<style scoped>\n",
       "    .dataframe tbody tr th:only-of-type {\n",
       "        vertical-align: middle;\n",
       "    }\n",
       "\n",
       "    .dataframe tbody tr th {\n",
       "        vertical-align: top;\n",
       "    }\n",
       "\n",
       "    .dataframe thead th {\n",
       "        text-align: right;\n",
       "    }\n",
       "</style>\n",
       "<table border=\"1\" class=\"dataframe\">\n",
       "  <thead>\n",
       "    <tr style=\"text-align: right;\">\n",
       "      <th></th>\n",
       "      <th></th>\n",
       "      <th>ventas_semanales</th>\n",
       "      <th>date_id_ventas_semanales_SUM_LAG1</th>\n",
       "      <th>rolling_mean_4w</th>\n",
       "      <th>rolling_mean_6m</th>\n",
       "      <th>rolling_std_4w</th>\n",
       "      <th>rolling_std_6m</th>\n",
       "    </tr>\n",
       "    <tr>\n",
       "      <th>item</th>\n",
       "      <th>store_code</th>\n",
       "      <th></th>\n",
       "      <th></th>\n",
       "      <th></th>\n",
       "      <th></th>\n",
       "      <th></th>\n",
       "      <th></th>\n",
       "    </tr>\n",
       "  </thead>\n",
       "  <tbody>\n",
       "    <tr>\n",
       "      <th rowspan=\"5\" valign=\"top\">ACCESORIES_1_001</th>\n",
       "      <th>BOS_1</th>\n",
       "      <td>0.034463</td>\n",
       "      <td>0.034463</td>\n",
       "      <td>0.00</td>\n",
       "      <td>0.916667</td>\n",
       "      <td>0.000000</td>\n",
       "      <td>1.059806</td>\n",
       "    </tr>\n",
       "    <tr>\n",
       "      <th>BOS_2</th>\n",
       "      <td>1.028380</td>\n",
       "      <td>1.028380</td>\n",
       "      <td>1.00</td>\n",
       "      <td>1.916667</td>\n",
       "      <td>1.414214</td>\n",
       "      <td>2.282574</td>\n",
       "    </tr>\n",
       "    <tr>\n",
       "      <th>BOS_3</th>\n",
       "      <td>0.622393</td>\n",
       "      <td>0.622393</td>\n",
       "      <td>0.75</td>\n",
       "      <td>2.041667</td>\n",
       "      <td>1.500000</td>\n",
       "      <td>2.612331</td>\n",
       "    </tr>\n",
       "    <tr>\n",
       "      <th>NYC_1</th>\n",
       "      <td>6.299986</td>\n",
       "      <td>6.299986</td>\n",
       "      <td>6.25</td>\n",
       "      <td>3.083333</td>\n",
       "      <td>5.057997</td>\n",
       "      <td>3.549852</td>\n",
       "    </tr>\n",
       "    <tr>\n",
       "      <th>NYC_2</th>\n",
       "      <td>0.367040</td>\n",
       "      <td>0.367040</td>\n",
       "      <td>0.50</td>\n",
       "      <td>2.666667</td>\n",
       "      <td>1.000000</td>\n",
       "      <td>2.973311</td>\n",
       "    </tr>\n",
       "    <tr>\n",
       "      <th>...</th>\n",
       "      <th>...</th>\n",
       "      <td>...</td>\n",
       "      <td>...</td>\n",
       "      <td>...</td>\n",
       "      <td>...</td>\n",
       "      <td>...</td>\n",
       "      <td>...</td>\n",
       "    </tr>\n",
       "    <tr>\n",
       "      <th rowspan=\"5\" valign=\"top\">SUPERMARKET_3_827</th>\n",
       "      <th>NYC_3</th>\n",
       "      <td>0.034463</td>\n",
       "      <td>0.034463</td>\n",
       "      <td>0.00</td>\n",
       "      <td>18.500000</td>\n",
       "      <td>0.000000</td>\n",
       "      <td>42.934733</td>\n",
       "    </tr>\n",
       "    <tr>\n",
       "      <th>NYC_4</th>\n",
       "      <td>7.240319</td>\n",
       "      <td>7.240319</td>\n",
       "      <td>5.50</td>\n",
       "      <td>2.166667</td>\n",
       "      <td>11.000000</td>\n",
       "      <td>7.263169</td>\n",
       "    </tr>\n",
       "    <tr>\n",
       "      <th>PHI_1</th>\n",
       "      <td>12.530944</td>\n",
       "      <td>12.530944</td>\n",
       "      <td>12.75</td>\n",
       "      <td>12.541667</td>\n",
       "      <td>17.036725</td>\n",
       "      <td>15.251455</td>\n",
       "    </tr>\n",
       "    <tr>\n",
       "      <th>PHI_2</th>\n",
       "      <td>12.375142</td>\n",
       "      <td>12.375142</td>\n",
       "      <td>12.75</td>\n",
       "      <td>8.666667</td>\n",
       "      <td>9.429563</td>\n",
       "      <td>9.521905</td>\n",
       "    </tr>\n",
       "    <tr>\n",
       "      <th>PHI_3</th>\n",
       "      <td>2.125816</td>\n",
       "      <td>2.125816</td>\n",
       "      <td>2.00</td>\n",
       "      <td>3.375000</td>\n",
       "      <td>4.000000</td>\n",
       "      <td>5.419871</td>\n",
       "    </tr>\n",
       "  </tbody>\n",
       "</table>\n",
       "<p>30490 rows × 6 columns</p>\n",
       "</div>"
      ],
      "text/plain": [
       "                              ventas_semanales   \n",
       "item              store_code                     \n",
       "ACCESORIES_1_001  BOS_1               0.034463  \\\n",
       "                  BOS_2               1.028380   \n",
       "                  BOS_3               0.622393   \n",
       "                  NYC_1               6.299986   \n",
       "                  NYC_2               0.367040   \n",
       "...                                        ...   \n",
       "SUPERMARKET_3_827 NYC_3               0.034463   \n",
       "                  NYC_4               7.240319   \n",
       "                  PHI_1              12.530944   \n",
       "                  PHI_2              12.375142   \n",
       "                  PHI_3               2.125816   \n",
       "\n",
       "                              date_id_ventas_semanales_SUM_LAG1   \n",
       "item              store_code                                      \n",
       "ACCESORIES_1_001  BOS_1                                0.034463  \\\n",
       "                  BOS_2                                1.028380   \n",
       "                  BOS_3                                0.622393   \n",
       "                  NYC_1                                6.299986   \n",
       "                  NYC_2                                0.367040   \n",
       "...                                                         ...   \n",
       "SUPERMARKET_3_827 NYC_3                                0.034463   \n",
       "                  NYC_4                                7.240319   \n",
       "                  PHI_1                               12.530944   \n",
       "                  PHI_2                               12.375142   \n",
       "                  PHI_3                                2.125816   \n",
       "\n",
       "                              rolling_mean_4w  rolling_mean_6m   \n",
       "item              store_code                                     \n",
       "ACCESORIES_1_001  BOS_1                  0.00         0.916667  \\\n",
       "                  BOS_2                  1.00         1.916667   \n",
       "                  BOS_3                  0.75         2.041667   \n",
       "                  NYC_1                  6.25         3.083333   \n",
       "                  NYC_2                  0.50         2.666667   \n",
       "...                                       ...              ...   \n",
       "SUPERMARKET_3_827 NYC_3                  0.00        18.500000   \n",
       "                  NYC_4                  5.50         2.166667   \n",
       "                  PHI_1                 12.75        12.541667   \n",
       "                  PHI_2                 12.75         8.666667   \n",
       "                  PHI_3                  2.00         3.375000   \n",
       "\n",
       "                              rolling_std_4w  rolling_std_6m  \n",
       "item              store_code                                  \n",
       "ACCESORIES_1_001  BOS_1             0.000000        1.059806  \n",
       "                  BOS_2             1.414214        2.282574  \n",
       "                  BOS_3             1.500000        2.612331  \n",
       "                  NYC_1             5.057997        3.549852  \n",
       "                  NYC_2             1.000000        2.973311  \n",
       "...                                      ...             ...  \n",
       "SUPERMARKET_3_827 NYC_3             0.000000       42.934733  \n",
       "                  NYC_4            11.000000        7.263169  \n",
       "                  PHI_1            17.036725       15.251455  \n",
       "                  PHI_2             9.429563        9.521905  \n",
       "                  PHI_3             4.000000        5.419871  \n",
       "\n",
       "[30490 rows x 6 columns]"
      ]
     },
     "execution_count": 117,
     "metadata": {},
     "output_type": "execute_result"
    }
   ],
   "source": [
    "date_to_select = pd.to_datetime('2016-05-15')\n",
    "selected_rows = full_df.xs(date_to_select, level='date')\n",
    "selected_rows"
   ]
  },
  {
   "cell_type": "code",
   "execution_count": 118,
   "id": "1f1a7d1c",
   "metadata": {},
   "outputs": [
    {
     "data": {
      "text/plain": [
       "110910.00591249019"
      ]
     },
     "execution_count": 118,
     "metadata": {},
     "output_type": "execute_result"
    }
   ],
   "source": [
    "selected_rows['ventas_semanales'].sum()"
   ]
  },
  {
   "cell_type": "code",
   "execution_count": 119,
   "id": "165690a3",
   "metadata": {},
   "outputs": [
    {
     "data": {
      "text/html": [
       "<div>\n",
       "<style scoped>\n",
       "    .dataframe tbody tr th:only-of-type {\n",
       "        vertical-align: middle;\n",
       "    }\n",
       "\n",
       "    .dataframe tbody tr th {\n",
       "        vertical-align: top;\n",
       "    }\n",
       "\n",
       "    .dataframe thead th {\n",
       "        text-align: right;\n",
       "    }\n",
       "</style>\n",
       "<table border=\"1\" class=\"dataframe\">\n",
       "  <thead>\n",
       "    <tr style=\"text-align: right;\">\n",
       "      <th></th>\n",
       "      <th></th>\n",
       "      <th>ventas_semanales</th>\n",
       "      <th>date_id_ventas_semanales_SUM_LAG1</th>\n",
       "      <th>rolling_mean_4w</th>\n",
       "      <th>rolling_mean_6m</th>\n",
       "      <th>rolling_std_4w</th>\n",
       "      <th>rolling_std_6m</th>\n",
       "    </tr>\n",
       "    <tr>\n",
       "      <th>item</th>\n",
       "      <th>store_code</th>\n",
       "      <th></th>\n",
       "      <th></th>\n",
       "      <th></th>\n",
       "      <th></th>\n",
       "      <th></th>\n",
       "      <th></th>\n",
       "    </tr>\n",
       "  </thead>\n",
       "  <tbody>\n",
       "    <tr>\n",
       "      <th rowspan=\"5\" valign=\"top\">ACCESORIES_1_001</th>\n",
       "      <th>BOS_1</th>\n",
       "      <td>0.034463</td>\n",
       "      <td>0.034463</td>\n",
       "      <td>0.00</td>\n",
       "      <td>0.916667</td>\n",
       "      <td>0.000000</td>\n",
       "      <td>1.059806</td>\n",
       "    </tr>\n",
       "    <tr>\n",
       "      <th>BOS_2</th>\n",
       "      <td>1.028380</td>\n",
       "      <td>1.028380</td>\n",
       "      <td>1.00</td>\n",
       "      <td>1.916667</td>\n",
       "      <td>1.414214</td>\n",
       "      <td>2.282574</td>\n",
       "    </tr>\n",
       "    <tr>\n",
       "      <th>BOS_3</th>\n",
       "      <td>0.622393</td>\n",
       "      <td>0.622393</td>\n",
       "      <td>0.75</td>\n",
       "      <td>2.041667</td>\n",
       "      <td>1.500000</td>\n",
       "      <td>2.612331</td>\n",
       "    </tr>\n",
       "    <tr>\n",
       "      <th>NYC_1</th>\n",
       "      <td>6.299986</td>\n",
       "      <td>6.299986</td>\n",
       "      <td>6.25</td>\n",
       "      <td>3.083333</td>\n",
       "      <td>5.057997</td>\n",
       "      <td>3.549852</td>\n",
       "    </tr>\n",
       "    <tr>\n",
       "      <th>NYC_2</th>\n",
       "      <td>0.367040</td>\n",
       "      <td>0.367040</td>\n",
       "      <td>0.50</td>\n",
       "      <td>2.666667</td>\n",
       "      <td>1.000000</td>\n",
       "      <td>2.973311</td>\n",
       "    </tr>\n",
       "    <tr>\n",
       "      <th>...</th>\n",
       "      <th>...</th>\n",
       "      <td>...</td>\n",
       "      <td>...</td>\n",
       "      <td>...</td>\n",
       "      <td>...</td>\n",
       "      <td>...</td>\n",
       "      <td>...</td>\n",
       "    </tr>\n",
       "    <tr>\n",
       "      <th rowspan=\"5\" valign=\"top\">SUPERMARKET_3_827</th>\n",
       "      <th>NYC_3</th>\n",
       "      <td>0.034463</td>\n",
       "      <td>0.034463</td>\n",
       "      <td>0.00</td>\n",
       "      <td>18.500000</td>\n",
       "      <td>0.000000</td>\n",
       "      <td>42.934733</td>\n",
       "    </tr>\n",
       "    <tr>\n",
       "      <th>NYC_4</th>\n",
       "      <td>7.240319</td>\n",
       "      <td>7.240319</td>\n",
       "      <td>5.50</td>\n",
       "      <td>2.166667</td>\n",
       "      <td>11.000000</td>\n",
       "      <td>7.263169</td>\n",
       "    </tr>\n",
       "    <tr>\n",
       "      <th>PHI_1</th>\n",
       "      <td>12.530944</td>\n",
       "      <td>12.530944</td>\n",
       "      <td>12.75</td>\n",
       "      <td>12.541667</td>\n",
       "      <td>17.036725</td>\n",
       "      <td>15.251455</td>\n",
       "    </tr>\n",
       "    <tr>\n",
       "      <th>PHI_2</th>\n",
       "      <td>12.375142</td>\n",
       "      <td>12.375142</td>\n",
       "      <td>12.75</td>\n",
       "      <td>8.666667</td>\n",
       "      <td>9.429563</td>\n",
       "      <td>9.521905</td>\n",
       "    </tr>\n",
       "    <tr>\n",
       "      <th>PHI_3</th>\n",
       "      <td>2.125816</td>\n",
       "      <td>2.125816</td>\n",
       "      <td>2.00</td>\n",
       "      <td>3.375000</td>\n",
       "      <td>4.000000</td>\n",
       "      <td>5.419871</td>\n",
       "    </tr>\n",
       "  </tbody>\n",
       "</table>\n",
       "<p>30490 rows × 6 columns</p>\n",
       "</div>"
      ],
      "text/plain": [
       "                              ventas_semanales   \n",
       "item              store_code                     \n",
       "ACCESORIES_1_001  BOS_1               0.034463  \\\n",
       "                  BOS_2               1.028380   \n",
       "                  BOS_3               0.622393   \n",
       "                  NYC_1               6.299986   \n",
       "                  NYC_2               0.367040   \n",
       "...                                        ...   \n",
       "SUPERMARKET_3_827 NYC_3               0.034463   \n",
       "                  NYC_4               7.240319   \n",
       "                  PHI_1              12.530944   \n",
       "                  PHI_2              12.375142   \n",
       "                  PHI_3               2.125816   \n",
       "\n",
       "                              date_id_ventas_semanales_SUM_LAG1   \n",
       "item              store_code                                      \n",
       "ACCESORIES_1_001  BOS_1                                0.034463  \\\n",
       "                  BOS_2                                1.028380   \n",
       "                  BOS_3                                0.622393   \n",
       "                  NYC_1                                6.299986   \n",
       "                  NYC_2                                0.367040   \n",
       "...                                                         ...   \n",
       "SUPERMARKET_3_827 NYC_3                                0.034463   \n",
       "                  NYC_4                                7.240319   \n",
       "                  PHI_1                               12.530944   \n",
       "                  PHI_2                               12.375142   \n",
       "                  PHI_3                                2.125816   \n",
       "\n",
       "                              rolling_mean_4w  rolling_mean_6m   \n",
       "item              store_code                                     \n",
       "ACCESORIES_1_001  BOS_1                  0.00         0.916667  \\\n",
       "                  BOS_2                  1.00         1.916667   \n",
       "                  BOS_3                  0.75         2.041667   \n",
       "                  NYC_1                  6.25         3.083333   \n",
       "                  NYC_2                  0.50         2.666667   \n",
       "...                                       ...              ...   \n",
       "SUPERMARKET_3_827 NYC_3                  0.00        18.500000   \n",
       "                  NYC_4                  5.50         2.166667   \n",
       "                  PHI_1                 12.75        12.541667   \n",
       "                  PHI_2                 12.75         8.666667   \n",
       "                  PHI_3                  2.00         3.375000   \n",
       "\n",
       "                              rolling_std_4w  rolling_std_6m  \n",
       "item              store_code                                  \n",
       "ACCESORIES_1_001  BOS_1             0.000000        1.059806  \n",
       "                  BOS_2             1.414214        2.282574  \n",
       "                  BOS_3             1.500000        2.612331  \n",
       "                  NYC_1             5.057997        3.549852  \n",
       "                  NYC_2             1.000000        2.973311  \n",
       "...                                      ...             ...  \n",
       "SUPERMARKET_3_827 NYC_3             0.000000       42.934733  \n",
       "                  NYC_4            11.000000        7.263169  \n",
       "                  PHI_1            17.036725       15.251455  \n",
       "                  PHI_2             9.429563        9.521905  \n",
       "                  PHI_3             4.000000        5.419871  \n",
       "\n",
       "[30490 rows x 6 columns]"
      ]
     },
     "execution_count": 119,
     "metadata": {},
     "output_type": "execute_result"
    }
   ],
   "source": [
    "date_to_select = pd.to_datetime('2016-05-15')\n",
    "selected_rows = full_df.xs(date_to_select, level='date')\n",
    "selected_rows"
   ]
  },
  {
   "cell_type": "code",
   "execution_count": 120,
   "id": "ffbe7770",
   "metadata": {},
   "outputs": [
    {
     "data": {
      "text/plain": [
       "110910.00591249019"
      ]
     },
     "execution_count": 120,
     "metadata": {},
     "output_type": "execute_result"
    }
   ],
   "source": [
    "selected_rows['ventas_semanales'].sum()"
   ]
  },
  {
   "cell_type": "code",
   "execution_count": 121,
   "id": "07ede5dd",
   "metadata": {},
   "outputs": [],
   "source": [
    "full_df['ventas_semanales'] = full_df['ventas_semanales'].astype(int)"
   ]
  },
  {
   "cell_type": "code",
   "execution_count": 122,
   "id": "11e41a61",
   "metadata": {},
   "outputs": [],
   "source": [
    "full_df.to_csv('DSMarketPrediction2.csv', index=True)"
   ]
  },
  {
   "cell_type": "code",
   "execution_count": null,
   "id": "5b1fc15d",
   "metadata": {},
   "outputs": [],
   "source": []
  },
  {
   "cell_type": "markdown",
   "id": "962ef69a",
   "metadata": {},
   "source": [
    "# Evaluar el modelo "
   ]
  },
  {
   "cell_type": "code",
   "execution_count": 123,
   "id": "116638a2",
   "metadata": {},
   "outputs": [
    {
     "name": "stdout",
     "output_type": "stream",
     "text": [
      "MAE: 3.5951689195895256\n",
      "MSE: 90.22074764474928\n",
      "RMSE: 9.498460277579166\n",
      "R^2: 0.6331382859795904\n"
     ]
    }
   ],
   "source": [
    "from sklearn.metrics import mean_absolute_error, mean_squared_error, r2_score\n",
    "import numpy as np\n",
    "\n",
    "# Calcular Mean Absolute Error (MAE)\n",
    "mae = mean_absolute_error(Y_valid, predictions)\n",
    "print(f'MAE: {mae}')\n",
    "\n",
    "# Calcular Mean Squared Error (MSE)\n",
    "mse = mean_squared_error(Y_valid, predictions)\n",
    "print(f'MSE: {mse}')\n",
    "\n",
    "# Calcular Root Mean Squared Error (RMSE)\n",
    "rmse = np.sqrt(mse)\n",
    "print(f'RMSE: {rmse}')\n",
    "\n",
    "# Calcular R-squared\n",
    "r2 = r2_score(Y_valid, predictions)\n",
    "print(f'R^2: {r2}')"
   ]
  },
  {
   "cell_type": "markdown",
   "id": "39c9a9ff",
   "metadata": {},
   "source": [
    "# Extracción de datos para predicción"
   ]
  },
  {
   "cell_type": "code",
   "execution_count": 124,
   "id": "b8d9254c",
   "metadata": {},
   "outputs": [],
   "source": [
    "# Ordenamos por fecha\n",
    "full_df.sort_index(level='date', inplace=True)\n",
    "\n",
    "# Obtenemos la fecha máxima\n",
    "last_date = full_df.index.get_level_values('date').max()\n",
    "\n",
    "# Calcula la fecha hace 3 semanas\n",
    "four_weeks_ago = last_date - pd.DateOffset(weeks=3)\n",
    "\n",
    "# Selecciona solo las filas de las últimas 4 semanas\n",
    "last_four_weeks_df = full_df[full_df.index.get_level_values('date') >= four_weeks_ago]"
   ]
  },
  {
   "cell_type": "markdown",
   "id": "bc43fb59",
   "metadata": {},
   "source": [
    "Reorganización de datos"
   ]
  },
  {
   "cell_type": "code",
   "execution_count": 125,
   "id": "6ec9f6a0",
   "metadata": {},
   "outputs": [
    {
     "data": {
      "text/plain": [
       "<DatetimeArray>\n",
       "['2016-05-01 00:00:00', '2016-05-08 00:00:00', '2016-05-15 00:00:00',\n",
       " '2016-05-22 00:00:00']\n",
       "Length: 4, dtype: datetime64[ns]"
      ]
     },
     "execution_count": 125,
     "metadata": {},
     "output_type": "execute_result"
    }
   ],
   "source": [
    "last_four_weeks_df = last_four_weeks_df.reset_index()\n",
    "\n",
    "last_four_weeks_df['date'].unique()"
   ]
  },
  {
   "cell_type": "code",
   "execution_count": 126,
   "id": "f95f9775",
   "metadata": {},
   "outputs": [],
   "source": [
    "pivot_df = last_four_weeks_df.pivot(index=['item', 'store_code'], columns='date', values='ventas_semanales')"
   ]
  },
  {
   "cell_type": "code",
   "execution_count": 127,
   "id": "f23cac53",
   "metadata": {},
   "outputs": [
    {
     "data": {
      "text/html": [
       "<div>\n",
       "<style scoped>\n",
       "    .dataframe tbody tr th:only-of-type {\n",
       "        vertical-align: middle;\n",
       "    }\n",
       "\n",
       "    .dataframe tbody tr th {\n",
       "        vertical-align: top;\n",
       "    }\n",
       "\n",
       "    .dataframe thead th {\n",
       "        text-align: right;\n",
       "    }\n",
       "</style>\n",
       "<table border=\"1\" class=\"dataframe\">\n",
       "  <thead>\n",
       "    <tr style=\"text-align: right;\">\n",
       "      <th></th>\n",
       "      <th>date</th>\n",
       "      <th>2016-05-01</th>\n",
       "      <th>2016-05-08</th>\n",
       "      <th>2016-05-15</th>\n",
       "      <th>2016-05-22</th>\n",
       "    </tr>\n",
       "    <tr>\n",
       "      <th>item</th>\n",
       "      <th>store_code</th>\n",
       "      <th></th>\n",
       "      <th></th>\n",
       "      <th></th>\n",
       "      <th></th>\n",
       "    </tr>\n",
       "  </thead>\n",
       "  <tbody>\n",
       "    <tr>\n",
       "      <th>HOME_&amp;_GARDEN_2_301</th>\n",
       "      <th>BOS_1</th>\n",
       "      <td>0</td>\n",
       "      <td>0</td>\n",
       "      <td>0</td>\n",
       "      <td>0</td>\n",
       "    </tr>\n",
       "    <tr>\n",
       "      <th>SUPERMARKET_1_118</th>\n",
       "      <th>BOS_3</th>\n",
       "      <td>1</td>\n",
       "      <td>0</td>\n",
       "      <td>1</td>\n",
       "      <td>0</td>\n",
       "    </tr>\n",
       "  </tbody>\n",
       "</table>\n",
       "</div>"
      ],
      "text/plain": [
       "date                            2016-05-01  2016-05-08  2016-05-15  2016-05-22\n",
       "item                store_code                                                \n",
       "HOME_&_GARDEN_2_301 BOS_1                0           0           0           0\n",
       "SUPERMARKET_1_118   BOS_3                1           0           1           0"
      ]
     },
     "execution_count": 127,
     "metadata": {},
     "output_type": "execute_result"
    }
   ],
   "source": [
    "pivot_df.sample(2)"
   ]
  },
  {
   "cell_type": "code",
   "execution_count": 128,
   "id": "57d72345",
   "metadata": {},
   "outputs": [
    {
     "name": "stdout",
     "output_type": "stream",
     "text": [
      "<class 'pandas.core.frame.DataFrame'>\n",
      "MultiIndex: 30490 entries, ('ACCESORIES_1_001', 'BOS_1') to ('SUPERMARKET_3_827', 'PHI_3')\n",
      "Data columns (total 4 columns):\n",
      " #   Column               Non-Null Count  Dtype\n",
      "---  ------               --------------  -----\n",
      " 0   2016-05-01 00:00:00  30490 non-null  int64\n",
      " 1   2016-05-08 00:00:00  30490 non-null  int64\n",
      " 2   2016-05-15 00:00:00  30490 non-null  int64\n",
      " 3   2016-05-22 00:00:00  30490 non-null  int64\n",
      "dtypes: int64(4)\n",
      "memory usage: 1.1+ MB\n"
     ]
    }
   ],
   "source": [
    "pivot_df.info()"
   ]
  },
  {
   "cell_type": "code",
   "execution_count": 129,
   "id": "a7c0a82a",
   "metadata": {},
   "outputs": [],
   "source": [
    "# Guarda el resultado en un archivo CSV\n",
    "pivot_df.to_csv('last_four_weeks.csv')"
   ]
  },
  {
   "cell_type": "code",
   "execution_count": 130,
   "id": "cf7a3691",
   "metadata": {},
   "outputs": [
    {
     "data": {
      "text/plain": [
       "33245372"
      ]
     },
     "execution_count": 130,
     "metadata": {},
     "output_type": "execute_result"
    }
   ],
   "source": [
    "full_df['ventas_semanales'].sum()\n",
    "#32822341"
   ]
  },
  {
   "cell_type": "code",
   "execution_count": 131,
   "id": "630593bf",
   "metadata": {},
   "outputs": [
    {
     "data": {
      "text/plain": [
       "<DatetimeArray>\n",
       "['2011-01-30 00:00:00', '2011-02-06 00:00:00', '2011-02-13 00:00:00',\n",
       " '2011-02-20 00:00:00', '2011-02-27 00:00:00', '2011-03-06 00:00:00',\n",
       " '2011-03-13 00:00:00', '2011-03-20 00:00:00', '2011-03-27 00:00:00',\n",
       " '2011-04-03 00:00:00',\n",
       " ...\n",
       " '2016-03-20 00:00:00', '2016-03-27 00:00:00', '2016-04-03 00:00:00',\n",
       " '2016-04-10 00:00:00', '2016-04-17 00:00:00', '2016-04-24 00:00:00',\n",
       " '2016-05-01 00:00:00', '2016-05-08 00:00:00', '2016-05-15 00:00:00',\n",
       " '2016-05-22 00:00:00']\n",
       "Length: 278, dtype: datetime64[ns]"
      ]
     },
     "execution_count": 131,
     "metadata": {},
     "output_type": "execute_result"
    }
   ],
   "source": [
    "full_df_test = full_df.reset_index()\n",
    "\n",
    "full_df_test['date'].unique()"
   ]
  },
  {
   "cell_type": "code",
   "execution_count": 132,
   "id": "48d6eb4d",
   "metadata": {},
   "outputs": [
    {
     "data": {
      "text/html": [
       "<div>\n",
       "<style scoped>\n",
       "    .dataframe tbody tr th:only-of-type {\n",
       "        vertical-align: middle;\n",
       "    }\n",
       "\n",
       "    .dataframe tbody tr th {\n",
       "        vertical-align: top;\n",
       "    }\n",
       "\n",
       "    .dataframe thead th {\n",
       "        text-align: right;\n",
       "    }\n",
       "</style>\n",
       "<table border=\"1\" class=\"dataframe\">\n",
       "  <thead>\n",
       "    <tr style=\"text-align: right;\">\n",
       "      <th></th>\n",
       "      <th></th>\n",
       "      <th>ventas_semanales</th>\n",
       "      <th>date_id_ventas_semanales_SUM_LAG1</th>\n",
       "      <th>rolling_mean_4w</th>\n",
       "      <th>rolling_mean_6m</th>\n",
       "      <th>rolling_std_4w</th>\n",
       "      <th>rolling_std_6m</th>\n",
       "    </tr>\n",
       "    <tr>\n",
       "      <th>item</th>\n",
       "      <th>store_code</th>\n",
       "      <th></th>\n",
       "      <th></th>\n",
       "      <th></th>\n",
       "      <th></th>\n",
       "      <th></th>\n",
       "      <th></th>\n",
       "    </tr>\n",
       "  </thead>\n",
       "  <tbody>\n",
       "    <tr>\n",
       "      <th rowspan=\"5\" valign=\"top\">ACCESORIES_1_001</th>\n",
       "      <th>BOS_1</th>\n",
       "      <td>2</td>\n",
       "      <td>3.0</td>\n",
       "      <td>1.75</td>\n",
       "      <td>1.083333</td>\n",
       "      <td>1.258306</td>\n",
       "      <td>1.100066</td>\n",
       "    </tr>\n",
       "    <tr>\n",
       "      <th>BOS_2</th>\n",
       "      <td>0</td>\n",
       "      <td>1.0</td>\n",
       "      <td>1.00</td>\n",
       "      <td>1.791667</td>\n",
       "      <td>0.816497</td>\n",
       "      <td>2.358687</td>\n",
       "    </tr>\n",
       "    <tr>\n",
       "      <th>BOS_3</th>\n",
       "      <td>0</td>\n",
       "      <td>0.0</td>\n",
       "      <td>0.75</td>\n",
       "      <td>2.041667</td>\n",
       "      <td>1.500000</td>\n",
       "      <td>2.595635</td>\n",
       "    </tr>\n",
       "    <tr>\n",
       "      <th>NYC_1</th>\n",
       "      <td>0</td>\n",
       "      <td>5.0</td>\n",
       "      <td>2.50</td>\n",
       "      <td>2.625000</td>\n",
       "      <td>2.886751</td>\n",
       "      <td>2.731658</td>\n",
       "    </tr>\n",
       "    <tr>\n",
       "      <th>NYC_2</th>\n",
       "      <td>6</td>\n",
       "      <td>6.0</td>\n",
       "      <td>5.50</td>\n",
       "      <td>2.541667</td>\n",
       "      <td>0.577350</td>\n",
       "      <td>2.977877</td>\n",
       "    </tr>\n",
       "    <tr>\n",
       "      <th>...</th>\n",
       "      <th>...</th>\n",
       "      <td>...</td>\n",
       "      <td>...</td>\n",
       "      <td>...</td>\n",
       "      <td>...</td>\n",
       "      <td>...</td>\n",
       "      <td>...</td>\n",
       "    </tr>\n",
       "    <tr>\n",
       "      <th rowspan=\"5\" valign=\"top\">SUPERMARKET_3_827</th>\n",
       "      <th>NYC_3</th>\n",
       "      <td>0</td>\n",
       "      <td>0.0</td>\n",
       "      <td>41.75</td>\n",
       "      <td>20.416667</td>\n",
       "      <td>83.500000</td>\n",
       "      <td>42.660354</td>\n",
       "    </tr>\n",
       "    <tr>\n",
       "      <th>NYC_4</th>\n",
       "      <td>0</td>\n",
       "      <td>0.0</td>\n",
       "      <td>0.25</td>\n",
       "      <td>0.041667</td>\n",
       "      <td>0.500000</td>\n",
       "      <td>0.204124</td>\n",
       "    </tr>\n",
       "    <tr>\n",
       "      <th>PHI_1</th>\n",
       "      <td>36</td>\n",
       "      <td>39.0</td>\n",
       "      <td>34.50</td>\n",
       "      <td>13.250000</td>\n",
       "      <td>5.196152</td>\n",
       "      <td>15.311973</td>\n",
       "    </tr>\n",
       "    <tr>\n",
       "      <th>PHI_2</th>\n",
       "      <td>0</td>\n",
       "      <td>29.0</td>\n",
       "      <td>12.50</td>\n",
       "      <td>7.291667</td>\n",
       "      <td>14.798649</td>\n",
       "      <td>9.341256</td>\n",
       "    </tr>\n",
       "    <tr>\n",
       "      <th>PHI_3</th>\n",
       "      <td>15</td>\n",
       "      <td>0.0</td>\n",
       "      <td>3.75</td>\n",
       "      <td>5.250000</td>\n",
       "      <td>7.500000</td>\n",
       "      <td>7.236682</td>\n",
       "    </tr>\n",
       "  </tbody>\n",
       "</table>\n",
       "<p>30490 rows × 6 columns</p>\n",
       "</div>"
      ],
      "text/plain": [
       "                              ventas_semanales   \n",
       "item              store_code                     \n",
       "ACCESORIES_1_001  BOS_1                      2  \\\n",
       "                  BOS_2                      0   \n",
       "                  BOS_3                      0   \n",
       "                  NYC_1                      0   \n",
       "                  NYC_2                      6   \n",
       "...                                        ...   \n",
       "SUPERMARKET_3_827 NYC_3                      0   \n",
       "                  NYC_4                      0   \n",
       "                  PHI_1                     36   \n",
       "                  PHI_2                      0   \n",
       "                  PHI_3                     15   \n",
       "\n",
       "                              date_id_ventas_semanales_SUM_LAG1   \n",
       "item              store_code                                      \n",
       "ACCESORIES_1_001  BOS_1                                     3.0  \\\n",
       "                  BOS_2                                     1.0   \n",
       "                  BOS_3                                     0.0   \n",
       "                  NYC_1                                     5.0   \n",
       "                  NYC_2                                     6.0   \n",
       "...                                                         ...   \n",
       "SUPERMARKET_3_827 NYC_3                                     0.0   \n",
       "                  NYC_4                                     0.0   \n",
       "                  PHI_1                                    39.0   \n",
       "                  PHI_2                                    29.0   \n",
       "                  PHI_3                                     0.0   \n",
       "\n",
       "                              rolling_mean_4w  rolling_mean_6m   \n",
       "item              store_code                                     \n",
       "ACCESORIES_1_001  BOS_1                  1.75         1.083333  \\\n",
       "                  BOS_2                  1.00         1.791667   \n",
       "                  BOS_3                  0.75         2.041667   \n",
       "                  NYC_1                  2.50         2.625000   \n",
       "                  NYC_2                  5.50         2.541667   \n",
       "...                                       ...              ...   \n",
       "SUPERMARKET_3_827 NYC_3                 41.75        20.416667   \n",
       "                  NYC_4                  0.25         0.041667   \n",
       "                  PHI_1                 34.50        13.250000   \n",
       "                  PHI_2                 12.50         7.291667   \n",
       "                  PHI_3                  3.75         5.250000   \n",
       "\n",
       "                              rolling_std_4w  rolling_std_6m  \n",
       "item              store_code                                  \n",
       "ACCESORIES_1_001  BOS_1             1.258306        1.100066  \n",
       "                  BOS_2             0.816497        2.358687  \n",
       "                  BOS_3             1.500000        2.595635  \n",
       "                  NYC_1             2.886751        2.731658  \n",
       "                  NYC_2             0.577350        2.977877  \n",
       "...                                      ...             ...  \n",
       "SUPERMARKET_3_827 NYC_3            83.500000       42.660354  \n",
       "                  NYC_4             0.500000        0.204124  \n",
       "                  PHI_1             5.196152       15.311973  \n",
       "                  PHI_2            14.798649        9.341256  \n",
       "                  PHI_3             7.500000        7.236682  \n",
       "\n",
       "[30490 rows x 6 columns]"
      ]
     },
     "execution_count": 132,
     "metadata": {},
     "output_type": "execute_result"
    }
   ],
   "source": [
    "date_to_select = pd.to_datetime('2016-03-20')\n",
    "selected_rows = full_df.xs(date_to_select, level='date')\n",
    "selected_rows"
   ]
  },
  {
   "cell_type": "code",
   "execution_count": 133,
   "id": "e1673778",
   "metadata": {},
   "outputs": [
    {
     "data": {
      "text/plain": [
       "146585"
      ]
     },
     "execution_count": 133,
     "metadata": {},
     "output_type": "execute_result"
    }
   ],
   "source": [
    "selected_rows['ventas_semanales'].sum()\n"
   ]
  },
  {
   "cell_type": "code",
   "execution_count": 134,
   "id": "dea57f6a",
   "metadata": {},
   "outputs": [
    {
     "data": {
      "text/plain": [
       "134441"
      ]
     },
     "execution_count": 134,
     "metadata": {},
     "output_type": "execute_result"
    }
   ],
   "source": [
    "pivot_df['2016-05-01'].sum()"
   ]
  },
  {
   "cell_type": "code",
   "execution_count": 135,
   "id": "dc73eb28",
   "metadata": {},
   "outputs": [
    {
     "data": {
      "text/html": [
       "<div>\n",
       "<style scoped>\n",
       "    .dataframe tbody tr th:only-of-type {\n",
       "        vertical-align: middle;\n",
       "    }\n",
       "\n",
       "    .dataframe tbody tr th {\n",
       "        vertical-align: top;\n",
       "    }\n",
       "\n",
       "    .dataframe thead th {\n",
       "        text-align: right;\n",
       "    }\n",
       "</style>\n",
       "<table border=\"1\" class=\"dataframe\">\n",
       "  <thead>\n",
       "    <tr style=\"text-align: right;\">\n",
       "      <th></th>\n",
       "      <th></th>\n",
       "      <th>ventas_semanales</th>\n",
       "      <th>date_id_ventas_semanales_SUM_LAG1</th>\n",
       "      <th>rolling_mean_4w</th>\n",
       "      <th>rolling_mean_6m</th>\n",
       "      <th>rolling_std_4w</th>\n",
       "      <th>rolling_std_6m</th>\n",
       "    </tr>\n",
       "    <tr>\n",
       "      <th>item</th>\n",
       "      <th>store_code</th>\n",
       "      <th></th>\n",
       "      <th></th>\n",
       "      <th></th>\n",
       "      <th></th>\n",
       "      <th></th>\n",
       "      <th></th>\n",
       "    </tr>\n",
       "  </thead>\n",
       "  <tbody>\n",
       "    <tr>\n",
       "      <th rowspan=\"5\" valign=\"top\">ACCESORIES_1_001</th>\n",
       "      <th>BOS_1</th>\n",
       "      <td>0</td>\n",
       "      <td>0.0</td>\n",
       "      <td>0.00</td>\n",
       "      <td>0.916667</td>\n",
       "      <td>0.000000</td>\n",
       "      <td>1.059806</td>\n",
       "    </tr>\n",
       "    <tr>\n",
       "      <th>BOS_2</th>\n",
       "      <td>2</td>\n",
       "      <td>1.0</td>\n",
       "      <td>1.00</td>\n",
       "      <td>1.916667</td>\n",
       "      <td>1.414214</td>\n",
       "      <td>2.282574</td>\n",
       "    </tr>\n",
       "    <tr>\n",
       "      <th>BOS_3</th>\n",
       "      <td>1</td>\n",
       "      <td>0.0</td>\n",
       "      <td>0.75</td>\n",
       "      <td>2.041667</td>\n",
       "      <td>1.500000</td>\n",
       "      <td>2.612331</td>\n",
       "    </tr>\n",
       "    <tr>\n",
       "      <th>NYC_1</th>\n",
       "      <td>6</td>\n",
       "      <td>8.0</td>\n",
       "      <td>6.25</td>\n",
       "      <td>3.083333</td>\n",
       "      <td>5.057997</td>\n",
       "      <td>3.549852</td>\n",
       "    </tr>\n",
       "    <tr>\n",
       "      <th>NYC_2</th>\n",
       "      <td>2</td>\n",
       "      <td>0.0</td>\n",
       "      <td>0.50</td>\n",
       "      <td>2.666667</td>\n",
       "      <td>1.000000</td>\n",
       "      <td>2.973311</td>\n",
       "    </tr>\n",
       "    <tr>\n",
       "      <th>...</th>\n",
       "      <th>...</th>\n",
       "      <td>...</td>\n",
       "      <td>...</td>\n",
       "      <td>...</td>\n",
       "      <td>...</td>\n",
       "      <td>...</td>\n",
       "      <td>...</td>\n",
       "    </tr>\n",
       "    <tr>\n",
       "      <th rowspan=\"5\" valign=\"top\">SUPERMARKET_3_827</th>\n",
       "      <th>NYC_3</th>\n",
       "      <td>0</td>\n",
       "      <td>0.0</td>\n",
       "      <td>0.00</td>\n",
       "      <td>18.500000</td>\n",
       "      <td>0.000000</td>\n",
       "      <td>42.934733</td>\n",
       "    </tr>\n",
       "    <tr>\n",
       "      <th>NYC_4</th>\n",
       "      <td>20</td>\n",
       "      <td>22.0</td>\n",
       "      <td>5.50</td>\n",
       "      <td>2.166667</td>\n",
       "      <td>11.000000</td>\n",
       "      <td>7.263169</td>\n",
       "    </tr>\n",
       "    <tr>\n",
       "      <th>PHI_1</th>\n",
       "      <td>16</td>\n",
       "      <td>15.0</td>\n",
       "      <td>12.75</td>\n",
       "      <td>12.541667</td>\n",
       "      <td>17.036725</td>\n",
       "      <td>15.251455</td>\n",
       "    </tr>\n",
       "    <tr>\n",
       "      <th>PHI_2</th>\n",
       "      <td>11</td>\n",
       "      <td>12.0</td>\n",
       "      <td>12.75</td>\n",
       "      <td>8.666667</td>\n",
       "      <td>9.429563</td>\n",
       "      <td>9.521905</td>\n",
       "    </tr>\n",
       "    <tr>\n",
       "      <th>PHI_3</th>\n",
       "      <td>2</td>\n",
       "      <td>0.0</td>\n",
       "      <td>2.00</td>\n",
       "      <td>3.375000</td>\n",
       "      <td>4.000000</td>\n",
       "      <td>5.419871</td>\n",
       "    </tr>\n",
       "  </tbody>\n",
       "</table>\n",
       "<p>30490 rows × 6 columns</p>\n",
       "</div>"
      ],
      "text/plain": [
       "                              ventas_semanales   \n",
       "item              store_code                     \n",
       "ACCESORIES_1_001  BOS_1                      0  \\\n",
       "                  BOS_2                      2   \n",
       "                  BOS_3                      1   \n",
       "                  NYC_1                      6   \n",
       "                  NYC_2                      2   \n",
       "...                                        ...   \n",
       "SUPERMARKET_3_827 NYC_3                      0   \n",
       "                  NYC_4                     20   \n",
       "                  PHI_1                     16   \n",
       "                  PHI_2                     11   \n",
       "                  PHI_3                      2   \n",
       "\n",
       "                              date_id_ventas_semanales_SUM_LAG1   \n",
       "item              store_code                                      \n",
       "ACCESORIES_1_001  BOS_1                                     0.0  \\\n",
       "                  BOS_2                                     1.0   \n",
       "                  BOS_3                                     0.0   \n",
       "                  NYC_1                                     8.0   \n",
       "                  NYC_2                                     0.0   \n",
       "...                                                         ...   \n",
       "SUPERMARKET_3_827 NYC_3                                     0.0   \n",
       "                  NYC_4                                    22.0   \n",
       "                  PHI_1                                    15.0   \n",
       "                  PHI_2                                    12.0   \n",
       "                  PHI_3                                     0.0   \n",
       "\n",
       "                              rolling_mean_4w  rolling_mean_6m   \n",
       "item              store_code                                     \n",
       "ACCESORIES_1_001  BOS_1                  0.00         0.916667  \\\n",
       "                  BOS_2                  1.00         1.916667   \n",
       "                  BOS_3                  0.75         2.041667   \n",
       "                  NYC_1                  6.25         3.083333   \n",
       "                  NYC_2                  0.50         2.666667   \n",
       "...                                       ...              ...   \n",
       "SUPERMARKET_3_827 NYC_3                  0.00        18.500000   \n",
       "                  NYC_4                  5.50         2.166667   \n",
       "                  PHI_1                 12.75        12.541667   \n",
       "                  PHI_2                 12.75         8.666667   \n",
       "                  PHI_3                  2.00         3.375000   \n",
       "\n",
       "                              rolling_std_4w  rolling_std_6m  \n",
       "item              store_code                                  \n",
       "ACCESORIES_1_001  BOS_1             0.000000        1.059806  \n",
       "                  BOS_2             1.414214        2.282574  \n",
       "                  BOS_3             1.500000        2.612331  \n",
       "                  NYC_1             5.057997        3.549852  \n",
       "                  NYC_2             1.000000        2.973311  \n",
       "...                                      ...             ...  \n",
       "SUPERMARKET_3_827 NYC_3             0.000000       42.934733  \n",
       "                  NYC_4            11.000000        7.263169  \n",
       "                  PHI_1            17.036725       15.251455  \n",
       "                  PHI_2             9.429563        9.521905  \n",
       "                  PHI_3             4.000000        5.419871  \n",
       "\n",
       "[30490 rows x 6 columns]"
      ]
     },
     "execution_count": 135,
     "metadata": {},
     "output_type": "execute_result"
    }
   ],
   "source": [
    "date_to_select = pd.to_datetime('2016-05-01')\n",
    "selected_rows = full_df.xs(date_to_select, level='date')\n",
    "selected_rows"
   ]
  },
  {
   "cell_type": "code",
   "execution_count": 136,
   "id": "19468b0d",
   "metadata": {},
   "outputs": [
    {
     "data": {
      "text/plain": [
       "134441"
      ]
     },
     "execution_count": 136,
     "metadata": {},
     "output_type": "execute_result"
    }
   ],
   "source": [
    "selected_rows['ventas_semanales'].sum()"
   ]
  },
  {
   "cell_type": "code",
   "execution_count": null,
   "id": "29040ce6",
   "metadata": {},
   "outputs": [],
   "source": []
  }
 ],
 "metadata": {
  "kernelspec": {
   "display_name": "Python 3 (ipykernel)",
   "language": "python",
   "name": "python3"
  },
  "language_info": {
   "codemirror_mode": {
    "name": "ipython",
    "version": 3
   },
   "file_extension": ".py",
   "mimetype": "text/x-python",
   "name": "python",
   "nbconvert_exporter": "python",
   "pygments_lexer": "ipython3",
   "version": "3.11.3"
  }
 },
 "nbformat": 4,
 "nbformat_minor": 5
}
